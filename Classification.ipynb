{
 "cells": [
  {
   "cell_type": "markdown",
   "metadata": {},
   "source": [
    "## OBJECTIVE"
   ]
  },
  {
   "cell_type": "markdown",
   "metadata": {},
   "source": [
    "The objective of this project is:"
   ]
  },
  {
   "cell_type": "markdown",
   "metadata": {},
   "source": [
    "Apply machine learning techniques and determine which algorithm works better on diabetes dataset."
   ]
  },
  {
   "cell_type": "code",
   "execution_count": 11,
   "metadata": {},
   "outputs": [],
   "source": [
    "#load required packages\n",
    "\n",
    "import numpy as np\n",
    "import pandas as pd \n",
    "import statsmodels.api as sm\n",
    "import statsmodels.formula.api as smf\n",
    "import seaborn as sns\n",
    "from sklearn.preprocessing import scale \n",
    "from sklearn.model_selection import train_test_split, GridSearchCV, cross_val_score\n",
    "from sklearn.metrics import confusion_matrix, accuracy_score, classification_report\n",
    "from sklearn.metrics import roc_auc_score,roc_curve\n",
    "import statsmodels.formula.api as smf\n",
    "import matplotlib.pyplot as plt\n",
    "from sklearn.neighbors import KNeighborsClassifier\n",
    "from sklearn.discriminant_analysis import LinearDiscriminantAnalysis\n",
    "from sklearn.linear_model import LogisticRegression\n",
    "from sklearn.svm import SVC\n",
    "from sklearn.naive_bayes import GaussianNB\n",
    "from sklearn import tree\n",
    "from sklearn.ensemble import RandomForestClassifier\n",
    "from sklearn.ensemble import GradientBoostingClassifier\n",
    "from xgboost import XGBClassifier\n",
    "from lightgbm import LGBMClassifier\n",
    "from catboost import CatBoostClassifier\n",
    "\n",
    "from warnings import filterwarnings\n",
    "filterwarnings('ignore')"
   ]
  },
  {
   "cell_type": "markdown",
   "metadata": {},
   "source": [
    "# Lojistik Regression"
   ]
  },
  {
   "cell_type": "markdown",
   "metadata": {},
   "source": [
    "## Model "
   ]
  },
  {
   "cell_type": "code",
   "execution_count": 427,
   "metadata": {},
   "outputs": [
    {
     "data": {
      "text/html": [
       "<div>\n",
       "<style scoped>\n",
       "    .dataframe tbody tr th:only-of-type {\n",
       "        vertical-align: middle;\n",
       "    }\n",
       "\n",
       "    .dataframe tbody tr th {\n",
       "        vertical-align: top;\n",
       "    }\n",
       "\n",
       "    .dataframe thead th {\n",
       "        text-align: right;\n",
       "    }\n",
       "</style>\n",
       "<table border=\"1\" class=\"dataframe\">\n",
       "  <thead>\n",
       "    <tr style=\"text-align: right;\">\n",
       "      <th></th>\n",
       "      <th>Pregnancies</th>\n",
       "      <th>Glucose</th>\n",
       "      <th>BloodPressure</th>\n",
       "      <th>SkinThickness</th>\n",
       "      <th>Insulin</th>\n",
       "      <th>BMI</th>\n",
       "      <th>DiabetesPedigreeFunction</th>\n",
       "      <th>Age</th>\n",
       "      <th>Outcome</th>\n",
       "    </tr>\n",
       "  </thead>\n",
       "  <tbody>\n",
       "    <tr>\n",
       "      <th>0</th>\n",
       "      <td>6</td>\n",
       "      <td>148</td>\n",
       "      <td>72</td>\n",
       "      <td>35</td>\n",
       "      <td>0</td>\n",
       "      <td>33.6</td>\n",
       "      <td>0.627</td>\n",
       "      <td>50</td>\n",
       "      <td>1</td>\n",
       "    </tr>\n",
       "    <tr>\n",
       "      <th>1</th>\n",
       "      <td>1</td>\n",
       "      <td>85</td>\n",
       "      <td>66</td>\n",
       "      <td>29</td>\n",
       "      <td>0</td>\n",
       "      <td>26.6</td>\n",
       "      <td>0.351</td>\n",
       "      <td>31</td>\n",
       "      <td>0</td>\n",
       "    </tr>\n",
       "    <tr>\n",
       "      <th>2</th>\n",
       "      <td>8</td>\n",
       "      <td>183</td>\n",
       "      <td>64</td>\n",
       "      <td>0</td>\n",
       "      <td>0</td>\n",
       "      <td>23.3</td>\n",
       "      <td>0.672</td>\n",
       "      <td>32</td>\n",
       "      <td>1</td>\n",
       "    </tr>\n",
       "    <tr>\n",
       "      <th>3</th>\n",
       "      <td>1</td>\n",
       "      <td>89</td>\n",
       "      <td>66</td>\n",
       "      <td>23</td>\n",
       "      <td>94</td>\n",
       "      <td>28.1</td>\n",
       "      <td>0.167</td>\n",
       "      <td>21</td>\n",
       "      <td>0</td>\n",
       "    </tr>\n",
       "    <tr>\n",
       "      <th>4</th>\n",
       "      <td>0</td>\n",
       "      <td>137</td>\n",
       "      <td>40</td>\n",
       "      <td>35</td>\n",
       "      <td>168</td>\n",
       "      <td>43.1</td>\n",
       "      <td>2.288</td>\n",
       "      <td>33</td>\n",
       "      <td>1</td>\n",
       "    </tr>\n",
       "  </tbody>\n",
       "</table>\n",
       "</div>"
      ],
      "text/plain": [
       "   Pregnancies  Glucose  BloodPressure  SkinThickness  Insulin   BMI  \\\n",
       "0            6      148             72             35        0  33.6   \n",
       "1            1       85             66             29        0  26.6   \n",
       "2            8      183             64              0        0  23.3   \n",
       "3            1       89             66             23       94  28.1   \n",
       "4            0      137             40             35      168  43.1   \n",
       "\n",
       "   DiabetesPedigreeFunction  Age  Outcome  \n",
       "0                     0.627   50        1  \n",
       "1                     0.351   31        0  \n",
       "2                     0.672   32        1  \n",
       "3                     0.167   21        0  \n",
       "4                     2.288   33        1  "
      ]
     },
     "execution_count": 427,
     "metadata": {},
     "output_type": "execute_result"
    }
   ],
   "source": [
    "diabetes = pd.read_csv(\"diabetes.csv\")\n",
    "df = diabetes.copy()\n",
    "df = df.dropna()\n",
    "df.head()"
   ]
  },
  {
   "cell_type": "code",
   "execution_count": 428,
   "metadata": {},
   "outputs": [
    {
     "name": "stdout",
     "output_type": "stream",
     "text": [
      "<class 'pandas.core.frame.DataFrame'>\n",
      "Int64Index: 768 entries, 0 to 767\n",
      "Data columns (total 9 columns):\n",
      " #   Column                    Non-Null Count  Dtype  \n",
      "---  ------                    --------------  -----  \n",
      " 0   Pregnancies               768 non-null    int64  \n",
      " 1   Glucose                   768 non-null    int64  \n",
      " 2   BloodPressure             768 non-null    int64  \n",
      " 3   SkinThickness             768 non-null    int64  \n",
      " 4   Insulin                   768 non-null    int64  \n",
      " 5   BMI                       768 non-null    float64\n",
      " 6   DiabetesPedigreeFunction  768 non-null    float64\n",
      " 7   Age                       768 non-null    int64  \n",
      " 8   Outcome                   768 non-null    int64  \n",
      "dtypes: float64(2), int64(7)\n",
      "memory usage: 60.0 KB\n"
     ]
    }
   ],
   "source": [
    "df.info()"
   ]
  },
  {
   "cell_type": "code",
   "execution_count": 429,
   "metadata": {},
   "outputs": [
    {
     "data": {
      "text/plain": [
       "0    500\n",
       "1    268\n",
       "Name: Outcome, dtype: int64"
      ]
     },
     "execution_count": 429,
     "metadata": {},
     "output_type": "execute_result"
    }
   ],
   "source": [
    "df[\"Outcome\"].value_counts()"
   ]
  },
  {
   "cell_type": "code",
   "execution_count": 430,
   "metadata": {},
   "outputs": [
    {
     "data": {
      "image/png": "[encoded data removed]",
      "text/plain": [
       "<Figure size 432x288 with 1 Axes>"
      ]
     },
     "metadata": {
      "needs_background": "light"
     },
     "output_type": "display_data"
    }
   ],
   "source": [
    "df[\"Outcome\"].value_counts().plot.barh();"
   ]
  },
  {
   "cell_type": "code",
   "execution_count": 431,
   "metadata": {},
   "outputs": [
    {
     "data": {
      "text/html": [
       "<div>\n",
       "<style scoped>\n",
       "    .dataframe tbody tr th:only-of-type {\n",
       "        vertical-align: middle;\n",
       "    }\n",
       "\n",
       "    .dataframe tbody tr th {\n",
       "        vertical-align: top;\n",
       "    }\n",
       "\n",
       "    .dataframe thead th {\n",
       "        text-align: right;\n",
       "    }\n",
       "</style>\n",
       "<table border=\"1\" class=\"dataframe\">\n",
       "  <thead>\n",
       "    <tr style=\"text-align: right;\">\n",
       "      <th></th>\n",
       "      <th>count</th>\n",
       "      <th>mean</th>\n",
       "      <th>std</th>\n",
       "      <th>min</th>\n",
       "      <th>25%</th>\n",
       "      <th>50%</th>\n",
       "      <th>75%</th>\n",
       "      <th>max</th>\n",
       "    </tr>\n",
       "  </thead>\n",
       "  <tbody>\n",
       "    <tr>\n",
       "      <th>Pregnancies</th>\n",
       "      <td>768.0</td>\n",
       "      <td>3.845052</td>\n",
       "      <td>3.369578</td>\n",
       "      <td>0.000</td>\n",
       "      <td>1.00000</td>\n",
       "      <td>3.0000</td>\n",
       "      <td>6.00000</td>\n",
       "      <td>17.00</td>\n",
       "    </tr>\n",
       "    <tr>\n",
       "      <th>Glucose</th>\n",
       "      <td>768.0</td>\n",
       "      <td>120.894531</td>\n",
       "      <td>31.972618</td>\n",
       "      <td>0.000</td>\n",
       "      <td>99.00000</td>\n",
       "      <td>117.0000</td>\n",
       "      <td>140.25000</td>\n",
       "      <td>199.00</td>\n",
       "    </tr>\n",
       "    <tr>\n",
       "      <th>BloodPressure</th>\n",
       "      <td>768.0</td>\n",
       "      <td>69.105469</td>\n",
       "      <td>19.355807</td>\n",
       "      <td>0.000</td>\n",
       "      <td>62.00000</td>\n",
       "      <td>72.0000</td>\n",
       "      <td>80.00000</td>\n",
       "      <td>122.00</td>\n",
       "    </tr>\n",
       "    <tr>\n",
       "      <th>SkinThickness</th>\n",
       "      <td>768.0</td>\n",
       "      <td>20.536458</td>\n",
       "      <td>15.952218</td>\n",
       "      <td>0.000</td>\n",
       "      <td>0.00000</td>\n",
       "      <td>23.0000</td>\n",
       "      <td>32.00000</td>\n",
       "      <td>99.00</td>\n",
       "    </tr>\n",
       "    <tr>\n",
       "      <th>Insulin</th>\n",
       "      <td>768.0</td>\n",
       "      <td>79.799479</td>\n",
       "      <td>115.244002</td>\n",
       "      <td>0.000</td>\n",
       "      <td>0.00000</td>\n",
       "      <td>30.5000</td>\n",
       "      <td>127.25000</td>\n",
       "      <td>846.00</td>\n",
       "    </tr>\n",
       "    <tr>\n",
       "      <th>BMI</th>\n",
       "      <td>768.0</td>\n",
       "      <td>31.992578</td>\n",
       "      <td>7.884160</td>\n",
       "      <td>0.000</td>\n",
       "      <td>27.30000</td>\n",
       "      <td>32.0000</td>\n",
       "      <td>36.60000</td>\n",
       "      <td>67.10</td>\n",
       "    </tr>\n",
       "    <tr>\n",
       "      <th>DiabetesPedigreeFunction</th>\n",
       "      <td>768.0</td>\n",
       "      <td>0.471876</td>\n",
       "      <td>0.331329</td>\n",
       "      <td>0.078</td>\n",
       "      <td>0.24375</td>\n",
       "      <td>0.3725</td>\n",
       "      <td>0.62625</td>\n",
       "      <td>2.42</td>\n",
       "    </tr>\n",
       "    <tr>\n",
       "      <th>Age</th>\n",
       "      <td>768.0</td>\n",
       "      <td>33.240885</td>\n",
       "      <td>11.760232</td>\n",
       "      <td>21.000</td>\n",
       "      <td>24.00000</td>\n",
       "      <td>29.0000</td>\n",
       "      <td>41.00000</td>\n",
       "      <td>81.00</td>\n",
       "    </tr>\n",
       "    <tr>\n",
       "      <th>Outcome</th>\n",
       "      <td>768.0</td>\n",
       "      <td>0.348958</td>\n",
       "      <td>0.476951</td>\n",
       "      <td>0.000</td>\n",
       "      <td>0.00000</td>\n",
       "      <td>0.0000</td>\n",
       "      <td>1.00000</td>\n",
       "      <td>1.00</td>\n",
       "    </tr>\n",
       "  </tbody>\n",
       "</table>\n",
       "</div>"
      ],
      "text/plain": [
       "                          count        mean         std     min       25%  \\\n",
       "Pregnancies               768.0    3.845052    3.369578   0.000   1.00000   \n",
       "Glucose                   768.0  120.894531   31.972618   0.000  99.00000   \n",
       "BloodPressure             768.0   69.105469   19.355807   0.000  62.00000   \n",
       "SkinThickness             768.0   20.536458   15.952218   0.000   0.00000   \n",
       "Insulin                   768.0   79.799479  115.244002   0.000   0.00000   \n",
       "BMI                       768.0   31.992578    7.884160   0.000  27.30000   \n",
       "DiabetesPedigreeFunction  768.0    0.471876    0.331329   0.078   0.24375   \n",
       "Age                       768.0   33.240885   11.760232  21.000  24.00000   \n",
       "Outcome                   768.0    0.348958    0.476951   0.000   0.00000   \n",
       "\n",
       "                               50%        75%     max  \n",
       "Pregnancies                 3.0000    6.00000   17.00  \n",
       "Glucose                   117.0000  140.25000  199.00  \n",
       "BloodPressure              72.0000   80.00000  122.00  \n",
       "SkinThickness              23.0000   32.00000   99.00  \n",
       "Insulin                    30.5000  127.25000  846.00  \n",
       "BMI                        32.0000   36.60000   67.10  \n",
       "DiabetesPedigreeFunction    0.3725    0.62625    2.42  \n",
       "Age                        29.0000   41.00000   81.00  \n",
       "Outcome                     0.0000    1.00000    1.00  "
      ]
     },
     "execution_count": 431,
     "metadata": {},
     "output_type": "execute_result"
    }
   ],
   "source": [
    "df.describe().T"
   ]
  },
  {
   "cell_type": "code",
   "execution_count": 432,
   "metadata": {},
   "outputs": [],
   "source": [
    "y = df[\"Outcome\"]\n",
    "X = df.drop([\"Outcome\"], axis=1)"
   ]
  },
  {
   "cell_type": "code",
   "execution_count": 9,
   "metadata": {},
   "outputs": [],
   "source": [
    "# using statsmodels"
   ]
  },
  {
   "cell_type": "code",
   "execution_count": 433,
   "metadata": {},
   "outputs": [
    {
     "name": "stdout",
     "output_type": "stream",
     "text": [
      "Optimization terminated successfully.\n",
      "         Current function value: 0.608498\n",
      "         Iterations 5\n"
     ]
    },
    {
     "data": {
      "text/html": [
       "<table class=\"simpletable\">\n",
       "<caption>Logit Regression Results</caption>\n",
       "<tr>\n",
       "  <th>Dep. Variable:</th>        <td>Outcome</td>     <th>  No. Observations:  </th>  <td>   768</td>  \n",
       "</tr>\n",
       "<tr>\n",
       "  <th>Model:</th>                 <td>Logit</td>      <th>  Df Residuals:      </th>  <td>   760</td>  \n",
       "</tr>\n",
       "<tr>\n",
       "  <th>Method:</th>                 <td>MLE</td>       <th>  Df Model:          </th>  <td>     7</td>  \n",
       "</tr>\n",
       "<tr>\n",
       "  <th>Date:</th>            <td>Wed, 02 Jun 2021</td> <th>  Pseudo R-squ.:     </th>  <td>0.05922</td> \n",
       "</tr>\n",
       "<tr>\n",
       "  <th>Time:</th>                <td>23:36:10</td>     <th>  Log-Likelihood:    </th> <td> -467.33</td> \n",
       "</tr>\n",
       "<tr>\n",
       "  <th>converged:</th>             <td>True</td>       <th>  LL-Null:           </th> <td> -496.74</td> \n",
       "</tr>\n",
       "<tr>\n",
       "  <th>Covariance Type:</th>     <td>nonrobust</td>    <th>  LLR p-value:       </th> <td>2.583e-10</td>\n",
       "</tr>\n",
       "</table>\n",
       "<table class=\"simpletable\">\n",
       "<tr>\n",
       "              <td></td>                <th>coef</th>     <th>std err</th>      <th>z</th>      <th>P>|z|</th>  <th>[0.025</th>    <th>0.975]</th>  \n",
       "</tr>\n",
       "<tr>\n",
       "  <th>Pregnancies</th>              <td>    0.1284</td> <td>    0.029</td> <td>    4.484</td> <td> 0.000</td> <td>    0.072</td> <td>    0.185</td>\n",
       "</tr>\n",
       "<tr>\n",
       "  <th>Glucose</th>                  <td>    0.0129</td> <td>    0.003</td> <td>    4.757</td> <td> 0.000</td> <td>    0.008</td> <td>    0.018</td>\n",
       "</tr>\n",
       "<tr>\n",
       "  <th>BloodPressure</th>            <td>   -0.0303</td> <td>    0.005</td> <td>   -6.481</td> <td> 0.000</td> <td>   -0.039</td> <td>   -0.021</td>\n",
       "</tr>\n",
       "<tr>\n",
       "  <th>SkinThickness</th>            <td>    0.0002</td> <td>    0.006</td> <td>    0.032</td> <td> 0.974</td> <td>   -0.012</td> <td>    0.012</td>\n",
       "</tr>\n",
       "<tr>\n",
       "  <th>Insulin</th>                  <td>    0.0007</td> <td>    0.001</td> <td>    0.942</td> <td> 0.346</td> <td>   -0.001</td> <td>    0.002</td>\n",
       "</tr>\n",
       "<tr>\n",
       "  <th>BMI</th>                      <td>   -0.0048</td> <td>    0.011</td> <td>   -0.449</td> <td> 0.653</td> <td>   -0.026</td> <td>    0.016</td>\n",
       "</tr>\n",
       "<tr>\n",
       "  <th>DiabetesPedigreeFunction</th> <td>    0.3203</td> <td>    0.240</td> <td>    1.335</td> <td> 0.182</td> <td>   -0.150</td> <td>    0.790</td>\n",
       "</tr>\n",
       "<tr>\n",
       "  <th>Age</th>                      <td>   -0.0156</td> <td>    0.008</td> <td>   -1.852</td> <td> 0.064</td> <td>   -0.032</td> <td>    0.001</td>\n",
       "</tr>\n",
       "</table>"
      ],
      "text/plain": [
       "<class 'statsmodels.iolib.summary.Summary'>\n",
       "\"\"\"\n",
       "                           Logit Regression Results                           \n",
       "==============================================================================\n",
       "Dep. Variable:                Outcome   No. Observations:                  768\n",
       "Model:                          Logit   Df Residuals:                      760\n",
       "Method:                           MLE   Df Model:                            7\n",
       "Date:                Wed, 02 Jun 2021   Pseudo R-squ.:                 0.05922\n",
       "Time:                        23:36:10   Log-Likelihood:                -467.33\n",
       "converged:                       True   LL-Null:                       -496.74\n",
       "Covariance Type:            nonrobust   LLR p-value:                 2.583e-10\n",
       "============================================================================================\n",
       "                               coef    std err          z      P>|z|      [0.025      0.975]\n",
       "--------------------------------------------------------------------------------------------\n",
       "Pregnancies                  0.1284      0.029      4.484      0.000       0.072       0.185\n",
       "Glucose                      0.0129      0.003      4.757      0.000       0.008       0.018\n",
       "BloodPressure               -0.0303      0.005     -6.481      0.000      -0.039      -0.021\n",
       "SkinThickness                0.0002      0.006      0.032      0.974      -0.012       0.012\n",
       "Insulin                      0.0007      0.001      0.942      0.346      -0.001       0.002\n",
       "BMI                         -0.0048      0.011     -0.449      0.653      -0.026       0.016\n",
       "DiabetesPedigreeFunction     0.3203      0.240      1.335      0.182      -0.150       0.790\n",
       "Age                         -0.0156      0.008     -1.852      0.064      -0.032       0.001\n",
       "============================================================================================\n",
       "\"\"\""
      ]
     },
     "execution_count": 433,
     "metadata": {},
     "output_type": "execute_result"
    }
   ],
   "source": [
    "#1st Iteration - 8 variables\n",
    "loj = sm.Logit(y, X)\n",
    "loj_model= loj.fit()\n",
    "loj_model.summary()"
   ]
  },
  {
   "cell_type": "code",
   "execution_count": 434,
   "metadata": {},
   "outputs": [],
   "source": [
    "#This model can explain 60% of the variation in dependent variable. \n",
    "#SkinThickness,Insulin ,BMI, Diabetes Pedigree Function, Age are attributes to be eliminated in the next model\n",
    "#as variables that influence the outcome should have a p-value less than 0.05,however in the next algorithms\n",
    "#i am gonna use X= df.drop([\"Outcome\"], axis=1) for consistency"
   ]
  },
  {
   "cell_type": "code",
   "execution_count": 435,
   "metadata": {},
   "outputs": [
    {
     "name": "stdout",
     "output_type": "stream",
     "text": [
      "Optimization terminated successfully.\n",
      "         Current function value: 0.613118\n",
      "         Iterations 5\n"
     ]
    },
    {
     "data": {
      "text/html": [
       "<table class=\"simpletable\">\n",
       "<caption>Logit Regression Results</caption>\n",
       "<tr>\n",
       "  <th>Dep. Variable:</th>        <td>Outcome</td>     <th>  No. Observations:  </th>  <td>   768</td>  \n",
       "</tr>\n",
       "<tr>\n",
       "  <th>Model:</th>                 <td>Logit</td>      <th>  Df Residuals:      </th>  <td>   765</td>  \n",
       "</tr>\n",
       "<tr>\n",
       "  <th>Method:</th>                 <td>MLE</td>       <th>  Df Model:          </th>  <td>     2</td>  \n",
       "</tr>\n",
       "<tr>\n",
       "  <th>Date:</th>            <td>Wed, 02 Jun 2021</td> <th>  Pseudo R-squ.:     </th>  <td>0.05207</td> \n",
       "</tr>\n",
       "<tr>\n",
       "  <th>Time:</th>                <td>23:36:15</td>     <th>  Log-Likelihood:    </th> <td> -470.87</td> \n",
       "</tr>\n",
       "<tr>\n",
       "  <th>converged:</th>             <td>True</td>       <th>  LL-Null:           </th> <td> -496.74</td> \n",
       "</tr>\n",
       "<tr>\n",
       "  <th>Covariance Type:</th>     <td>nonrobust</td>    <th>  LLR p-value:       </th> <td>5.835e-12</td>\n",
       "</tr>\n",
       "</table>\n",
       "<table class=\"simpletable\">\n",
       "<tr>\n",
       "        <td></td>           <th>coef</th>     <th>std err</th>      <th>z</th>      <th>P>|z|</th>  <th>[0.025</th>    <th>0.975]</th>  \n",
       "</tr>\n",
       "<tr>\n",
       "  <th>Pregnancies</th>   <td>    0.0951</td> <td>    0.024</td> <td>    3.996</td> <td> 0.000</td> <td>    0.048</td> <td>    0.142</td>\n",
       "</tr>\n",
       "<tr>\n",
       "  <th>Glucose</th>       <td>    0.0122</td> <td>    0.002</td> <td>    5.804</td> <td> 0.000</td> <td>    0.008</td> <td>    0.016</td>\n",
       "</tr>\n",
       "<tr>\n",
       "  <th>BloodPressure</th> <td>   -0.0335</td> <td>    0.004</td> <td>   -8.692</td> <td> 0.000</td> <td>   -0.041</td> <td>   -0.026</td>\n",
       "</tr>\n",
       "</table>"
      ],
      "text/plain": [
       "<class 'statsmodels.iolib.summary.Summary'>\n",
       "\"\"\"\n",
       "                           Logit Regression Results                           \n",
       "==============================================================================\n",
       "Dep. Variable:                Outcome   No. Observations:                  768\n",
       "Model:                          Logit   Df Residuals:                      765\n",
       "Method:                           MLE   Df Model:                            2\n",
       "Date:                Wed, 02 Jun 2021   Pseudo R-squ.:                 0.05207\n",
       "Time:                        23:36:15   Log-Likelihood:                -470.87\n",
       "converged:                       True   LL-Null:                       -496.74\n",
       "Covariance Type:            nonrobust   LLR p-value:                 5.835e-12\n",
       "=================================================================================\n",
       "                    coef    std err          z      P>|z|      [0.025      0.975]\n",
       "---------------------------------------------------------------------------------\n",
       "Pregnancies       0.0951      0.024      3.996      0.000       0.048       0.142\n",
       "Glucose           0.0122      0.002      5.804      0.000       0.008       0.016\n",
       "BloodPressure    -0.0335      0.004     -8.692      0.000      -0.041      -0.026\n",
       "=================================================================================\n",
       "\"\"\""
      ]
     },
     "execution_count": 435,
     "metadata": {},
     "output_type": "execute_result"
    }
   ],
   "source": [
    "#2nd Iteration - 3 variables\n",
    "var2=[\"Pregnancies\", \"Glucose\",\"BloodPressure\"]\n",
    "X=df[var2]\n",
    "logit_model=sm.Logit(y,X)\n",
    "result=logit_model.fit()\n",
    "result.summary()"
   ]
  },
  {
   "cell_type": "code",
   "execution_count": 436,
   "metadata": {},
   "outputs": [],
   "source": [
    "#This model can explain 61% of the variation in dependent variable. All the variables show a p-value < 0.005."
   ]
  },
  {
   "cell_type": "code",
   "execution_count": 437,
   "metadata": {},
   "outputs": [],
   "source": [
    "#scikit-learn"
   ]
  },
  {
   "cell_type": "code",
   "execution_count": 438,
   "metadata": {},
   "outputs": [
    {
     "data": {
      "text/plain": [
       "LogisticRegression(solver='liblinear')"
      ]
     },
     "execution_count": 438,
     "metadata": {},
     "output_type": "execute_result"
    }
   ],
   "source": [
    "from sklearn.linear_model import LogisticRegression\n",
    "loj = LogisticRegression(solver = \"liblinear\")\n",
    "loj_model = loj.fit(X,y)\n",
    "loj_model"
   ]
  },
  {
   "cell_type": "code",
   "execution_count": 439,
   "metadata": {},
   "outputs": [
    {
     "data": {
      "text/plain": [
       "array([-4.49549597])"
      ]
     },
     "execution_count": 439,
     "metadata": {},
     "output_type": "execute_result"
    }
   ],
   "source": [
    "loj_model.intercept_"
   ]
  },
  {
   "cell_type": "code",
   "execution_count": 440,
   "metadata": {},
   "outputs": [
    {
     "data": {
      "text/plain": [
       "array([[ 0.11722845,  0.03235418, -0.00863672]])"
      ]
     },
     "execution_count": 440,
     "metadata": {},
     "output_type": "execute_result"
    }
   ],
   "source": [
    "loj_model.coef_"
   ]
  },
  {
   "cell_type": "markdown",
   "metadata": {},
   "source": [
    "## Predict  & Model Tuning"
   ]
  },
  {
   "cell_type": "code",
   "execution_count": 441,
   "metadata": {},
   "outputs": [],
   "source": [
    "y_pred = loj_model.predict(X)"
   ]
  },
  {
   "cell_type": "code",
   "execution_count": 87,
   "metadata": {},
   "outputs": [],
   "source": [
    "### Confusion matrix gives the number of cases that the model is able to accurately predict the outcomes, \n",
    "#and the number of cases the model gives false positive and false negatives"
   ]
  },
  {
   "cell_type": "code",
   "execution_count": 442,
   "metadata": {},
   "outputs": [
    {
     "data": {
      "text/plain": [
       "array([[444,  56],\n",
       "       [131, 137]], dtype=int64)"
      ]
     },
     "execution_count": 442,
     "metadata": {},
     "output_type": "execute_result"
    }
   ],
   "source": [
    "confusion_matrix(y, y_pred)"
   ]
  },
  {
   "cell_type": "code",
   "execution_count": 88,
   "metadata": {},
   "outputs": [],
   "source": [
    "#The confusion matrix shows that 444 + 137 are correct predictions and 131 + 56 are incorrect predictions."
   ]
  },
  {
   "cell_type": "code",
   "execution_count": 443,
   "metadata": {},
   "outputs": [
    {
     "data": {
      "text/plain": [
       "0.7565104166666666"
      ]
     },
     "execution_count": 443,
     "metadata": {},
     "output_type": "execute_result"
    }
   ],
   "source": [
    "accuracy_score(y, y_pred)"
   ]
  },
  {
   "cell_type": "code",
   "execution_count": 444,
   "metadata": {},
   "outputs": [
    {
     "name": "stdout",
     "output_type": "stream",
     "text": [
      "              precision    recall  f1-score   support\n",
      "\n",
      "           0       0.77      0.89      0.83       500\n",
      "           1       0.71      0.51      0.59       268\n",
      "\n",
      "    accuracy                           0.76       768\n",
      "   macro avg       0.74      0.70      0.71       768\n",
      "weighted avg       0.75      0.76      0.75       768\n",
      "\n"
     ]
    }
   ],
   "source": [
    "print(classification_report(y, y_pred))"
   ]
  },
  {
   "cell_type": "code",
   "execution_count": 91,
   "metadata": {},
   "outputs": [],
   "source": [
    "#The model precision of model #2 (3 variables) is 75%"
   ]
  },
  {
   "cell_type": "code",
   "execution_count": 445,
   "metadata": {},
   "outputs": [
    {
     "data": {
      "text/plain": [
       "array([1, 0, 1, 0, 0, 0, 0, 1, 1, 0], dtype=int64)"
      ]
     },
     "execution_count": 445,
     "metadata": {},
     "output_type": "execute_result"
    }
   ],
   "source": [
    "loj_model.predict(X)[0:10]"
   ]
  },
  {
   "cell_type": "code",
   "execution_count": 446,
   "metadata": {},
   "outputs": [
    {
     "data": {
      "text/plain": [
       "array([[0.40746625, 0.59253375],\n",
       "       [0.90008646, 0.09991354],\n",
       "       [0.14059019, 0.85940981],\n",
       "       [0.88783041, 0.11216959],\n",
       "       [0.60071424, 0.39928576],\n",
       "       [0.68898662, 0.31101338],\n",
       "       [0.88615161, 0.11384839],\n",
       "       [0.40190851, 0.59809149],\n",
       "       [0.18121102, 0.81878898],\n",
       "       [0.5848027 , 0.4151973 ]])"
      ]
     },
     "execution_count": 446,
     "metadata": {},
     "output_type": "execute_result"
    }
   ],
   "source": [
    "loj_model.predict_proba(X)[0:10][:,0:2]"
   ]
  },
  {
   "cell_type": "code",
   "execution_count": 447,
   "metadata": {},
   "outputs": [
    {
     "data": {
      "text/plain": [
       "0    1\n",
       "1    0\n",
       "2    1\n",
       "3    0\n",
       "4    1\n",
       "5    0\n",
       "6    1\n",
       "7    0\n",
       "8    1\n",
       "9    1\n",
       "Name: Outcome, dtype: int64"
      ]
     },
     "execution_count": 447,
     "metadata": {},
     "output_type": "execute_result"
    }
   ],
   "source": [
    "y[0:10]"
   ]
  },
  {
   "cell_type": "code",
   "execution_count": 448,
   "metadata": {},
   "outputs": [],
   "source": [
    "y_probs = loj_model.predict_proba(X)\n",
    "y_probs = y_probs[:,1]"
   ]
  },
  {
   "cell_type": "code",
   "execution_count": 449,
   "metadata": {},
   "outputs": [
    {
     "data": {
      "text/plain": [
       "array([0.59253375, 0.09991354, 0.85940981, 0.11216959, 0.39928576,\n",
       "       0.31101338, 0.11384839, 0.59809149, 0.81878898, 0.4151973 ])"
      ]
     },
     "execution_count": 449,
     "metadata": {},
     "output_type": "execute_result"
    }
   ],
   "source": [
    "y_probs[0:10]"
   ]
  },
  {
   "cell_type": "code",
   "execution_count": 97,
   "metadata": {},
   "outputs": [],
   "source": [
    "# we decide to label it if the result is bigger than 0.5( it could be changed of course.)\n",
    "#it is labeled as 1(more possibility to have diabetic)"
   ]
  },
  {
   "cell_type": "code",
   "execution_count": 450,
   "metadata": {},
   "outputs": [],
   "source": [
    "y_pred = [1 if i > 0.5 else 0 for i in y_probs]"
   ]
  },
  {
   "cell_type": "code",
   "execution_count": 451,
   "metadata": {},
   "outputs": [
    {
     "data": {
      "text/plain": [
       "[1, 0, 1, 0, 0, 0, 0, 1, 1, 0]"
      ]
     },
     "execution_count": 451,
     "metadata": {},
     "output_type": "execute_result"
    }
   ],
   "source": [
    "y_pred[0:10]"
   ]
  },
  {
   "cell_type": "code",
   "execution_count": 453,
   "metadata": {},
   "outputs": [
    {
     "data": {
      "text/plain": [
       "array([[444,  56],\n",
       "       [131, 137]], dtype=int64)"
      ]
     },
     "execution_count": 453,
     "metadata": {},
     "output_type": "execute_result"
    }
   ],
   "source": [
    "confusion_matrix(y, y_pred)"
   ]
  },
  {
   "cell_type": "code",
   "execution_count": 452,
   "metadata": {},
   "outputs": [
    {
     "data": {
      "text/plain": [
       "0.7565104166666666"
      ]
     },
     "execution_count": 452,
     "metadata": {},
     "output_type": "execute_result"
    }
   ],
   "source": [
    "accuracy_score(y, y_pred)"
   ]
  },
  {
   "cell_type": "code",
   "execution_count": 454,
   "metadata": {},
   "outputs": [
    {
     "name": "stdout",
     "output_type": "stream",
     "text": [
      "              precision    recall  f1-score   support\n",
      "\n",
      "           0       0.77      0.89      0.83       500\n",
      "           1       0.71      0.51      0.59       268\n",
      "\n",
      "    accuracy                           0.76       768\n",
      "   macro avg       0.74      0.70      0.71       768\n",
      "weighted avg       0.75      0.76      0.75       768\n",
      "\n"
     ]
    }
   ],
   "source": [
    "print(classification_report(y, y_pred))"
   ]
  },
  {
   "cell_type": "code",
   "execution_count": 455,
   "metadata": {},
   "outputs": [
    {
     "data": {
      "text/plain": [
       "array([0.59253375, 0.09991354, 0.85940981, 0.11216959, 0.39928576])"
      ]
     },
     "execution_count": 455,
     "metadata": {},
     "output_type": "execute_result"
    }
   ],
   "source": [
    "loj_model.predict_proba(X)[:,1][0:5]"
   ]
  },
  {
   "cell_type": "code",
   "execution_count": 37,
   "metadata": {},
   "outputs": [],
   "source": [
    "# split data as train and test for preparing macline learning algorithms.\n"
   ]
  },
  {
   "cell_type": "code",
   "execution_count": 456,
   "metadata": {},
   "outputs": [],
   "source": [
    "y = df[\"Outcome\"]\n",
    "X = df.drop([\"Outcome\"], axis=1)\n",
    "\n",
    "X_train, X_test, y_train, y_test = train_test_split(X, y, \n",
    "                                                    test_size = 0.30, \n",
    "                                                    random_state = 42)\n"
   ]
  },
  {
   "cell_type": "code",
   "execution_count": 457,
   "metadata": {},
   "outputs": [
    {
     "data": {
      "text/plain": [
       "LogisticRegression(solver='liblinear')"
      ]
     },
     "execution_count": 457,
     "metadata": {},
     "output_type": "execute_result"
    }
   ],
   "source": [
    "loj = LogisticRegression(solver = \"liblinear\")\n",
    "loj_model = loj.fit(X_train,y_train)\n",
    "loj_model"
   ]
  },
  {
   "cell_type": "code",
   "execution_count": 458,
   "metadata": {},
   "outputs": [
    {
     "data": {
      "text/plain": [
       "0.7532467532467533"
      ]
     },
     "execution_count": 458,
     "metadata": {},
     "output_type": "execute_result"
    }
   ],
   "source": [
    "accuracy_score(y_test, loj_model.predict(X_test))"
   ]
  },
  {
   "cell_type": "code",
   "execution_count": 459,
   "metadata": {},
   "outputs": [],
   "source": [
    "#Performing a 10-fold cross-validation "
   ]
  },
  {
   "cell_type": "code",
   "execution_count": 460,
   "metadata": {},
   "outputs": [
    {
     "data": {
      "text/plain": [
       "0.7661231884057971"
      ]
     },
     "execution_count": 460,
     "metadata": {},
     "output_type": "execute_result"
    }
   ],
   "source": [
    "cross_val_score(loj_model, X_test, y_test, cv = 10).mean()"
   ]
  },
  {
   "cell_type": "code",
   "execution_count": 461,
   "metadata": {},
   "outputs": [],
   "source": [
    "#The model precision of model #2 (3 variables) is 76% after cross-validation."
   ]
  },
  {
   "cell_type": "markdown",
   "metadata": {},
   "source": [
    "# Gaussian Naive Bayes"
   ]
  },
  {
   "cell_type": "code",
   "execution_count": 138,
   "metadata": {},
   "outputs": [],
   "source": [
    "from sklearn.naive_bayes import GaussianNB"
   ]
  },
  {
   "cell_type": "code",
   "execution_count": 425,
   "metadata": {},
   "outputs": [
    {
     "data": {
      "text/plain": [
       "GaussianNB()"
      ]
     },
     "execution_count": 425,
     "metadata": {},
     "output_type": "execute_result"
    }
   ],
   "source": [
    "y = df[\"Outcome\"]\n",
    "X = df.drop([\"Outcome\"], axis=1)\n",
    "\n",
    "X_train, X_test, y_train, y_test = train_test_split(X, y, \n",
    "                                                    test_size = 0.30, \n",
    "                                                    random_state = 42)\n",
    "\n",
    "nb = GaussianNB()\n",
    "nb_model = nb.fit(X_train, y_train)\n",
    "nb_model"
   ]
  },
  {
   "cell_type": "code",
   "execution_count": 140,
   "metadata": {},
   "outputs": [
    {
     "data": {
      "text/plain": [
       "array([0, 0, 0, 0, 1, 1, 0, 0, 0, 1], dtype=int64)"
      ]
     },
     "execution_count": 140,
     "metadata": {},
     "output_type": "execute_result"
    }
   ],
   "source": [
    "nb_model.predict(X_test)[0:10]"
   ]
  },
  {
   "cell_type": "code",
   "execution_count": 141,
   "metadata": {},
   "outputs": [
    {
     "data": {
      "text/plain": [
       "array([[0.73815858, 0.26184142],\n",
       "       [0.94027894, 0.05972106],\n",
       "       [0.97242831, 0.02757169],\n",
       "       [0.82840069, 0.17159931],\n",
       "       [0.47153473, 0.52846527],\n",
       "       [0.47274458, 0.52725542],\n",
       "       [0.99607705, 0.00392295],\n",
       "       [0.69925055, 0.30074945],\n",
       "       [0.53838117, 0.46161883],\n",
       "       [0.25004536, 0.74995464]])"
      ]
     },
     "execution_count": 141,
     "metadata": {},
     "output_type": "execute_result"
    }
   ],
   "source": [
    "nb_model.predict_proba(X_test)[0:10]"
   ]
  },
  {
   "cell_type": "code",
   "execution_count": 142,
   "metadata": {},
   "outputs": [],
   "source": [
    "y_pred = nb_model.predict(X_test)"
   ]
  },
  {
   "cell_type": "code",
   "execution_count": 143,
   "metadata": {},
   "outputs": [
    {
     "data": {
      "text/plain": [
       "0.7445887445887446"
      ]
     },
     "execution_count": 143,
     "metadata": {},
     "output_type": "execute_result"
    }
   ],
   "source": [
    "accuracy_score(y_test, y_pred)"
   ]
  },
  {
   "cell_type": "code",
   "execution_count": 144,
   "metadata": {},
   "outputs": [
    {
     "data": {
      "text/plain": [
       "0.775"
      ]
     },
     "execution_count": 144,
     "metadata": {},
     "output_type": "execute_result"
    }
   ],
   "source": [
    "cross_val_score(nb_model, X_test, y_test, cv = 10).mean()"
   ]
  },
  {
   "cell_type": "code",
   "execution_count": 145,
   "metadata": {},
   "outputs": [],
   "source": [
    "#The model precision of model is 77% after model tuning by using   Gaussian Naive Baye."
   ]
  },
  {
   "cell_type": "markdown",
   "metadata": {},
   "source": [
    "# KNN"
   ]
  },
  {
   "cell_type": "markdown",
   "metadata": {},
   "source": [
    "## Prediction & Model"
   ]
  },
  {
   "cell_type": "code",
   "execution_count": 416,
   "metadata": {},
   "outputs": [
    {
     "data": {
      "text/plain": [
       "KNeighborsClassifier()"
      ]
     },
     "execution_count": 416,
     "metadata": {},
     "output_type": "execute_result"
    }
   ],
   "source": [
    "knn = KNeighborsClassifier()\n",
    "knn_model = knn.fit(X_train, y_train)\n",
    "knn_model"
   ]
  },
  {
   "cell_type": "code",
   "execution_count": 417,
   "metadata": {},
   "outputs": [],
   "source": [
    "y_pred = knn_model.predict(X_test)"
   ]
  },
  {
   "cell_type": "code",
   "execution_count": 418,
   "metadata": {},
   "outputs": [
    {
     "data": {
      "text/plain": [
       "0.7012987012987013"
      ]
     },
     "execution_count": 418,
     "metadata": {},
     "output_type": "execute_result"
    }
   ],
   "source": [
    "accuracy_score(y_test, y_pred)"
   ]
  },
  {
   "cell_type": "code",
   "execution_count": 419,
   "metadata": {},
   "outputs": [
    {
     "name": "stdout",
     "output_type": "stream",
     "text": [
      "              precision    recall  f1-score   support\n",
      "\n",
      "           0       0.76      0.79      0.78       151\n",
      "           1       0.57      0.54      0.55        80\n",
      "\n",
      "    accuracy                           0.70       231\n",
      "   macro avg       0.67      0.66      0.67       231\n",
      "weighted avg       0.70      0.70      0.70       231\n",
      "\n"
     ]
    }
   ],
   "source": [
    "print(classification_report(y_test, y_pred))"
   ]
  },
  {
   "cell_type": "markdown",
   "metadata": {},
   "source": [
    "## Model Tuning"
   ]
  },
  {
   "cell_type": "code",
   "execution_count": 420,
   "metadata": {},
   "outputs": [],
   "source": [
    "knn_params = {\"n_neighbors\": np.arange(1,50)}"
   ]
  },
  {
   "cell_type": "code",
   "execution_count": 423,
   "metadata": {},
   "outputs": [
    {
     "data": {
      "text/plain": [
       "GridSearchCV(cv=10, estimator=KNeighborsClassifier(),\n",
       "             param_grid={'n_neighbors': array([ 1,  2,  3,  4,  5,  6,  7,  8,  9, 10, 11, 12, 13, 14, 15, 16, 17,\n",
       "       18, 19, 20, 21, 22, 23, 24, 25, 26, 27, 28, 29, 30, 31, 32, 33, 34,\n",
       "       35, 36, 37, 38, 39, 40, 41, 42, 43, 44, 45, 46, 47, 48, 49])})"
      ]
     },
     "execution_count": 423,
     "metadata": {},
     "output_type": "execute_result"
    }
   ],
   "source": [
    "knn = KNeighborsClassifier()\n",
    "knn_cv = GridSearchCV(knn, knn_params, cv=10)\n",
    "knn_cv.fit(X_train, y_train)"
   ]
  },
  {
   "cell_type": "code",
   "execution_count": 163,
   "metadata": {},
   "outputs": [],
   "source": [
    "#From 768, 593 got correct outcome predicted."
   ]
  },
  {
   "cell_type": "code",
   "execution_count": 152,
   "metadata": {},
   "outputs": [
    {
     "name": "stdout",
     "output_type": "stream",
     "text": [
      "The best score:0.748637316561845\n",
      "The best parameters: {'n_neighbors': 11}\n"
     ]
    }
   ],
   "source": [
    "print(\"The best score:\" + str(knn_cv.best_score_))\n",
    "print(\"The best parameters: \" + str(knn_cv.best_params_))"
   ]
  },
  {
   "cell_type": "code",
   "execution_count": 153,
   "metadata": {},
   "outputs": [],
   "source": [
    "knn = KNeighborsClassifier(11)\n",
    "knn_tuned = knn.fit(X_train, y_train)"
   ]
  },
  {
   "cell_type": "code",
   "execution_count": 154,
   "metadata": {},
   "outputs": [
    {
     "data": {
      "text/plain": [
       "0.7316017316017316"
      ]
     },
     "execution_count": 154,
     "metadata": {},
     "output_type": "execute_result"
    }
   ],
   "source": [
    "knn_tuned.score(X_test, y_test)"
   ]
  },
  {
   "cell_type": "code",
   "execution_count": 122,
   "metadata": {},
   "outputs": [],
   "source": [
    "y_pred = knn_tuned.predict(X_test)"
   ]
  },
  {
   "cell_type": "code",
   "execution_count": 123,
   "metadata": {},
   "outputs": [
    {
     "data": {
      "text/plain": [
       "0.7316017316017316"
      ]
     },
     "execution_count": 123,
     "metadata": {},
     "output_type": "execute_result"
    }
   ],
   "source": [
    "accuracy_score(y_test, y_pred)"
   ]
  },
  {
   "cell_type": "code",
   "execution_count": 155,
   "metadata": {},
   "outputs": [],
   "source": [
    "#The model precision of model  is 73% after model tuning by using  KNN algorithms."
   ]
  },
  {
   "cell_type": "markdown",
   "metadata": {},
   "source": [
    "# SVC"
   ]
  },
  {
   "cell_type": "markdown",
   "metadata": {},
   "source": [
    "## Prediction & Model"
   ]
  },
  {
   "cell_type": "code",
   "execution_count": 156,
   "metadata": {},
   "outputs": [],
   "source": [
    "svm_model = SVC(kernel = \"linear\").fit(X_train, y_train)"
   ]
  },
  {
   "cell_type": "code",
   "execution_count": 157,
   "metadata": {},
   "outputs": [
    {
     "data": {
      "text/plain": [
       "SVC(kernel='linear')"
      ]
     },
     "execution_count": 157,
     "metadata": {},
     "output_type": "execute_result"
    }
   ],
   "source": [
    "svm_model"
   ]
  },
  {
   "cell_type": "code",
   "execution_count": 158,
   "metadata": {},
   "outputs": [],
   "source": [
    "y_pred = svm_model.predict(X_test)"
   ]
  },
  {
   "cell_type": "code",
   "execution_count": 159,
   "metadata": {},
   "outputs": [
    {
     "data": {
      "text/plain": [
       "0.7445887445887446"
      ]
     },
     "execution_count": 159,
     "metadata": {},
     "output_type": "execute_result"
    }
   ],
   "source": [
    "accuracy_score(y_test, y_pred)"
   ]
  },
  {
   "cell_type": "markdown",
   "metadata": {},
   "source": [
    "## Model Tuning"
   ]
  },
  {
   "cell_type": "code",
   "execution_count": 160,
   "metadata": {},
   "outputs": [],
   "source": [
    "#In order to not last  long time , C was chosen between 1 and 10."
   ]
  },
  {
   "cell_type": "code",
   "execution_count": 161,
   "metadata": {},
   "outputs": [
    {
     "name": "stdout",
     "output_type": "stream",
     "text": [
      "Fitting 10 folds for each of 9 candidates, totalling 90 fits\n"
     ]
    },
    {
     "data": {
      "text/plain": [
       "GridSearchCV(cv=10, estimator=SVC(kernel='linear'), n_jobs=-1,\n",
       "             param_grid={'C': array([1, 2, 3, 4, 5, 6, 7, 8, 9])}, verbose=2)"
      ]
     },
     "execution_count": 161,
     "metadata": {},
     "output_type": "execute_result"
    }
   ],
   "source": [
    "svc_params = {\"C\": np.arange(1,10)}\n",
    "\n",
    "svc = SVC(kernel = \"linear\")\n",
    "\n",
    "svc_cv_model = GridSearchCV(svc,svc_params, \n",
    "                            cv = 10, \n",
    "                            n_jobs = -1, \n",
    "                            verbose = 2 )\n",
    "\n",
    "svc_cv_model.fit(X_train, y_train)"
   ]
  },
  {
   "cell_type": "code",
   "execution_count": 164,
   "metadata": {},
   "outputs": [
    {
     "name": "stdout",
     "output_type": "stream",
     "text": [
      "The best parameters: {'C': 5}\n"
     ]
    }
   ],
   "source": [
    "print(\"The best parameters: \" + str(svc_cv_model.best_params_))"
   ]
  },
  {
   "cell_type": "code",
   "execution_count": 165,
   "metadata": {},
   "outputs": [],
   "source": [
    "svc_tuned = SVC(kernel = \"linear\", C = 5).fit(X_train, y_train)"
   ]
  },
  {
   "cell_type": "code",
   "execution_count": 166,
   "metadata": {},
   "outputs": [
    {
     "data": {
      "text/plain": [
       "0.7445887445887446"
      ]
     },
     "execution_count": 166,
     "metadata": {},
     "output_type": "execute_result"
    }
   ],
   "source": [
    "y_pred = svc_tuned.predict(X_test)\n",
    "accuracy_score(y_test, y_pred)"
   ]
  },
  {
   "cell_type": "code",
   "execution_count": 167,
   "metadata": {},
   "outputs": [],
   "source": [
    "#The model precision of model  is 74% after model tuning by using  SVC Linear algorithms."
   ]
  },
  {
   "cell_type": "markdown",
   "metadata": {},
   "source": [
    "# RBF SVC"
   ]
  },
  {
   "cell_type": "markdown",
   "metadata": {},
   "source": [
    "## Prediction &  Model"
   ]
  },
  {
   "cell_type": "code",
   "execution_count": 168,
   "metadata": {},
   "outputs": [],
   "source": [
    "svc_model = SVC(kernel = \"rbf\").fit(X_train, y_train)"
   ]
  },
  {
   "cell_type": "code",
   "execution_count": 169,
   "metadata": {},
   "outputs": [
    {
     "data": {
      "text/plain": [
       "SVC()"
      ]
     },
     "execution_count": 169,
     "metadata": {},
     "output_type": "execute_result"
    }
   ],
   "source": [
    "svc_model"
   ]
  },
  {
   "cell_type": "code",
   "execution_count": 170,
   "metadata": {},
   "outputs": [
    {
     "data": {
      "text/plain": [
       "0.7359307359307359"
      ]
     },
     "execution_count": 170,
     "metadata": {},
     "output_type": "execute_result"
    }
   ],
   "source": [
    "y_pred = svc_model.predict(X_test)\n",
    "accuracy_score(y_test, y_pred)"
   ]
  },
  {
   "cell_type": "markdown",
   "metadata": {},
   "source": [
    "## Model Tuning"
   ]
  },
  {
   "cell_type": "code",
   "execution_count": 172,
   "metadata": {},
   "outputs": [],
   "source": [
    "##In order to not last  long time , svc_params was chosen by a few values"
   ]
  },
  {
   "cell_type": "code",
   "execution_count": 173,
   "metadata": {},
   "outputs": [],
   "source": [
    "svc_params = {\"C\": [0.0001, 0.001, 0.1, 1, 5, 10 ,50 ,100],\n",
    "             \"gamma\": [0.0001, 0.001, 0.1, 1, 5, 10 ,50 ,100]}"
   ]
  },
  {
   "cell_type": "code",
   "execution_count": 174,
   "metadata": {},
   "outputs": [
    {
     "name": "stdout",
     "output_type": "stream",
     "text": [
      "Fitting 10 folds for each of 64 candidates, totalling 640 fits\n"
     ]
    },
    {
     "data": {
      "text/plain": [
       "GridSearchCV(cv=10, estimator=SVC(), n_jobs=-1,\n",
       "             param_grid={'C': [0.0001, 0.001, 0.1, 1, 5, 10, 50, 100],\n",
       "                         'gamma': [0.0001, 0.001, 0.1, 1, 5, 10, 50, 100]},\n",
       "             verbose=2)"
      ]
     },
     "execution_count": 174,
     "metadata": {},
     "output_type": "execute_result"
    }
   ],
   "source": [
    "svc = SVC()\n",
    "svc_cv_model = GridSearchCV(svc, svc_params, \n",
    "                         cv = 10, \n",
    "                         n_jobs = -1,\n",
    "                         verbose = 2)\n",
    "\n",
    "svc_cv_model.fit(X_train, y_train)"
   ]
  },
  {
   "cell_type": "code",
   "execution_count": 175,
   "metadata": {},
   "outputs": [
    {
     "name": "stdout",
     "output_type": "stream",
     "text": [
      "The best parameters: {'C': 10, 'gamma': 0.0001}\n"
     ]
    }
   ],
   "source": [
    "print(\"The best parameters: \" + str(svc_cv_model.best_params_))"
   ]
  },
  {
   "cell_type": "code",
   "execution_count": 176,
   "metadata": {},
   "outputs": [],
   "source": [
    "svc_tuned = SVC(C = 10, gamma = 0.0001).fit(X_train, y_train)"
   ]
  },
  {
   "cell_type": "code",
   "execution_count": 177,
   "metadata": {},
   "outputs": [
    {
     "data": {
      "text/plain": [
       "0.7359307359307359"
      ]
     },
     "execution_count": 177,
     "metadata": {},
     "output_type": "execute_result"
    }
   ],
   "source": [
    "y_pred = svc_tuned.predict(X_test)\n",
    "accuracy_score(y_test, y_pred)"
   ]
  },
  {
   "cell_type": "code",
   "execution_count": 197,
   "metadata": {},
   "outputs": [],
   "source": [
    "#The model precision of model  is 74% after model tuning by using  SVC RBF algorithms."
   ]
  },
  {
   "cell_type": "markdown",
   "metadata": {},
   "source": [
    "# Artificial Neural Network"
   ]
  },
  {
   "cell_type": "markdown",
   "metadata": {},
   "source": [
    "## Prediction  & Model"
   ]
  },
  {
   "cell_type": "code",
   "execution_count": 506,
   "metadata": {},
   "outputs": [],
   "source": [
    "df = diabetes.copy()\n",
    "df = df.dropna()\n",
    "y = df[\"Outcome\"]\n",
    "X = df.drop(['Outcome'], axis=1)\n",
    "X_train, X_test, y_train, y_test = train_test_split(X, y, \n",
    "                                                    test_size=0.30, \n",
    "                                                    random_state=42)"
   ]
  },
  {
   "cell_type": "code",
   "execution_count": 507,
   "metadata": {},
   "outputs": [],
   "source": [
    "from sklearn.preprocessing import StandardScaler  "
   ]
  },
  {
   "cell_type": "code",
   "execution_count": 508,
   "metadata": {},
   "outputs": [],
   "source": [
    "scaler = StandardScaler()"
   ]
  },
  {
   "cell_type": "code",
   "execution_count": 518,
   "metadata": {},
   "outputs": [],
   "source": [
    "scaler.fit(X_train)\n",
    "X_train_scaled = scaler.transform(X_train)\n",
    "X_test_scaled= scaler.transform(X_test)"
   ]
  },
  {
   "cell_type": "code",
   "execution_count": 519,
   "metadata": {},
   "outputs": [
    {
     "data": {
      "text/plain": [
       "array([[ 0.69748316, -0.70719864, -0.64639893,  0.81207927,  0.95720244,\n",
       "         0.26575953, -0.11680393,  0.85019217],\n",
       "       [-0.52953881, -0.27388818,  0.29399563,  0.74746428, -0.6936878 ,\n",
       "         0.488933  , -0.94192338, -1.03426754],\n",
       "       [-0.52953881, -0.39769117, -0.31449497, -1.3202154 , -0.6936878 ,\n",
       "        -0.1543317 , -0.91266382, -1.03426754],\n",
       "       [ 1.31099414, -0.42864191,  0.57058226, -1.3202154 , -0.6936878 ,\n",
       "        -0.96825847,  1.12965312,  0.07927683],\n",
       "       [ 1.00423865,  0.46892976,  1.12375553, -1.3202154 , -0.6936878 ,\n",
       "        -0.27248236, -0.76051413,  1.44979298]])"
      ]
     },
     "execution_count": 519,
     "metadata": {},
     "output_type": "execute_result"
    }
   ],
   "source": [
    "X_test_scaled[0:5]"
   ]
  },
  {
   "cell_type": "code",
   "execution_count": 520,
   "metadata": {},
   "outputs": [],
   "source": [
    "from sklearn.neural_network import MLPClassifier"
   ]
  },
  {
   "cell_type": "code",
   "execution_count": 521,
   "metadata": {},
   "outputs": [],
   "source": [
    "mlpc = MLPClassifier().fit(X_train_scaled, y_train)"
   ]
  },
  {
   "cell_type": "code",
   "execution_count": 522,
   "metadata": {},
   "outputs": [
    {
     "data": {
      "text/plain": [
       "0.7316017316017316"
      ]
     },
     "execution_count": 522,
     "metadata": {},
     "output_type": "execute_result"
    }
   ],
   "source": [
    "y_pred = mlpc.predict(X_test_scaled)\n",
    "accuracy_score(y_test, y_pred)"
   ]
  },
  {
   "cell_type": "markdown",
   "metadata": {},
   "source": [
    "## Model Tuning"
   ]
  },
  {
   "cell_type": "code",
   "execution_count": 523,
   "metadata": {},
   "outputs": [
    {
     "data": {
      "text/plain": [
       "MLPClassifier()"
      ]
     },
     "execution_count": 523,
     "metadata": {},
     "output_type": "execute_result"
    }
   ],
   "source": [
    "mlpc"
   ]
  },
  {
   "cell_type": "code",
   "execution_count": 524,
   "metadata": {
    "collapsed": true,
    "jupyter": {
     "outputs_hidden": true
    }
   },
   "outputs": [
    {
     "data": {
      "text/plain": [
       "\u001b[1;31mType:\u001b[0m        MLPClassifier\n",
       "\u001b[1;31mString form:\u001b[0m MLPClassifier()\n",
       "\u001b[1;31mFile:\u001b[0m        c:\\users\\obo\\anaconda3\\lib\\site-packages\\sklearn\\neural_network\\_multilayer_perceptron.py\n",
       "\u001b[1;31mDocstring:\u001b[0m  \n",
       "Multi-layer Perceptron classifier.\n",
       "\n",
       "This model optimizes the log-loss function using LBFGS or stochastic\n",
       "gradient descent.\n",
       "\n",
       ".. versionadded:: 0.18\n",
       "\n",
       "Parameters\n",
       "----------\n",
       "hidden_layer_sizes : tuple, length = n_layers - 2, default=(100,)\n",
       "    The ith element represents the number of neurons in the ith\n",
       "    hidden layer.\n",
       "\n",
       "activation : {'identity', 'logistic', 'tanh', 'relu'}, default='relu'\n",
       "    Activation function for the hidden layer.\n",
       "\n",
       "    - 'identity', no-op activation, useful to implement linear bottleneck,\n",
       "      returns f(x) = x\n",
       "\n",
       "    - 'logistic', the logistic sigmoid function,\n",
       "      returns f(x) = 1 / (1 + exp(-x)).\n",
       "\n",
       "    - 'tanh', the hyperbolic tan function,\n",
       "      returns f(x) = tanh(x).\n",
       "\n",
       "    - 'relu', the rectified linear unit function,\n",
       "      returns f(x) = max(0, x)\n",
       "\n",
       "solver : {'lbfgs', 'sgd', 'adam'}, default='adam'\n",
       "    The solver for weight optimization.\n",
       "\n",
       "    - 'lbfgs' is an optimizer in the family of quasi-Newton methods.\n",
       "\n",
       "    - 'sgd' refers to stochastic gradient descent.\n",
       "\n",
       "    - 'adam' refers to a stochastic gradient-based optimizer proposed\n",
       "      by Kingma, Diederik, and Jimmy Ba\n",
       "\n",
       "    Note: The default solver 'adam' works pretty well on relatively\n",
       "    large datasets (with thousands of training samples or more) in terms of\n",
       "    both training time and validation score.\n",
       "    For small datasets, however, 'lbfgs' can converge faster and perform\n",
       "    better.\n",
       "\n",
       "alpha : float, default=0.0001\n",
       "    L2 penalty (regularization term) parameter.\n",
       "\n",
       "batch_size : int, default='auto'\n",
       "    Size of minibatches for stochastic optimizers.\n",
       "    If the solver is 'lbfgs', the classifier will not use minibatch.\n",
       "    When set to \"auto\", `batch_size=min(200, n_samples)`\n",
       "\n",
       "learning_rate : {'constant', 'invscaling', 'adaptive'}, default='constant'\n",
       "    Learning rate schedule for weight updates.\n",
       "\n",
       "    - 'constant' is a constant learning rate given by\n",
       "      'learning_rate_init'.\n",
       "\n",
       "    - 'invscaling' gradually decreases the learning rate at each\n",
       "      time step 't' using an inverse scaling exponent of 'power_t'.\n",
       "      effective_learning_rate = learning_rate_init / pow(t, power_t)\n",
       "\n",
       "    - 'adaptive' keeps the learning rate constant to\n",
       "      'learning_rate_init' as long as training loss keeps decreasing.\n",
       "      Each time two consecutive epochs fail to decrease training loss by at\n",
       "      least tol, or fail to increase validation score by at least tol if\n",
       "      'early_stopping' is on, the current learning rate is divided by 5.\n",
       "\n",
       "    Only used when ``solver='sgd'``.\n",
       "\n",
       "learning_rate_init : double, default=0.001\n",
       "    The initial learning rate used. It controls the step-size\n",
       "    in updating the weights. Only used when solver='sgd' or 'adam'.\n",
       "\n",
       "power_t : double, default=0.5\n",
       "    The exponent for inverse scaling learning rate.\n",
       "    It is used in updating effective learning rate when the learning_rate\n",
       "    is set to 'invscaling'. Only used when solver='sgd'.\n",
       "\n",
       "max_iter : int, default=200\n",
       "    Maximum number of iterations. The solver iterates until convergence\n",
       "    (determined by 'tol') or this number of iterations. For stochastic\n",
       "    solvers ('sgd', 'adam'), note that this determines the number of epochs\n",
       "    (how many times each data point will be used), not the number of\n",
       "    gradient steps.\n",
       "\n",
       "shuffle : bool, default=True\n",
       "    Whether to shuffle samples in each iteration. Only used when\n",
       "    solver='sgd' or 'adam'.\n",
       "\n",
       "random_state : int, RandomState instance, default=None\n",
       "    Determines random number generation for weights and bias\n",
       "    initialization, train-test split if early stopping is used, and batch\n",
       "    sampling when solver='sgd' or 'adam'.\n",
       "    Pass an int for reproducible results across multiple function calls.\n",
       "    See :term:`Glossary <random_state>`.\n",
       "\n",
       "tol : float, default=1e-4\n",
       "    Tolerance for the optimization. When the loss or score is not improving\n",
       "    by at least ``tol`` for ``n_iter_no_change`` consecutive iterations,\n",
       "    unless ``learning_rate`` is set to 'adaptive', convergence is\n",
       "    considered to be reached and training stops.\n",
       "\n",
       "verbose : bool, default=False\n",
       "    Whether to print progress messages to stdout.\n",
       "\n",
       "warm_start : bool, default=False\n",
       "    When set to True, reuse the solution of the previous\n",
       "    call to fit as initialization, otherwise, just erase the\n",
       "    previous solution. See :term:`the Glossary <warm_start>`.\n",
       "\n",
       "momentum : float, default=0.9\n",
       "    Momentum for gradient descent update. Should be between 0 and 1. Only\n",
       "    used when solver='sgd'.\n",
       "\n",
       "nesterovs_momentum : bool, default=True\n",
       "    Whether to use Nesterov's momentum. Only used when solver='sgd' and\n",
       "    momentum > 0.\n",
       "\n",
       "early_stopping : bool, default=False\n",
       "    Whether to use early stopping to terminate training when validation\n",
       "    score is not improving. If set to true, it will automatically set\n",
       "    aside 10% of training data as validation and terminate training when\n",
       "    validation score is not improving by at least tol for\n",
       "    ``n_iter_no_change`` consecutive epochs. The split is stratified,\n",
       "    except in a multilabel setting.\n",
       "    If early stopping is False, then the training stops when the training\n",
       "    loss does not improve by more than tol for n_iter_no_change consecutive\n",
       "    passes over the training set.\n",
       "    Only effective when solver='sgd' or 'adam'\n",
       "\n",
       "validation_fraction : float, default=0.1\n",
       "    The proportion of training data to set aside as validation set for\n",
       "    early stopping. Must be between 0 and 1.\n",
       "    Only used if early_stopping is True\n",
       "\n",
       "beta_1 : float, default=0.9\n",
       "    Exponential decay rate for estimates of first moment vector in adam,\n",
       "    should be in [0, 1). Only used when solver='adam'\n",
       "\n",
       "beta_2 : float, default=0.999\n",
       "    Exponential decay rate for estimates of second moment vector in adam,\n",
       "    should be in [0, 1). Only used when solver='adam'\n",
       "\n",
       "epsilon : float, default=1e-8\n",
       "    Value for numerical stability in adam. Only used when solver='adam'\n",
       "\n",
       "n_iter_no_change : int, default=10\n",
       "    Maximum number of epochs to not meet ``tol`` improvement.\n",
       "    Only effective when solver='sgd' or 'adam'\n",
       "\n",
       "    .. versionadded:: 0.20\n",
       "\n",
       "max_fun : int, default=15000\n",
       "    Only used when solver='lbfgs'. Maximum number of loss function calls.\n",
       "    The solver iterates until convergence (determined by 'tol'), number\n",
       "    of iterations reaches max_iter, or this number of loss function calls.\n",
       "    Note that number of loss function calls will be greater than or equal\n",
       "    to the number of iterations for the `MLPClassifier`.\n",
       "\n",
       "    .. versionadded:: 0.22\n",
       "\n",
       "Attributes\n",
       "----------\n",
       "classes_ : ndarray or list of ndarray of shape (n_classes,)\n",
       "    Class labels for each output.\n",
       "\n",
       "loss_ : float\n",
       "    The current loss computed with the loss function.\n",
       "\n",
       "best_loss_ : float\n",
       "    The minimum loss reached by the solver throughout fitting.\n",
       "\n",
       "loss_curve_ : list of shape (`n_iter_`,)\n",
       "    The ith element in the list represents the loss at the ith iteration.\n",
       "\n",
       "t_ : int\n",
       "    The number of training samples seen by the solver during fitting.\n",
       "\n",
       "coefs_ : list of shape (n_layers - 1,)\n",
       "    The ith element in the list represents the weight matrix corresponding\n",
       "    to layer i.\n",
       "\n",
       "intercepts_ : list of shape (n_layers - 1,)\n",
       "    The ith element in the list represents the bias vector corresponding to\n",
       "    layer i + 1.\n",
       "\n",
       "n_iter_ : int\n",
       "    The number of iterations the solver has run.\n",
       "\n",
       "n_layers_ : int\n",
       "    Number of layers.\n",
       "\n",
       "n_outputs_ : int\n",
       "    Number of outputs.\n",
       "\n",
       "out_activation_ : str\n",
       "    Name of the output activation function.\n",
       "\n",
       "Examples\n",
       "--------\n",
       ">>> from sklearn.neural_network import MLPClassifier\n",
       ">>> from sklearn.datasets import make_classification\n",
       ">>> from sklearn.model_selection import train_test_split\n",
       ">>> X, y = make_classification(n_samples=100, random_state=1)\n",
       ">>> X_train, X_test, y_train, y_test = train_test_split(X, y, stratify=y,\n",
       "...                                                     random_state=1)\n",
       ">>> clf = MLPClassifier(random_state=1, max_iter=300).fit(X_train, y_train)\n",
       ">>> clf.predict_proba(X_test[:1])\n",
       "array([[0.038..., 0.961...]])\n",
       ">>> clf.predict(X_test[:5, :])\n",
       "array([1, 0, 1, 0, 1])\n",
       ">>> clf.score(X_test, y_test)\n",
       "0.8...\n",
       "\n",
       "Notes\n",
       "-----\n",
       "MLPClassifier trains iteratively since at each time step\n",
       "the partial derivatives of the loss function with respect to the model\n",
       "parameters are computed to update the parameters.\n",
       "\n",
       "It can also have a regularization term added to the loss function\n",
       "that shrinks model parameters to prevent overfitting.\n",
       "\n",
       "This implementation works with data represented as dense numpy arrays or\n",
       "sparse scipy arrays of floating point values.\n",
       "\n",
       "References\n",
       "----------\n",
       "Hinton, Geoffrey E.\n",
       "    \"Connectionist learning procedures.\" Artificial intelligence 40.1\n",
       "    (1989): 185-234.\n",
       "\n",
       "Glorot, Xavier, and Yoshua Bengio. \"Understanding the difficulty of\n",
       "    training deep feedforward neural networks.\" International Conference\n",
       "    on Artificial Intelligence and Statistics. 2010.\n",
       "\n",
       "He, Kaiming, et al. \"Delving deep into rectifiers: Surpassing human-level\n",
       "    performance on imagenet classification.\" arXiv preprint\n",
       "    arXiv:1502.01852 (2015).\n",
       "\n",
       "Kingma, Diederik, and Jimmy Ba. \"Adam: A method for stochastic\n",
       "    optimization.\" arXiv preprint arXiv:1412.6980 (2014).\n"
      ]
     },
     "metadata": {},
     "output_type": "display_data"
    }
   ],
   "source": [
    "?mlpc"
   ]
  },
  {
   "cell_type": "code",
   "execution_count": 525,
   "metadata": {},
   "outputs": [],
   "source": [
    "##In order to not last  long time , mlpc_params was chosen by a few values"
   ]
  },
  {
   "cell_type": "code",
   "execution_count": 526,
   "metadata": {},
   "outputs": [],
   "source": [
    "mlpc_params = {\"alpha\": [0.1, 0.01, 0.02, 0.005, 0.0001,0.00001],\n",
    "              \"hidden_layer_sizes\": [(10,10,10),\n",
    "                                     (100,100,100),\n",
    "                                     (100,100),\n",
    "                                     (3,5), \n",
    "                                     (5, 3)],\n",
    "              \"solver\" : [\"lbfgs\",\"adam\",\"sgd\"],\n",
    "              \"activation\": [\"relu\",\"logistic\"]}\n"
   ]
  },
  {
   "cell_type": "code",
   "execution_count": 527,
   "metadata": {},
   "outputs": [
    {
     "name": "stdout",
     "output_type": "stream",
     "text": [
      "Fitting 10 folds for each of 180 candidates, totalling 1800 fits\n"
     ]
    },
    {
     "data": {
      "text/plain": [
       "GridSearchCV(cv=10, estimator=MLPClassifier(), n_jobs=-1,\n",
       "             param_grid={'activation': ['relu', 'logistic'],\n",
       "                         'alpha': [0.1, 0.01, 0.02, 0.005, 0.0001, 1e-05],\n",
       "                         'hidden_layer_sizes': [(10, 10, 10), (100, 100, 100),\n",
       "                                                (100, 100), (3, 5), (5, 3)],\n",
       "                         'solver': ['lbfgs', 'adam', 'sgd']},\n",
       "             verbose=2)"
      ]
     },
     "execution_count": 527,
     "metadata": {},
     "output_type": "execute_result"
    }
   ],
   "source": [
    "mlpc = MLPClassifier()\n",
    "mlpc_cv_model = GridSearchCV(mlpc, mlpc_params, \n",
    "                         cv = 10, \n",
    "                         n_jobs = -1,\n",
    "                         verbose = 2)\n",
    "\n",
    "mlpc_cv_model.fit(X_train_scaled, y_train)"
   ]
  },
  {
   "cell_type": "code",
   "execution_count": 528,
   "metadata": {},
   "outputs": [
    {
     "name": "stdout",
     "output_type": "stream",
     "text": [
      "The best parameters: {'activation': 'relu', 'alpha': 0.1, 'hidden_layer_sizes': (10, 10, 10), 'solver': 'adam'}\n"
     ]
    }
   ],
   "source": [
    "print(\"The best parameters: \" + str(mlpc_cv_model.best_params_))"
   ]
  },
  {
   "cell_type": "code",
   "execution_count": 529,
   "metadata": {},
   "outputs": [],
   "source": [
    "mlpc_tuned = MLPClassifier(activation = \"relu\", \n",
    "                           alpha =  0.1, \n",
    "                           hidden_layer_sizes = (100,100),\n",
    "                          solver = \"adam\")"
   ]
  },
  {
   "cell_type": "code",
   "execution_count": 530,
   "metadata": {},
   "outputs": [
    {
     "data": {
      "text/plain": [
       "MLPClassifier(alpha=0.1, hidden_layer_sizes=(100, 100))"
      ]
     },
     "execution_count": 530,
     "metadata": {},
     "output_type": "execute_result"
    }
   ],
   "source": [
    "mlpc_tuned.fit(X_train_scaled, y_train)"
   ]
  },
  {
   "cell_type": "code",
   "execution_count": 531,
   "metadata": {},
   "outputs": [
    {
     "data": {
      "text/plain": [
       "0.6926406926406926"
      ]
     },
     "execution_count": 531,
     "metadata": {},
     "output_type": "execute_result"
    }
   ],
   "source": [
    "y_pred = mlpc_tuned.predict(X_test_scaled)\n",
    "accuracy_score(y_test, y_pred)"
   ]
  },
  {
   "cell_type": "code",
   "execution_count": 532,
   "metadata": {},
   "outputs": [],
   "source": [
    "##The model precision of model  is 69% after model tuning by using  ANN  algorithms."
   ]
  },
  {
   "cell_type": "markdown",
   "metadata": {},
   "source": [
    "# CART"
   ]
  },
  {
   "cell_type": "markdown",
   "metadata": {},
   "source": [
    "## Prediction & Model"
   ]
  },
  {
   "cell_type": "code",
   "execution_count": 199,
   "metadata": {},
   "outputs": [],
   "source": [
    "df = diabetes.copy()\n",
    "df = df.dropna()\n",
    "y = df[\"Outcome\"]\n",
    "X = df.drop(['Outcome'], axis=1)\n",
    "#X = df[\"Pregnancies\"]\n",
    "X = pd.DataFrame(X)\n",
    "X_train, X_test, y_train, y_test = train_test_split(X, y, \n",
    "                                                    test_size=0.30, \n",
    "                                                    random_state=42)"
   ]
  },
  {
   "cell_type": "code",
   "execution_count": 200,
   "metadata": {},
   "outputs": [],
   "source": [
    "from sklearn.tree import DecisionTreeClassifier"
   ]
  },
  {
   "cell_type": "code",
   "execution_count": 201,
   "metadata": {},
   "outputs": [],
   "source": [
    "cart = DecisionTreeClassifier()\n",
    "cart_model = cart.fit(X_train, y_train)"
   ]
  },
  {
   "cell_type": "code",
   "execution_count": 202,
   "metadata": {},
   "outputs": [
    {
     "data": {
      "text/plain": [
       "DecisionTreeClassifier()"
      ]
     },
     "execution_count": 202,
     "metadata": {},
     "output_type": "execute_result"
    }
   ],
   "source": [
    "cart_model"
   ]
  },
  {
   "cell_type": "code",
   "execution_count": 207,
   "metadata": {},
   "outputs": [
    {
     "name": "stdout",
     "output_type": "stream",
     "text": [
      "Collecting astor\n",
      "  Downloading astor-0.8.1-py2.py3-none-any.whl (27 kB)\n",
      "Installing collected packages: astor\n",
      "Successfully installed astor-0.8.1\n",
      "Note: you may need to restart the kernel to use updated packages.\n"
     ]
    }
   ],
   "source": [
    "pip install astor"
   ]
  },
  {
   "cell_type": "code",
   "execution_count": 208,
   "metadata": {},
   "outputs": [
    {
     "name": "stdout",
     "output_type": "stream",
     "text": [
      "((((((0 if x[6] <= 0.671999990940094 else 1 if x[6] <= 0.6974999904632568 else\n",
      "    0) if x[5] <= 31.40000057220459 else ((0 if x[3] <= 40.5 else 1) if x[1\n",
      "    ] <= 111.5 else ((0 if x[5] <= 32.59999942779541 else 1) if x[5] <= \n",
      "    37.39999961853027 else 0) if x[2] <= 72.0 else 1) if x[4] <= 9.0 else (\n",
      "    0 if x[6] <= 0.6395000219345093 else 1 if x[6] <= 0.6759999990463257 else\n",
      "    0) if x[0] <= 4.5 else 1 if x[7] <= 26.5 else 0) if x[5] <= \n",
      "    49.10000038146973 else 1) if x[1] <= 127.5 else 1 if x[2] <= 56.0 else \n",
      "    (0 if x[7] <= 27.5 else 1 if x[2] <= 69.5 else 0) if x[5] <= \n",
      "    30.300000190734863 else 1 if x[5] <= 32.000000953674316 else ((0 if x[5\n",
      "    ] <= 33.75 else 1) if x[0] <= 0.5 else 1 if x[5] <= 32.45000076293945 else\n",
      "    0) if x[2] <= 85.0 else 1) if x[7] <= 28.5 else (1 if x[7] <= 29.5 else\n",
      "    (1 if x[1] <= 130.5 else 0) if x[5] <= 9.649999618530273 else 0 if x[1] <=\n",
      "    133.0 else (0 if x[5] <= 22.399999618530273 else 1) if x[0] <= 5.0 else\n",
      "    0) if x[5] <= 26.949999809265137 else (1 if x[1] <= 28.5 else 0 if x[0] <=\n",
      "    9.5 else 0 if x[3] <= 27.0 else 1 if x[5] <= 35.10000038146973 else 0) if\n",
      "    x[1] <= 94.5 else ((((0 if x[6] <= 0.24950000643730164 else 0 if x[2] <=\n",
      "    65.0 else 1) if x[5] <= 28.34999942779541 else 1 if x[5] <= \n",
      "    31.15000057220459 else 1 if x[2] <= 67.0 else 0 if x[7] <= 36.5 else 0 if\n",
      "    x[2] <= 71.0 else (1 if x[2] <= 77.0 else 0) if x[6] <= \n",
      "    0.21000000089406967 else 1) if x[3] <= 26.5 else ((0 if x[3] <= 29.5 else\n",
      "    0 if x[2] <= 45.0 else 1) if x[2] <= 67.0 else 0 if x[2] <= 80.0 else 1 if\n",
      "    x[5] <= 36.85000038146973 else 0) if x[1] <= 127.5 else (1 if x[6] <= \n",
      "    0.15850000083446503 else 0) if x[6] <= 0.3110000044107437 else 1) if x[\n",
      "    2] <= 83.0 else ((0 if x[3] <= 39.5 else 1 if x[1] <= 136.5 else 0) if \n",
      "    x[5] <= 41.19999885559082 else 1) if x[4] <= 124.0 else 0 if x[3] <= \n",
      "    19.5 else 1) if x[6] <= 0.527999997138977 else ((((1 if x[6] <= \n",
      "    0.7134999930858612 else 0) if x[7] <= 32.5 else 1) if x[1] <= 132.0 else\n",
      "    0) if x[5] <= 29.09999942779541 else 0 if x[2] <= 86.0 else 1) if x[5] <=\n",
      "    31.600000381469727 else ((1 if x[2] <= 87.0 else 0 if x[6] <= \n",
      "    0.7305000126361847 else 1) if x[3] <= 54.5 else 0) if x[6] <= \n",
      "    1.1489999890327454 else 1 if x[7] <= 36.0 else 0) if x[1] <= 154.5 else\n",
      "    (1 if x[5] <= 25.350000381469727 else 0 if x[6] <= 0.3684999942779541 else\n",
      "    1 if x[1] <= 179.5 else 0 if x[1] <= 195.5 else 1) if x[5] <= \n",
      "    28.700000762939453 else (((((1 if x[6] <= 0.2695000022649765 else 0) if\n",
      "    x[4] <= 180.0 else 0) if x[4] <= 457.0 else 1) if x[7] <= 30.5 else 1) if\n",
      "    x[6] <= 0.3044999986886978 else (1 if x[1] <= 164.5 else 0) if x[1] <= \n",
      "    165.5 else 1) if x[6] <= 1.4275000095367432 else 1 if x[7] <= 28.0 else 0)\n",
      "\n"
     ]
    }
   ],
   "source": [
    "#pip install skompile\n",
    "from skompiler import skompile\n",
    "\n",
    "print(skompile(cart_model.predict).to(\"python/code\"))"
   ]
  },
  {
   "cell_type": "code",
   "execution_count": 209,
   "metadata": {},
   "outputs": [],
   "source": [
    "x = [9]"
   ]
  },
  {
   "cell_type": "code",
   "execution_count": 210,
   "metadata": {},
   "outputs": [
    {
     "data": {
      "text/plain": [
       "1"
      ]
     },
     "execution_count": 210,
     "metadata": {},
     "output_type": "execute_result"
    }
   ],
   "source": [
    "((0 if x[0] <= 2.5 else 0) if x[0] <= 6.5 else 1 if x[0] <= 13.5 else 1)"
   ]
  },
  {
   "cell_type": "code",
   "execution_count": 211,
   "metadata": {},
   "outputs": [
    {
     "data": {
      "text/plain": [
       "0.7056277056277056"
      ]
     },
     "execution_count": 211,
     "metadata": {},
     "output_type": "execute_result"
    }
   ],
   "source": [
    "y_pred = cart_model.predict(X_test)\n",
    "accuracy_score(y_test, y_pred)"
   ]
  },
  {
   "cell_type": "markdown",
   "metadata": {},
   "source": [
    "## Model Tuning"
   ]
  },
  {
   "cell_type": "code",
   "execution_count": 212,
   "metadata": {},
   "outputs": [
    {
     "data": {
      "text/plain": [
       "DecisionTreeClassifier()"
      ]
     },
     "execution_count": 212,
     "metadata": {},
     "output_type": "execute_result"
    }
   ],
   "source": [
    "cart_model"
   ]
  },
  {
   "cell_type": "code",
   "execution_count": 213,
   "metadata": {},
   "outputs": [
    {
     "data": {
      "text/plain": [
       "\u001b[1;31mType:\u001b[0m        DecisionTreeClassifier\n",
       "\u001b[1;31mString form:\u001b[0m DecisionTreeClassifier()\n",
       "\u001b[1;31mFile:\u001b[0m        c:\\users\\obo\\anaconda3\\lib\\site-packages\\sklearn\\tree\\_classes.py\n",
       "\u001b[1;31mDocstring:\u001b[0m  \n",
       "A decision tree classifier.\n",
       "\n",
       "Read more in the :ref:`User Guide <tree>`.\n",
       "\n",
       "Parameters\n",
       "----------\n",
       "criterion : {\"gini\", \"entropy\"}, default=\"gini\"\n",
       "    The function to measure the quality of a split. Supported criteria are\n",
       "    \"gini\" for the Gini impurity and \"entropy\" for the information gain.\n",
       "\n",
       "splitter : {\"best\", \"random\"}, default=\"best\"\n",
       "    The strategy used to choose the split at each node. Supported\n",
       "    strategies are \"best\" to choose the best split and \"random\" to choose\n",
       "    the best random split.\n",
       "\n",
       "max_depth : int, default=None\n",
       "    The maximum depth of the tree. If None, then nodes are expanded until\n",
       "    all leaves are pure or until all leaves contain less than\n",
       "    min_samples_split samples.\n",
       "\n",
       "min_samples_split : int or float, default=2\n",
       "    The minimum number of samples required to split an internal node:\n",
       "\n",
       "    - If int, then consider `min_samples_split` as the minimum number.\n",
       "    - If float, then `min_samples_split` is a fraction and\n",
       "      `ceil(min_samples_split * n_samples)` are the minimum\n",
       "      number of samples for each split.\n",
       "\n",
       "    .. versionchanged:: 0.18\n",
       "       Added float values for fractions.\n",
       "\n",
       "min_samples_leaf : int or float, default=1\n",
       "    The minimum number of samples required to be at a leaf node.\n",
       "    A split point at any depth will only be considered if it leaves at\n",
       "    least ``min_samples_leaf`` training samples in each of the left and\n",
       "    right branches.  This may have the effect of smoothing the model,\n",
       "    especially in regression.\n",
       "\n",
       "    - If int, then consider `min_samples_leaf` as the minimum number.\n",
       "    - If float, then `min_samples_leaf` is a fraction and\n",
       "      `ceil(min_samples_leaf * n_samples)` are the minimum\n",
       "      number of samples for each node.\n",
       "\n",
       "    .. versionchanged:: 0.18\n",
       "       Added float values for fractions.\n",
       "\n",
       "min_weight_fraction_leaf : float, default=0.0\n",
       "    The minimum weighted fraction of the sum total of weights (of all\n",
       "    the input samples) required to be at a leaf node. Samples have\n",
       "    equal weight when sample_weight is not provided.\n",
       "\n",
       "max_features : int, float or {\"auto\", \"sqrt\", \"log2\"}, default=None\n",
       "    The number of features to consider when looking for the best split:\n",
       "\n",
       "        - If int, then consider `max_features` features at each split.\n",
       "        - If float, then `max_features` is a fraction and\n",
       "          `int(max_features * n_features)` features are considered at each\n",
       "          split.\n",
       "        - If \"auto\", then `max_features=sqrt(n_features)`.\n",
       "        - If \"sqrt\", then `max_features=sqrt(n_features)`.\n",
       "        - If \"log2\", then `max_features=log2(n_features)`.\n",
       "        - If None, then `max_features=n_features`.\n",
       "\n",
       "    Note: the search for a split does not stop until at least one\n",
       "    valid partition of the node samples is found, even if it requires to\n",
       "    effectively inspect more than ``max_features`` features.\n",
       "\n",
       "random_state : int, RandomState instance or None, default=None\n",
       "    Controls the randomness of the estimator. The features are always\n",
       "    randomly permuted at each split, even if ``splitter`` is set to\n",
       "    ``\"best\"``. When ``max_features < n_features``, the algorithm will\n",
       "    select ``max_features`` at random at each split before finding the best\n",
       "    split among them. But the best found split may vary across different\n",
       "    runs, even if ``max_features=n_features``. That is the case, if the\n",
       "    improvement of the criterion is identical for several splits and one\n",
       "    split has to be selected at random. To obtain a deterministic behaviour\n",
       "    during fitting, ``random_state`` has to be fixed to an integer.\n",
       "    See :term:`Glossary <random_state>` for details.\n",
       "\n",
       "max_leaf_nodes : int, default=None\n",
       "    Grow a tree with ``max_leaf_nodes`` in best-first fashion.\n",
       "    Best nodes are defined as relative reduction in impurity.\n",
       "    If None then unlimited number of leaf nodes.\n",
       "\n",
       "min_impurity_decrease : float, default=0.0\n",
       "    A node will be split if this split induces a decrease of the impurity\n",
       "    greater than or equal to this value.\n",
       "\n",
       "    The weighted impurity decrease equation is the following::\n",
       "\n",
       "        N_t / N * (impurity - N_t_R / N_t * right_impurity\n",
       "                            - N_t_L / N_t * left_impurity)\n",
       "\n",
       "    where ``N`` is the total number of samples, ``N_t`` is the number of\n",
       "    samples at the current node, ``N_t_L`` is the number of samples in the\n",
       "    left child, and ``N_t_R`` is the number of samples in the right child.\n",
       "\n",
       "    ``N``, ``N_t``, ``N_t_R`` and ``N_t_L`` all refer to the weighted sum,\n",
       "    if ``sample_weight`` is passed.\n",
       "\n",
       "    .. versionadded:: 0.19\n",
       "\n",
       "min_impurity_split : float, default=0\n",
       "    Threshold for early stopping in tree growth. A node will split\n",
       "    if its impurity is above the threshold, otherwise it is a leaf.\n",
       "\n",
       "    .. deprecated:: 0.19\n",
       "       ``min_impurity_split`` has been deprecated in favor of\n",
       "       ``min_impurity_decrease`` in 0.19. The default value of\n",
       "       ``min_impurity_split`` has changed from 1e-7 to 0 in 0.23 and it\n",
       "       will be removed in 1.0 (renaming of 0.25).\n",
       "       Use ``min_impurity_decrease`` instead.\n",
       "\n",
       "class_weight : dict, list of dict or \"balanced\", default=None\n",
       "    Weights associated with classes in the form ``{class_label: weight}``.\n",
       "    If None, all classes are supposed to have weight one. For\n",
       "    multi-output problems, a list of dicts can be provided in the same\n",
       "    order as the columns of y.\n",
       "\n",
       "    Note that for multioutput (including multilabel) weights should be\n",
       "    defined for each class of every column in its own dict. For example,\n",
       "    for four-class multilabel classification weights should be\n",
       "    [{0: 1, 1: 1}, {0: 1, 1: 5}, {0: 1, 1: 1}, {0: 1, 1: 1}] instead of\n",
       "    [{1:1}, {2:5}, {3:1}, {4:1}].\n",
       "\n",
       "    The \"balanced\" mode uses the values of y to automatically adjust\n",
       "    weights inversely proportional to class frequencies in the input data\n",
       "    as ``n_samples / (n_classes * np.bincount(y))``\n",
       "\n",
       "    For multi-output, the weights of each column of y will be multiplied.\n",
       "\n",
       "    Note that these weights will be multiplied with sample_weight (passed\n",
       "    through the fit method) if sample_weight is specified.\n",
       "\n",
       "ccp_alpha : non-negative float, default=0.0\n",
       "    Complexity parameter used for Minimal Cost-Complexity Pruning. The\n",
       "    subtree with the largest cost complexity that is smaller than\n",
       "    ``ccp_alpha`` will be chosen. By default, no pruning is performed. See\n",
       "    :ref:`minimal_cost_complexity_pruning` for details.\n",
       "\n",
       "    .. versionadded:: 0.22\n",
       "\n",
       "Attributes\n",
       "----------\n",
       "classes_ : ndarray of shape (n_classes,) or list of ndarray\n",
       "    The classes labels (single output problem),\n",
       "    or a list of arrays of class labels (multi-output problem).\n",
       "\n",
       "feature_importances_ : ndarray of shape (n_features,)\n",
       "    The impurity-based feature importances.\n",
       "    The higher, the more important the feature.\n",
       "    The importance of a feature is computed as the (normalized)\n",
       "    total reduction of the criterion brought by that feature.  It is also\n",
       "    known as the Gini importance [4]_.\n",
       "\n",
       "    Warning: impurity-based feature importances can be misleading for\n",
       "    high cardinality features (many unique values). See\n",
       "    :func:`sklearn.inspection.permutation_importance` as an alternative.\n",
       "\n",
       "max_features_ : int\n",
       "    The inferred value of max_features.\n",
       "\n",
       "n_classes_ : int or list of int\n",
       "    The number of classes (for single output problems),\n",
       "    or a list containing the number of classes for each\n",
       "    output (for multi-output problems).\n",
       "\n",
       "n_features_ : int\n",
       "    The number of features when ``fit`` is performed.\n",
       "\n",
       "n_outputs_ : int\n",
       "    The number of outputs when ``fit`` is performed.\n",
       "\n",
       "tree_ : Tree instance\n",
       "    The underlying Tree object. Please refer to\n",
       "    ``help(sklearn.tree._tree.Tree)`` for attributes of Tree object and\n",
       "    :ref:`sphx_glr_auto_examples_tree_plot_unveil_tree_structure.py`\n",
       "    for basic usage of these attributes.\n",
       "\n",
       "See Also\n",
       "--------\n",
       "DecisionTreeRegressor : A decision tree regressor.\n",
       "\n",
       "Notes\n",
       "-----\n",
       "The default values for the parameters controlling the size of the trees\n",
       "(e.g. ``max_depth``, ``min_samples_leaf``, etc.) lead to fully grown and\n",
       "unpruned trees which can potentially be very large on some data sets. To\n",
       "reduce memory consumption, the complexity and size of the trees should be\n",
       "controlled by setting those parameter values.\n",
       "\n",
       "The :meth:`predict` method operates using the :func:`numpy.argmax`\n",
       "function on the outputs of :meth:`predict_proba`. This means that in\n",
       "case the highest predicted probabilities are tied, the classifier will\n",
       "predict the tied class with the lowest index in :term:`classes_`.\n",
       "\n",
       "References\n",
       "----------\n",
       "\n",
       ".. [1] https://en.wikipedia.org/wiki/Decision_tree_learning\n",
       "\n",
       ".. [2] L. Breiman, J. Friedman, R. Olshen, and C. Stone, \"Classification\n",
       "       and Regression Trees\", Wadsworth, Belmont, CA, 1984.\n",
       "\n",
       ".. [3] T. Hastie, R. Tibshirani and J. Friedman. \"Elements of Statistical\n",
       "       Learning\", Springer, 2009.\n",
       "\n",
       ".. [4] L. Breiman, and A. Cutler, \"Random Forests\",\n",
       "       https://www.stat.berkeley.edu/~breiman/RandomForests/cc_home.htm\n",
       "\n",
       "Examples\n",
       "--------\n",
       ">>> from sklearn.datasets import load_iris\n",
       ">>> from sklearn.model_selection import cross_val_score\n",
       ">>> from sklearn.tree import DecisionTreeClassifier\n",
       ">>> clf = DecisionTreeClassifier(random_state=0)\n",
       ">>> iris = load_iris()\n",
       ">>> cross_val_score(clf, iris.data, iris.target, cv=10)\n",
       "...                             # doctest: +SKIP\n",
       "...\n",
       "array([ 1.     ,  0.93...,  0.86...,  0.93...,  0.93...,\n",
       "        0.93...,  0.93...,  1.     ,  0.93...,  1.      ])\n"
      ]
     },
     "metadata": {},
     "output_type": "display_data"
    }
   ],
   "source": [
    "?cart_model"
   ]
  },
  {
   "cell_type": "code",
   "execution_count": 214,
   "metadata": {},
   "outputs": [],
   "source": [
    "cart_grid = {\"max_depth\": range(1,10),\n",
    "            \"min_samples_split\" : list(range(2,50)) }"
   ]
  },
  {
   "cell_type": "code",
   "execution_count": 215,
   "metadata": {},
   "outputs": [
    {
     "name": "stdout",
     "output_type": "stream",
     "text": [
      "Fitting 10 folds for each of 432 candidates, totalling 4320 fits\n"
     ]
    }
   ],
   "source": [
    "cart = tree.DecisionTreeClassifier()\n",
    "cart_cv = GridSearchCV(cart, cart_grid, cv = 10, n_jobs = -1, verbose = 2)\n",
    "cart_cv_model = cart_cv.fit(X_train, y_train)"
   ]
  },
  {
   "cell_type": "code",
   "execution_count": 216,
   "metadata": {},
   "outputs": [
    {
     "name": "stdout",
     "output_type": "stream",
     "text": [
      "The best parameters: {'max_depth': 5, 'min_samples_split': 19}\n"
     ]
    }
   ],
   "source": [
    "print(\"The best parameters: \" + str(cart_cv_model.best_params_))"
   ]
  },
  {
   "cell_type": "code",
   "execution_count": 217,
   "metadata": {},
   "outputs": [],
   "source": [
    "#final"
   ]
  },
  {
   "cell_type": "code",
   "execution_count": 218,
   "metadata": {},
   "outputs": [],
   "source": [
    "cart = tree.DecisionTreeClassifier(max_depth = 5, min_samples_split = 19)\n",
    "cart_tuned = cart.fit(X_train, y_train)"
   ]
  },
  {
   "cell_type": "code",
   "execution_count": 219,
   "metadata": {},
   "outputs": [
    {
     "data": {
      "text/plain": [
       "0.7532467532467533"
      ]
     },
     "execution_count": 219,
     "metadata": {},
     "output_type": "execute_result"
    }
   ],
   "source": [
    "y_pred = cart_tuned.predict(X_test)\n",
    "accuracy_score(y_test, y_pred)"
   ]
  },
  {
   "cell_type": "code",
   "execution_count": null,
   "metadata": {},
   "outputs": [],
   "source": [
    "##The model precision of model  is 75% after model tuning by using  CART  algorithms."
   ]
  },
  {
   "cell_type": "markdown",
   "metadata": {},
   "source": [
    "# Random Forests"
   ]
  },
  {
   "cell_type": "code",
   "execution_count": 220,
   "metadata": {},
   "outputs": [],
   "source": [
    "df = diabetes.copy()\n",
    "df = df.dropna()\n",
    "y = df[\"Outcome\"]\n",
    "X = df.drop(['Outcome'], axis=1)\n",
    "\n",
    "X = pd.DataFrame(X)\n",
    "X_train, X_test, y_train, y_test = train_test_split(X, y, \n",
    "                                                    test_size=0.30, \n",
    "                                                    random_state=42)"
   ]
  },
  {
   "cell_type": "code",
   "execution_count": 221,
   "metadata": {},
   "outputs": [],
   "source": [
    "from sklearn.ensemble import RandomForestClassifier"
   ]
  },
  {
   "cell_type": "code",
   "execution_count": 222,
   "metadata": {},
   "outputs": [],
   "source": [
    "rf_model = RandomForestClassifier().fit(X_train, y_train)"
   ]
  },
  {
   "cell_type": "code",
   "execution_count": 223,
   "metadata": {},
   "outputs": [
    {
     "data": {
      "text/plain": [
       "RandomForestClassifier()"
      ]
     },
     "execution_count": 223,
     "metadata": {},
     "output_type": "execute_result"
    }
   ],
   "source": [
    "rf_model"
   ]
  },
  {
   "cell_type": "code",
   "execution_count": 224,
   "metadata": {},
   "outputs": [
    {
     "data": {
      "text/plain": [
       "0.7532467532467533"
      ]
     },
     "execution_count": 224,
     "metadata": {},
     "output_type": "execute_result"
    }
   ],
   "source": [
    "y_pred = rf_model.predict(X_test)\n",
    "accuracy_score(y_test, y_pred)"
   ]
  },
  {
   "cell_type": "markdown",
   "metadata": {},
   "source": [
    "## Model Tuning"
   ]
  },
  {
   "cell_type": "code",
   "execution_count": 225,
   "metadata": {},
   "outputs": [
    {
     "data": {
      "text/plain": [
       "RandomForestClassifier()"
      ]
     },
     "execution_count": 225,
     "metadata": {},
     "output_type": "execute_result"
    }
   ],
   "source": [
    "rf_model"
   ]
  },
  {
   "cell_type": "code",
   "execution_count": 226,
   "metadata": {},
   "outputs": [
    {
     "data": {
      "text/plain": [
       "\u001b[1;31mType:\u001b[0m        RandomForestClassifier\n",
       "\u001b[1;31mString form:\u001b[0m RandomForestClassifier()\n",
       "\u001b[1;31mLength:\u001b[0m      100\n",
       "\u001b[1;31mFile:\u001b[0m        c:\\users\\obo\\anaconda3\\lib\\site-packages\\sklearn\\ensemble\\_forest.py\n",
       "\u001b[1;31mDocstring:\u001b[0m  \n",
       "A random forest classifier.\n",
       "\n",
       "A random forest is a meta estimator that fits a number of decision tree\n",
       "classifiers on various sub-samples of the dataset and uses averaging to\n",
       "improve the predictive accuracy and control over-fitting.\n",
       "The sub-sample size is controlled with the `max_samples` parameter if\n",
       "`bootstrap=True` (default), otherwise the whole dataset is used to build\n",
       "each tree.\n",
       "\n",
       "Read more in the :ref:`User Guide <forest>`.\n",
       "\n",
       "Parameters\n",
       "----------\n",
       "n_estimators : int, default=100\n",
       "    The number of trees in the forest.\n",
       "\n",
       "    .. versionchanged:: 0.22\n",
       "       The default value of ``n_estimators`` changed from 10 to 100\n",
       "       in 0.22.\n",
       "\n",
       "criterion : {\"gini\", \"entropy\"}, default=\"gini\"\n",
       "    The function to measure the quality of a split. Supported criteria are\n",
       "    \"gini\" for the Gini impurity and \"entropy\" for the information gain.\n",
       "    Note: this parameter is tree-specific.\n",
       "\n",
       "max_depth : int, default=None\n",
       "    The maximum depth of the tree. If None, then nodes are expanded until\n",
       "    all leaves are pure or until all leaves contain less than\n",
       "    min_samples_split samples.\n",
       "\n",
       "min_samples_split : int or float, default=2\n",
       "    The minimum number of samples required to split an internal node:\n",
       "\n",
       "    - If int, then consider `min_samples_split` as the minimum number.\n",
       "    - If float, then `min_samples_split` is a fraction and\n",
       "      `ceil(min_samples_split * n_samples)` are the minimum\n",
       "      number of samples for each split.\n",
       "\n",
       "    .. versionchanged:: 0.18\n",
       "       Added float values for fractions.\n",
       "\n",
       "min_samples_leaf : int or float, default=1\n",
       "    The minimum number of samples required to be at a leaf node.\n",
       "    A split point at any depth will only be considered if it leaves at\n",
       "    least ``min_samples_leaf`` training samples in each of the left and\n",
       "    right branches.  This may have the effect of smoothing the model,\n",
       "    especially in regression.\n",
       "\n",
       "    - If int, then consider `min_samples_leaf` as the minimum number.\n",
       "    - If float, then `min_samples_leaf` is a fraction and\n",
       "      `ceil(min_samples_leaf * n_samples)` are the minimum\n",
       "      number of samples for each node.\n",
       "\n",
       "    .. versionchanged:: 0.18\n",
       "       Added float values for fractions.\n",
       "\n",
       "min_weight_fraction_leaf : float, default=0.0\n",
       "    The minimum weighted fraction of the sum total of weights (of all\n",
       "    the input samples) required to be at a leaf node. Samples have\n",
       "    equal weight when sample_weight is not provided.\n",
       "\n",
       "max_features : {\"auto\", \"sqrt\", \"log2\"}, int or float, default=\"auto\"\n",
       "    The number of features to consider when looking for the best split:\n",
       "\n",
       "    - If int, then consider `max_features` features at each split.\n",
       "    - If float, then `max_features` is a fraction and\n",
       "      `round(max_features * n_features)` features are considered at each\n",
       "      split.\n",
       "    - If \"auto\", then `max_features=sqrt(n_features)`.\n",
       "    - If \"sqrt\", then `max_features=sqrt(n_features)` (same as \"auto\").\n",
       "    - If \"log2\", then `max_features=log2(n_features)`.\n",
       "    - If None, then `max_features=n_features`.\n",
       "\n",
       "    Note: the search for a split does not stop until at least one\n",
       "    valid partition of the node samples is found, even if it requires to\n",
       "    effectively inspect more than ``max_features`` features.\n",
       "\n",
       "max_leaf_nodes : int, default=None\n",
       "    Grow trees with ``max_leaf_nodes`` in best-first fashion.\n",
       "    Best nodes are defined as relative reduction in impurity.\n",
       "    If None then unlimited number of leaf nodes.\n",
       "\n",
       "min_impurity_decrease : float, default=0.0\n",
       "    A node will be split if this split induces a decrease of the impurity\n",
       "    greater than or equal to this value.\n",
       "\n",
       "    The weighted impurity decrease equation is the following::\n",
       "\n",
       "        N_t / N * (impurity - N_t_R / N_t * right_impurity\n",
       "                            - N_t_L / N_t * left_impurity)\n",
       "\n",
       "    where ``N`` is the total number of samples, ``N_t`` is the number of\n",
       "    samples at the current node, ``N_t_L`` is the number of samples in the\n",
       "    left child, and ``N_t_R`` is the number of samples in the right child.\n",
       "\n",
       "    ``N``, ``N_t``, ``N_t_R`` and ``N_t_L`` all refer to the weighted sum,\n",
       "    if ``sample_weight`` is passed.\n",
       "\n",
       "    .. versionadded:: 0.19\n",
       "\n",
       "min_impurity_split : float, default=None\n",
       "    Threshold for early stopping in tree growth. A node will split\n",
       "    if its impurity is above the threshold, otherwise it is a leaf.\n",
       "\n",
       "    .. deprecated:: 0.19\n",
       "       ``min_impurity_split`` has been deprecated in favor of\n",
       "       ``min_impurity_decrease`` in 0.19. The default value of\n",
       "       ``min_impurity_split`` has changed from 1e-7 to 0 in 0.23 and it\n",
       "       will be removed in 1.0 (renaming of 0.25).\n",
       "       Use ``min_impurity_decrease`` instead.\n",
       "\n",
       "bootstrap : bool, default=True\n",
       "    Whether bootstrap samples are used when building trees. If False, the\n",
       "    whole dataset is used to build each tree.\n",
       "\n",
       "oob_score : bool, default=False\n",
       "    Whether to use out-of-bag samples to estimate the generalization score.\n",
       "    Only available if bootstrap=True.\n",
       "\n",
       "n_jobs : int, default=None\n",
       "    The number of jobs to run in parallel. :meth:`fit`, :meth:`predict`,\n",
       "    :meth:`decision_path` and :meth:`apply` are all parallelized over the\n",
       "    trees. ``None`` means 1 unless in a :obj:`joblib.parallel_backend`\n",
       "    context. ``-1`` means using all processors. See :term:`Glossary\n",
       "    <n_jobs>` for more details.\n",
       "\n",
       "random_state : int, RandomState instance or None, default=None\n",
       "    Controls both the randomness of the bootstrapping of the samples used\n",
       "    when building trees (if ``bootstrap=True``) and the sampling of the\n",
       "    features to consider when looking for the best split at each node\n",
       "    (if ``max_features < n_features``).\n",
       "    See :term:`Glossary <random_state>` for details.\n",
       "\n",
       "verbose : int, default=0\n",
       "    Controls the verbosity when fitting and predicting.\n",
       "\n",
       "warm_start : bool, default=False\n",
       "    When set to ``True``, reuse the solution of the previous call to fit\n",
       "    and add more estimators to the ensemble, otherwise, just fit a whole\n",
       "    new forest. See :term:`the Glossary <warm_start>`.\n",
       "\n",
       "class_weight : {\"balanced\", \"balanced_subsample\"}, dict or list of dicts,             default=None\n",
       "    Weights associated with classes in the form ``{class_label: weight}``.\n",
       "    If not given, all classes are supposed to have weight one. For\n",
       "    multi-output problems, a list of dicts can be provided in the same\n",
       "    order as the columns of y.\n",
       "\n",
       "    Note that for multioutput (including multilabel) weights should be\n",
       "    defined for each class of every column in its own dict. For example,\n",
       "    for four-class multilabel classification weights should be\n",
       "    [{0: 1, 1: 1}, {0: 1, 1: 5}, {0: 1, 1: 1}, {0: 1, 1: 1}] instead of\n",
       "    [{1:1}, {2:5}, {3:1}, {4:1}].\n",
       "\n",
       "    The \"balanced\" mode uses the values of y to automatically adjust\n",
       "    weights inversely proportional to class frequencies in the input data\n",
       "    as ``n_samples / (n_classes * np.bincount(y))``\n",
       "\n",
       "    The \"balanced_subsample\" mode is the same as \"balanced\" except that\n",
       "    weights are computed based on the bootstrap sample for every tree\n",
       "    grown.\n",
       "\n",
       "    For multi-output, the weights of each column of y will be multiplied.\n",
       "\n",
       "    Note that these weights will be multiplied with sample_weight (passed\n",
       "    through the fit method) if sample_weight is specified.\n",
       "\n",
       "ccp_alpha : non-negative float, default=0.0\n",
       "    Complexity parameter used for Minimal Cost-Complexity Pruning. The\n",
       "    subtree with the largest cost complexity that is smaller than\n",
       "    ``ccp_alpha`` will be chosen. By default, no pruning is performed. See\n",
       "    :ref:`minimal_cost_complexity_pruning` for details.\n",
       "\n",
       "    .. versionadded:: 0.22\n",
       "\n",
       "max_samples : int or float, default=None\n",
       "    If bootstrap is True, the number of samples to draw from X\n",
       "    to train each base estimator.\n",
       "\n",
       "    - If None (default), then draw `X.shape[0]` samples.\n",
       "    - If int, then draw `max_samples` samples.\n",
       "    - If float, then draw `max_samples * X.shape[0]` samples. Thus,\n",
       "      `max_samples` should be in the interval `(0, 1)`.\n",
       "\n",
       "    .. versionadded:: 0.22\n",
       "\n",
       "Attributes\n",
       "----------\n",
       "base_estimator_ : DecisionTreeClassifier\n",
       "    The child estimator template used to create the collection of fitted\n",
       "    sub-estimators.\n",
       "\n",
       "estimators_ : list of DecisionTreeClassifier\n",
       "    The collection of fitted sub-estimators.\n",
       "\n",
       "classes_ : ndarray of shape (n_classes,) or a list of such arrays\n",
       "    The classes labels (single output problem), or a list of arrays of\n",
       "    class labels (multi-output problem).\n",
       "\n",
       "n_classes_ : int or list\n",
       "    The number of classes (single output problem), or a list containing the\n",
       "    number of classes for each output (multi-output problem).\n",
       "\n",
       "n_features_ : int\n",
       "    The number of features when ``fit`` is performed.\n",
       "\n",
       "n_outputs_ : int\n",
       "    The number of outputs when ``fit`` is performed.\n",
       "\n",
       "feature_importances_ : ndarray of shape (n_features,)\n",
       "    The impurity-based feature importances.\n",
       "    The higher, the more important the feature.\n",
       "    The importance of a feature is computed as the (normalized)\n",
       "    total reduction of the criterion brought by that feature.  It is also\n",
       "    known as the Gini importance.\n",
       "\n",
       "    Warning: impurity-based feature importances can be misleading for\n",
       "    high cardinality features (many unique values). See\n",
       "    :func:`sklearn.inspection.permutation_importance` as an alternative.\n",
       "\n",
       "oob_score_ : float\n",
       "    Score of the training dataset obtained using an out-of-bag estimate.\n",
       "    This attribute exists only when ``oob_score`` is True.\n",
       "\n",
       "oob_decision_function_ : ndarray of shape (n_samples, n_classes)\n",
       "    Decision function computed with out-of-bag estimate on the training\n",
       "    set. If n_estimators is small it might be possible that a data point\n",
       "    was never left out during the bootstrap. In this case,\n",
       "    `oob_decision_function_` might contain NaN. This attribute exists\n",
       "    only when ``oob_score`` is True.\n",
       "\n",
       "See Also\n",
       "--------\n",
       "DecisionTreeClassifier, ExtraTreesClassifier\n",
       "\n",
       "Notes\n",
       "-----\n",
       "The default values for the parameters controlling the size of the trees\n",
       "(e.g. ``max_depth``, ``min_samples_leaf``, etc.) lead to fully grown and\n",
       "unpruned trees which can potentially be very large on some data sets. To\n",
       "reduce memory consumption, the complexity and size of the trees should be\n",
       "controlled by setting those parameter values.\n",
       "\n",
       "The features are always randomly permuted at each split. Therefore,\n",
       "the best found split may vary, even with the same training data,\n",
       "``max_features=n_features`` and ``bootstrap=False``, if the improvement\n",
       "of the criterion is identical for several splits enumerated during the\n",
       "search of the best split. To obtain a deterministic behaviour during\n",
       "fitting, ``random_state`` has to be fixed.\n",
       "\n",
       "References\n",
       "----------\n",
       ".. [1] L. Breiman, \"Random Forests\", Machine Learning, 45(1), 5-32, 2001.\n",
       "\n",
       "Examples\n",
       "--------\n",
       ">>> from sklearn.ensemble import RandomForestClassifier\n",
       ">>> from sklearn.datasets import make_classification\n",
       ">>> X, y = make_classification(n_samples=1000, n_features=4,\n",
       "...                            n_informative=2, n_redundant=0,\n",
       "...                            random_state=0, shuffle=False)\n",
       ">>> clf = RandomForestClassifier(max_depth=2, random_state=0)\n",
       ">>> clf.fit(X, y)\n",
       "RandomForestClassifier(...)\n",
       ">>> print(clf.predict([[0, 0, 0, 0]]))\n",
       "[1]\n"
      ]
     },
     "metadata": {},
     "output_type": "display_data"
    }
   ],
   "source": [
    "?rf_model"
   ]
  },
  {
   "cell_type": "code",
   "execution_count": 227,
   "metadata": {},
   "outputs": [],
   "source": [
    "rf_params = {\"max_depth\": [2,5,8,10],\n",
    "            \"max_features\": [2,5,8],\n",
    "            \"n_estimators\": [10,500,1000],\n",
    "            \"min_samples_split\": [2,5,10]}"
   ]
  },
  {
   "cell_type": "code",
   "execution_count": 228,
   "metadata": {},
   "outputs": [],
   "source": [
    "rf_model = RandomForestClassifier()\n",
    "\n",
    "rf_cv_model = GridSearchCV(rf_model, \n",
    "                           rf_params, \n",
    "                           cv = 10, \n",
    "                           n_jobs = -1, \n",
    "                           verbose = 2) "
   ]
  },
  {
   "cell_type": "code",
   "execution_count": 229,
   "metadata": {},
   "outputs": [
    {
     "name": "stdout",
     "output_type": "stream",
     "text": [
      "Fitting 10 folds for each of 108 candidates, totalling 1080 fits\n"
     ]
    },
    {
     "data": {
      "text/plain": [
       "GridSearchCV(cv=10, estimator=RandomForestClassifier(), n_jobs=-1,\n",
       "             param_grid={'max_depth': [2, 5, 8, 10], 'max_features': [2, 5, 8],\n",
       "                         'min_samples_split': [2, 5, 10],\n",
       "                         'n_estimators': [10, 500, 1000]},\n",
       "             verbose=2)"
      ]
     },
     "execution_count": 229,
     "metadata": {},
     "output_type": "execute_result"
    }
   ],
   "source": [
    "rf_cv_model.fit(X_train, y_train)"
   ]
  },
  {
   "cell_type": "code",
   "execution_count": 230,
   "metadata": {},
   "outputs": [
    {
     "name": "stdout",
     "output_type": "stream",
     "text": [
      "The best parameters: {'max_depth': 10, 'max_features': 8, 'min_samples_split': 5, 'n_estimators': 1000}\n"
     ]
    }
   ],
   "source": [
    "print(\"The best parameters: \" + str(rf_cv_model.best_params_))"
   ]
  },
  {
   "cell_type": "code",
   "execution_count": null,
   "metadata": {},
   "outputs": [],
   "source": [
    "#final"
   ]
  },
  {
   "cell_type": "code",
   "execution_count": 231,
   "metadata": {},
   "outputs": [
    {
     "data": {
      "text/plain": [
       "RandomForestClassifier(max_depth=10, max_features=8, min_samples_split=5,\n",
       "                       n_estimators=1000)"
      ]
     },
     "execution_count": 231,
     "metadata": {},
     "output_type": "execute_result"
    }
   ],
   "source": [
    "rf_tuned = RandomForestClassifier(max_depth = 10, \n",
    "                                  max_features = 8, \n",
    "                                  min_samples_split = 5,\n",
    "                                  n_estimators = 1000)\n",
    "\n",
    "rf_tuned.fit(X_train, y_train)"
   ]
  },
  {
   "cell_type": "code",
   "execution_count": 232,
   "metadata": {},
   "outputs": [
    {
     "data": {
      "text/plain": [
       "0.7359307359307359"
      ]
     },
     "execution_count": 232,
     "metadata": {},
     "output_type": "execute_result"
    }
   ],
   "source": [
    "y_pred = rf_tuned.predict(X_test)\n",
    "accuracy_score(y_test, y_pred)"
   ]
  },
  {
   "cell_type": "code",
   "execution_count": 233,
   "metadata": {},
   "outputs": [],
   "source": [
    "##The model precision of model  is 73% after model tuning by using  RF  algorithms."
   ]
  },
  {
   "cell_type": "code",
   "execution_count": 234,
   "metadata": {},
   "outputs": [],
   "source": [
    "Importance = pd.DataFrame({\"Importance\": rf_tuned.feature_importances_*100},\n",
    "                         index = X_train.columns)"
   ]
  },
  {
   "cell_type": "code",
   "execution_count": 235,
   "metadata": {},
   "outputs": [
    {
     "data": {
      "text/plain": [
       "Text(0.5, 0, 'Importance Level of Dependents')"
      ]
     },
     "execution_count": 235,
     "metadata": {},
     "output_type": "execute_result"
    },
    {
     "data": {
      "image/png": "[encoded data removed]",
      "text/plain": [
       "<Figure size 432x288 with 1 Axes>"
      ]
     },
     "metadata": {
      "needs_background": "light"
     },
     "output_type": "display_data"
    }
   ],
   "source": [
    "Importance.sort_values(by = \"Importance\", \n",
    "                       axis = 0, \n",
    "                       ascending = True).plot(kind =\"barh\", color = \"r\")\n",
    "\n",
    "plt.xlabel(\"Importance Level of Dependents\")"
   ]
  },
  {
   "cell_type": "code",
   "execution_count": 236,
   "metadata": {},
   "outputs": [],
   "source": [
    "#Basically, it can be seen that Glucose is an outstanding dependent for diabetes."
   ]
  },
  {
   "cell_type": "markdown",
   "metadata": {},
   "source": [
    "# Gradient Boosting Machines"
   ]
  },
  {
   "cell_type": "code",
   "execution_count": 365,
   "metadata": {},
   "outputs": [],
   "source": [
    "df = diabetes.copy()\n",
    "df = df.dropna()\n",
    "y = df[\"Outcome\"]\n",
    "X = df.drop(['Outcome'], axis=1)\n",
    "\n",
    "X = pd.DataFrame(X)\n",
    "X_train, X_test, y_train, y_test = train_test_split(X, y, \n",
    "                                                    test_size=0.30, \n",
    "                                                    random_state=42)"
   ]
  },
  {
   "cell_type": "code",
   "execution_count": 238,
   "metadata": {},
   "outputs": [],
   "source": [
    "from sklearn.ensemble import GradientBoostingClassifier"
   ]
  },
  {
   "cell_type": "code",
   "execution_count": 239,
   "metadata": {},
   "outputs": [],
   "source": [
    "gbm_model = GradientBoostingClassifier().fit(X_train, y_train)"
   ]
  },
  {
   "cell_type": "code",
   "execution_count": 240,
   "metadata": {},
   "outputs": [
    {
     "data": {
      "text/plain": [
       "0.7445887445887446"
      ]
     },
     "execution_count": 240,
     "metadata": {},
     "output_type": "execute_result"
    }
   ],
   "source": [
    "y_pred = gbm_model.predict(X_test)\n",
    "accuracy_score(y_test, y_pred)"
   ]
  },
  {
   "cell_type": "markdown",
   "metadata": {},
   "source": [
    "## Model Tuning"
   ]
  },
  {
   "cell_type": "code",
   "execution_count": 241,
   "metadata": {},
   "outputs": [
    {
     "data": {
      "text/plain": [
       "GradientBoostingClassifier()"
      ]
     },
     "execution_count": 241,
     "metadata": {},
     "output_type": "execute_result"
    }
   ],
   "source": [
    "gbm_model"
   ]
  },
  {
   "cell_type": "code",
   "execution_count": 242,
   "metadata": {
    "collapsed": true,
    "jupyter": {
     "outputs_hidden": true
    }
   },
   "outputs": [
    {
     "data": {
      "text/plain": [
       "\u001b[1;31mType:\u001b[0m        GradientBoostingClassifier\n",
       "\u001b[1;31mString form:\u001b[0m GradientBoostingClassifier()\n",
       "\u001b[1;31mLength:\u001b[0m      100\n",
       "\u001b[1;31mFile:\u001b[0m        c:\\users\\obo\\anaconda3\\lib\\site-packages\\sklearn\\ensemble\\_gb.py\n",
       "\u001b[1;31mDocstring:\u001b[0m  \n",
       "Gradient Boosting for classification.\n",
       "\n",
       "GB builds an additive model in a\n",
       "forward stage-wise fashion; it allows for the optimization of\n",
       "arbitrary differentiable loss functions. In each stage ``n_classes_``\n",
       "regression trees are fit on the negative gradient of the\n",
       "binomial or multinomial deviance loss function. Binary classification\n",
       "is a special case where only a single regression tree is induced.\n",
       "\n",
       "Read more in the :ref:`User Guide <gradient_boosting>`.\n",
       "\n",
       "Parameters\n",
       "----------\n",
       "loss : {'deviance', 'exponential'}, default='deviance'\n",
       "    The loss function to be optimized. 'deviance' refers to\n",
       "    deviance (= logistic regression) for classification\n",
       "    with probabilistic outputs. For loss 'exponential' gradient\n",
       "    boosting recovers the AdaBoost algorithm.\n",
       "\n",
       "learning_rate : float, default=0.1\n",
       "    Learning rate shrinks the contribution of each tree by `learning_rate`.\n",
       "    There is a trade-off between learning_rate and n_estimators.\n",
       "\n",
       "n_estimators : int, default=100\n",
       "    The number of boosting stages to perform. Gradient boosting\n",
       "    is fairly robust to over-fitting so a large number usually\n",
       "    results in better performance.\n",
       "\n",
       "subsample : float, default=1.0\n",
       "    The fraction of samples to be used for fitting the individual base\n",
       "    learners. If smaller than 1.0 this results in Stochastic Gradient\n",
       "    Boosting. `subsample` interacts with the parameter `n_estimators`.\n",
       "    Choosing `subsample < 1.0` leads to a reduction of variance\n",
       "    and an increase in bias.\n",
       "\n",
       "criterion : {'friedman_mse', 'mse', 'mae'}, default='friedman_mse'\n",
       "    The function to measure the quality of a split. Supported criteria\n",
       "    are 'friedman_mse' for the mean squared error with improvement\n",
       "    score by Friedman, 'mse' for mean squared error, and 'mae' for\n",
       "    the mean absolute error. The default value of 'friedman_mse' is\n",
       "    generally the best as it can provide a better approximation in\n",
       "    some cases.\n",
       "\n",
       "    .. versionadded:: 0.18\n",
       "    .. deprecated:: 0.24\n",
       "        `criterion='mae'` is deprecated and will be removed in version\n",
       "        1.1 (renaming of 0.26). Use `criterion='friedman_mse'` or `'mse'`\n",
       "        instead, as trees should use a least-square criterion in\n",
       "        Gradient Boosting.\n",
       "\n",
       "min_samples_split : int or float, default=2\n",
       "    The minimum number of samples required to split an internal node:\n",
       "\n",
       "    - If int, then consider `min_samples_split` as the minimum number.\n",
       "    - If float, then `min_samples_split` is a fraction and\n",
       "      `ceil(min_samples_split * n_samples)` are the minimum\n",
       "      number of samples for each split.\n",
       "\n",
       "    .. versionchanged:: 0.18\n",
       "       Added float values for fractions.\n",
       "\n",
       "min_samples_leaf : int or float, default=1\n",
       "    The minimum number of samples required to be at a leaf node.\n",
       "    A split point at any depth will only be considered if it leaves at\n",
       "    least ``min_samples_leaf`` training samples in each of the left and\n",
       "    right branches.  This may have the effect of smoothing the model,\n",
       "    especially in regression.\n",
       "\n",
       "    - If int, then consider `min_samples_leaf` as the minimum number.\n",
       "    - If float, then `min_samples_leaf` is a fraction and\n",
       "      `ceil(min_samples_leaf * n_samples)` are the minimum\n",
       "      number of samples for each node.\n",
       "\n",
       "    .. versionchanged:: 0.18\n",
       "       Added float values for fractions.\n",
       "\n",
       "min_weight_fraction_leaf : float, default=0.0\n",
       "    The minimum weighted fraction of the sum total of weights (of all\n",
       "    the input samples) required to be at a leaf node. Samples have\n",
       "    equal weight when sample_weight is not provided.\n",
       "\n",
       "max_depth : int, default=3\n",
       "    The maximum depth of the individual regression estimators. The maximum\n",
       "    depth limits the number of nodes in the tree. Tune this parameter\n",
       "    for best performance; the best value depends on the interaction\n",
       "    of the input variables.\n",
       "\n",
       "min_impurity_decrease : float, default=0.0\n",
       "    A node will be split if this split induces a decrease of the impurity\n",
       "    greater than or equal to this value.\n",
       "\n",
       "    The weighted impurity decrease equation is the following::\n",
       "\n",
       "        N_t / N * (impurity - N_t_R / N_t * right_impurity\n",
       "                            - N_t_L / N_t * left_impurity)\n",
       "\n",
       "    where ``N`` is the total number of samples, ``N_t`` is the number of\n",
       "    samples at the current node, ``N_t_L`` is the number of samples in the\n",
       "    left child, and ``N_t_R`` is the number of samples in the right child.\n",
       "\n",
       "    ``N``, ``N_t``, ``N_t_R`` and ``N_t_L`` all refer to the weighted sum,\n",
       "    if ``sample_weight`` is passed.\n",
       "\n",
       "    .. versionadded:: 0.19\n",
       "\n",
       "min_impurity_split : float, default=None\n",
       "    Threshold for early stopping in tree growth. A node will split\n",
       "    if its impurity is above the threshold, otherwise it is a leaf.\n",
       "\n",
       "    .. deprecated:: 0.19\n",
       "       ``min_impurity_split`` has been deprecated in favor of\n",
       "       ``min_impurity_decrease`` in 0.19. The default value of\n",
       "       ``min_impurity_split`` has changed from 1e-7 to 0 in 0.23 and it\n",
       "       will be removed in 1.0 (renaming of 0.25).\n",
       "       Use ``min_impurity_decrease`` instead.\n",
       "\n",
       "init : estimator or 'zero', default=None\n",
       "    An estimator object that is used to compute the initial predictions.\n",
       "    ``init`` has to provide :meth:`fit` and :meth:`predict_proba`. If\n",
       "    'zero', the initial raw predictions are set to zero. By default, a\n",
       "    ``DummyEstimator`` predicting the classes priors is used.\n",
       "\n",
       "random_state : int, RandomState instance or None, default=None\n",
       "    Controls the random seed given to each Tree estimator at each\n",
       "    boosting iteration.\n",
       "    In addition, it controls the random permutation of the features at\n",
       "    each split (see Notes for more details).\n",
       "    It also controls the random spliting of the training data to obtain a\n",
       "    validation set if `n_iter_no_change` is not None.\n",
       "    Pass an int for reproducible output across multiple function calls.\n",
       "    See :term:`Glossary <random_state>`.\n",
       "\n",
       "max_features : {'auto', 'sqrt', 'log2'}, int or float, default=None\n",
       "    The number of features to consider when looking for the best split:\n",
       "\n",
       "    - If int, then consider `max_features` features at each split.\n",
       "    - If float, then `max_features` is a fraction and\n",
       "      `int(max_features * n_features)` features are considered at each\n",
       "      split.\n",
       "    - If 'auto', then `max_features=sqrt(n_features)`.\n",
       "    - If 'sqrt', then `max_features=sqrt(n_features)`.\n",
       "    - If 'log2', then `max_features=log2(n_features)`.\n",
       "    - If None, then `max_features=n_features`.\n",
       "\n",
       "    Choosing `max_features < n_features` leads to a reduction of variance\n",
       "    and an increase in bias.\n",
       "\n",
       "    Note: the search for a split does not stop until at least one\n",
       "    valid partition of the node samples is found, even if it requires to\n",
       "    effectively inspect more than ``max_features`` features.\n",
       "\n",
       "verbose : int, default=0\n",
       "    Enable verbose output. If 1 then it prints progress and performance\n",
       "    once in a while (the more trees the lower the frequency). If greater\n",
       "    than 1 then it prints progress and performance for every tree.\n",
       "\n",
       "max_leaf_nodes : int, default=None\n",
       "    Grow trees with ``max_leaf_nodes`` in best-first fashion.\n",
       "    Best nodes are defined as relative reduction in impurity.\n",
       "    If None then unlimited number of leaf nodes.\n",
       "\n",
       "warm_start : bool, default=False\n",
       "    When set to ``True``, reuse the solution of the previous call to fit\n",
       "    and add more estimators to the ensemble, otherwise, just erase the\n",
       "    previous solution. See :term:`the Glossary <warm_start>`.\n",
       "\n",
       "validation_fraction : float, default=0.1\n",
       "    The proportion of training data to set aside as validation set for\n",
       "    early stopping. Must be between 0 and 1.\n",
       "    Only used if ``n_iter_no_change`` is set to an integer.\n",
       "\n",
       "    .. versionadded:: 0.20\n",
       "\n",
       "n_iter_no_change : int, default=None\n",
       "    ``n_iter_no_change`` is used to decide if early stopping will be used\n",
       "    to terminate training when validation score is not improving. By\n",
       "    default it is set to None to disable early stopping. If set to a\n",
       "    number, it will set aside ``validation_fraction`` size of the training\n",
       "    data as validation and terminate training when validation score is not\n",
       "    improving in all of the previous ``n_iter_no_change`` numbers of\n",
       "    iterations. The split is stratified.\n",
       "\n",
       "    .. versionadded:: 0.20\n",
       "\n",
       "tol : float, default=1e-4\n",
       "    Tolerance for the early stopping. When the loss is not improving\n",
       "    by at least tol for ``n_iter_no_change`` iterations (if set to a\n",
       "    number), the training stops.\n",
       "\n",
       "    .. versionadded:: 0.20\n",
       "\n",
       "ccp_alpha : non-negative float, default=0.0\n",
       "    Complexity parameter used for Minimal Cost-Complexity Pruning. The\n",
       "    subtree with the largest cost complexity that is smaller than\n",
       "    ``ccp_alpha`` will be chosen. By default, no pruning is performed. See\n",
       "    :ref:`minimal_cost_complexity_pruning` for details.\n",
       "\n",
       "    .. versionadded:: 0.22\n",
       "\n",
       "Attributes\n",
       "----------\n",
       "n_estimators_ : int\n",
       "    The number of estimators as selected by early stopping (if\n",
       "    ``n_iter_no_change`` is specified). Otherwise it is set to\n",
       "    ``n_estimators``.\n",
       "\n",
       "    .. versionadded:: 0.20\n",
       "\n",
       "feature_importances_ : ndarray of shape (n_features,)\n",
       "    The impurity-based feature importances.\n",
       "    The higher, the more important the feature.\n",
       "    The importance of a feature is computed as the (normalized)\n",
       "    total reduction of the criterion brought by that feature.  It is also\n",
       "    known as the Gini importance.\n",
       "\n",
       "    Warning: impurity-based feature importances can be misleading for\n",
       "    high cardinality features (many unique values). See\n",
       "    :func:`sklearn.inspection.permutation_importance` as an alternative.\n",
       "\n",
       "oob_improvement_ : ndarray of shape (n_estimators,)\n",
       "    The improvement in loss (= deviance) on the out-of-bag samples\n",
       "    relative to the previous iteration.\n",
       "    ``oob_improvement_[0]`` is the improvement in\n",
       "    loss of the first stage over the ``init`` estimator.\n",
       "    Only available if ``subsample < 1.0``\n",
       "\n",
       "train_score_ : ndarray of shape (n_estimators,)\n",
       "    The i-th score ``train_score_[i]`` is the deviance (= loss) of the\n",
       "    model at iteration ``i`` on the in-bag sample.\n",
       "    If ``subsample == 1`` this is the deviance on the training data.\n",
       "\n",
       "loss_ : LossFunction\n",
       "    The concrete ``LossFunction`` object.\n",
       "\n",
       "init_ : estimator\n",
       "    The estimator that provides the initial predictions.\n",
       "    Set via the ``init`` argument or ``loss.init_estimator``.\n",
       "\n",
       "estimators_ : ndarray of DecisionTreeRegressor of shape (n_estimators, ``loss_.K``)\n",
       "    The collection of fitted sub-estimators. ``loss_.K`` is 1 for binary\n",
       "    classification, otherwise n_classes.\n",
       "\n",
       "classes_ : ndarray of shape (n_classes,)\n",
       "    The classes labels.\n",
       "\n",
       "n_features_ : int\n",
       "    The number of data features.\n",
       "\n",
       "n_classes_ : int\n",
       "    The number of classes.\n",
       "\n",
       "max_features_ : int\n",
       "    The inferred value of max_features.\n",
       "\n",
       "See Also\n",
       "--------\n",
       "HistGradientBoostingClassifier : Histogram-based Gradient Boosting\n",
       "    Classification Tree.\n",
       "sklearn.tree.DecisionTreeClassifier : A decision tree classifier.\n",
       "RandomForestClassifier : A meta-estimator that fits a number of decision\n",
       "    tree classifiers on various sub-samples of the dataset and uses\n",
       "    averaging to improve the predictive accuracy and control over-fitting.\n",
       "AdaBoostClassifier : A meta-estimator that begins by fitting a classifier\n",
       "    on the original dataset and then fits additional copies of the\n",
       "    classifier on the same dataset where the weights of incorrectly\n",
       "    classified instances are adjusted such that subsequent classifiers\n",
       "    focus more on difficult cases.\n",
       "\n",
       "Notes\n",
       "-----\n",
       "The features are always randomly permuted at each split. Therefore,\n",
       "the best found split may vary, even with the same training data and\n",
       "``max_features=n_features``, if the improvement of the criterion is\n",
       "identical for several splits enumerated during the search of the best\n",
       "split. To obtain a deterministic behaviour during fitting,\n",
       "``random_state`` has to be fixed.\n",
       "\n",
       "References\n",
       "----------\n",
       "J. Friedman, Greedy Function Approximation: A Gradient Boosting\n",
       "Machine, The Annals of Statistics, Vol. 29, No. 5, 2001.\n",
       "\n",
       "J. Friedman, Stochastic Gradient Boosting, 1999\n",
       "\n",
       "T. Hastie, R. Tibshirani and J. Friedman.\n",
       "Elements of Statistical Learning Ed. 2, Springer, 2009.\n",
       "\n",
       "Examples\n",
       "--------\n",
       "The following example shows how to fit a gradient boosting classifier with\n",
       "100 decision stumps as weak learners.\n",
       "\n",
       ">>> from sklearn.datasets import make_hastie_10_2\n",
       ">>> from sklearn.ensemble import GradientBoostingClassifier\n",
       "\n",
       ">>> X, y = make_hastie_10_2(random_state=0)\n",
       ">>> X_train, X_test = X[:2000], X[2000:]\n",
       ">>> y_train, y_test = y[:2000], y[2000:]\n",
       "\n",
       ">>> clf = GradientBoostingClassifier(n_estimators=100, learning_rate=1.0,\n",
       "...     max_depth=1, random_state=0).fit(X_train, y_train)\n",
       ">>> clf.score(X_test, y_test)\n",
       "0.913...\n"
      ]
     },
     "metadata": {},
     "output_type": "display_data"
    }
   ],
   "source": [
    "?gbm_model"
   ]
  },
  {
   "cell_type": "code",
   "execution_count": 246,
   "metadata": {},
   "outputs": [],
   "source": [
    "gbm_params = {\"learning_rate\" : [0.001, 0.01, 0.1, 0.05],\n",
    "             \"n_estimators\": [100,500,100],\n",
    "             \"max_depth\": [3,5,10],\n",
    "             \"min_samples_split\": [2,5,10]}"
   ]
  },
  {
   "cell_type": "code",
   "execution_count": 247,
   "metadata": {},
   "outputs": [],
   "source": [
    "gbm = GradientBoostingClassifier()\n",
    "\n",
    "gbm_cv = GridSearchCV(gbm, gbm_params, cv = 10, n_jobs = -1, verbose = 2)"
   ]
  },
  {
   "cell_type": "code",
   "execution_count": 248,
   "metadata": {},
   "outputs": [
    {
     "name": "stdout",
     "output_type": "stream",
     "text": [
      "Fitting 10 folds for each of 108 candidates, totalling 1080 fits\n"
     ]
    },
    {
     "data": {
      "text/plain": [
       "GridSearchCV(cv=10, estimator=GradientBoostingClassifier(), n_jobs=-1,\n",
       "             param_grid={'learning_rate': [0.001, 0.01, 0.1, 0.05],\n",
       "                         'max_depth': [3, 5, 10],\n",
       "                         'min_samples_split': [2, 5, 10],\n",
       "                         'n_estimators': [100, 500, 100]},\n",
       "             verbose=2)"
      ]
     },
     "execution_count": 248,
     "metadata": {},
     "output_type": "execute_result"
    }
   ],
   "source": [
    "gbm_cv.fit(X_train, y_train)"
   ]
  },
  {
   "cell_type": "code",
   "execution_count": 249,
   "metadata": {},
   "outputs": [
    {
     "name": "stdout",
     "output_type": "stream",
     "text": [
      "The best parameters: {'learning_rate': 0.1, 'max_depth': 3, 'min_samples_split': 5, 'n_estimators': 100}\n"
     ]
    }
   ],
   "source": [
    "print(\"The best parameters: \" + str(gbm_cv.best_params_))"
   ]
  },
  {
   "cell_type": "code",
   "execution_count": 250,
   "metadata": {},
   "outputs": [],
   "source": [
    "gbm = GradientBoostingClassifier(learning_rate = 0.1, \n",
    "                                 max_depth = 3,\n",
    "                                min_samples_split = 5,\n",
    "                                n_estimators = 100)"
   ]
  },
  {
   "cell_type": "code",
   "execution_count": 251,
   "metadata": {},
   "outputs": [],
   "source": [
    "gbm_tuned =  gbm.fit(X_train,y_train)"
   ]
  },
  {
   "cell_type": "code",
   "execution_count": 252,
   "metadata": {},
   "outputs": [
    {
     "data": {
      "text/plain": [
       "0.7445887445887446"
      ]
     },
     "execution_count": 252,
     "metadata": {},
     "output_type": "execute_result"
    }
   ],
   "source": [
    "y_pred = gbm_tuned.predict(X_test)\n",
    "accuracy_score(y_test, y_pred)"
   ]
  },
  {
   "cell_type": "code",
   "execution_count": 253,
   "metadata": {},
   "outputs": [],
   "source": [
    "##The model precision of model  is 74% after model tuning by using  GBM  algorithms."
   ]
  },
  {
   "cell_type": "markdown",
   "metadata": {},
   "source": [
    "# XGBoost"
   ]
  },
  {
   "cell_type": "code",
   "execution_count": 254,
   "metadata": {},
   "outputs": [],
   "source": [
    "df = diabetes.copy()\n",
    "df = df.dropna()\n",
    "y = df[\"Outcome\"]\n",
    "X = df.drop(['Outcome'], axis=1)\n",
    "X = pd.DataFrame(X)\n",
    "X_train, X_test, y_train, y_test = train_test_split(X, y, \n",
    "                                                    test_size=0.30, \n",
    "                                                    random_state=42)"
   ]
  },
  {
   "cell_type": "code",
   "execution_count": 255,
   "metadata": {},
   "outputs": [],
   "source": [
    "#!pip install xgboost\n",
    "from xgboost import XGBClassifier"
   ]
  },
  {
   "cell_type": "code",
   "execution_count": 256,
   "metadata": {},
   "outputs": [
    {
     "name": "stdout",
     "output_type": "stream",
     "text": [
      "[21:09:52] WARNING: C:/Users/Administrator/workspace/xgboost-win64_release_1.4.0/src/learner.cc:1095: Starting in XGBoost 1.3.0, the default evaluation metric used with the objective 'binary:logistic' was changed from 'error' to 'logloss'. Explicitly set eval_metric if you'd like to restore the old behavior.\n"
     ]
    }
   ],
   "source": [
    "xgb_model = XGBClassifier().fit(X_train, y_train)"
   ]
  },
  {
   "cell_type": "code",
   "execution_count": 257,
   "metadata": {},
   "outputs": [
    {
     "data": {
      "text/plain": [
       "XGBClassifier(base_score=0.5, booster='gbtree', colsample_bylevel=1,\n",
       "              colsample_bynode=1, colsample_bytree=1, gamma=0, gpu_id=-1,\n",
       "              importance_type='gain', interaction_constraints='',\n",
       "              learning_rate=0.300000012, max_delta_step=0, max_depth=6,\n",
       "              min_child_weight=1, missing=nan, monotone_constraints='()',\n",
       "              n_estimators=100, n_jobs=8, num_parallel_tree=1, random_state=0,\n",
       "              reg_alpha=0, reg_lambda=1, scale_pos_weight=1, subsample=1,\n",
       "              tree_method='exact', validate_parameters=1, verbosity=None)"
      ]
     },
     "execution_count": 257,
     "metadata": {},
     "output_type": "execute_result"
    }
   ],
   "source": [
    "xgb_model"
   ]
  },
  {
   "cell_type": "code",
   "execution_count": 258,
   "metadata": {},
   "outputs": [
    {
     "data": {
      "text/plain": [
       "0.7359307359307359"
      ]
     },
     "execution_count": 258,
     "metadata": {},
     "output_type": "execute_result"
    }
   ],
   "source": [
    "y_pred = xgb_model.predict(X_test)\n",
    "accuracy_score(y_test, y_pred)"
   ]
  },
  {
   "cell_type": "markdown",
   "metadata": {},
   "source": [
    "## Model Tuning"
   ]
  },
  {
   "cell_type": "code",
   "execution_count": 259,
   "metadata": {},
   "outputs": [
    {
     "data": {
      "text/plain": [
       "XGBClassifier(base_score=0.5, booster='gbtree', colsample_bylevel=1,\n",
       "              colsample_bynode=1, colsample_bytree=1, gamma=0, gpu_id=-1,\n",
       "              importance_type='gain', interaction_constraints='',\n",
       "              learning_rate=0.300000012, max_delta_step=0, max_depth=6,\n",
       "              min_child_weight=1, missing=nan, monotone_constraints='()',\n",
       "              n_estimators=100, n_jobs=8, num_parallel_tree=1, random_state=0,\n",
       "              reg_alpha=0, reg_lambda=1, scale_pos_weight=1, subsample=1,\n",
       "              tree_method='exact', validate_parameters=1, verbosity=None)"
      ]
     },
     "execution_count": 259,
     "metadata": {},
     "output_type": "execute_result"
    }
   ],
   "source": [
    "xgb_model"
   ]
  },
  {
   "cell_type": "code",
   "execution_count": 260,
   "metadata": {},
   "outputs": [
    {
     "data": {
      "text/plain": [
       "\u001b[1;31mType:\u001b[0m        XGBClassifier\n",
       "\u001b[1;31mString form:\u001b[0m\n",
       "XGBClassifier(base_score=0.5, booster='gbtree', colsample_bylevel=1,\n",
       "           colsample_byno <...> _weight=1, subsample=1,\n",
       "           tree_method='exact', validate_parameters=1, verbosity=None)\n",
       "\u001b[1;31mFile:\u001b[0m        c:\\users\\obo\\anaconda3\\lib\\site-packages\\xgboost\\sklearn.py\n",
       "\u001b[1;31mDocstring:\u001b[0m  \n",
       "Implementation of the scikit-learn API for XGBoost classification.\n",
       "\n",
       "\n",
       "Parameters\n",
       "----------\n",
       "\n",
       "    n_estimators : int\n",
       "        Number of boosting rounds.\n",
       "    use_label_encoder : bool\n",
       "        (Deprecated) Use the label encoder from scikit-learn to encode the labels. For new\n",
       "        code, we recommend that you set this parameter to False.\n",
       "\n",
       "    max_depth : int\n",
       "        Maximum tree depth for base learners.\n",
       "    learning_rate : float\n",
       "        Boosting learning rate (xgb's \"eta\")\n",
       "    verbosity : int\n",
       "        The degree of verbosity. Valid values are 0 (silent) - 3 (debug).\n",
       "    objective : string or callable\n",
       "        Specify the learning task and the corresponding learning objective or\n",
       "        a custom objective function to be used (see note below).\n",
       "    booster: string\n",
       "        Specify which booster to use: gbtree, gblinear or dart.\n",
       "    tree_method: string\n",
       "        Specify which tree method to use.  Default to auto.  If this parameter\n",
       "        is set to default, XGBoost will choose the most conservative option\n",
       "        available.  It's recommended to study this option from parameters\n",
       "        document.\n",
       "    n_jobs : int\n",
       "        Number of parallel threads used to run xgboost.  When used with other Scikit-Learn\n",
       "        algorithms like grid search, you may choose which algorithm to parallelize and\n",
       "        balance the threads.  Creating thread contention will significantly slow down both\n",
       "        algorithms.\n",
       "    gamma : float\n",
       "        Minimum loss reduction required to make a further partition on a leaf\n",
       "        node of the tree.\n",
       "    min_child_weight : float\n",
       "        Minimum sum of instance weight(hessian) needed in a child.\n",
       "    max_delta_step : float\n",
       "        Maximum delta step we allow each tree's weight estimation to be.\n",
       "    subsample : float\n",
       "        Subsample ratio of the training instance.\n",
       "    colsample_bytree : float\n",
       "        Subsample ratio of columns when constructing each tree.\n",
       "    colsample_bylevel : float\n",
       "        Subsample ratio of columns for each level.\n",
       "    colsample_bynode : float\n",
       "        Subsample ratio of columns for each split.\n",
       "    reg_alpha : float (xgb's alpha)\n",
       "        L1 regularization term on weights\n",
       "    reg_lambda : float (xgb's lambda)\n",
       "        L2 regularization term on weights\n",
       "    scale_pos_weight : float\n",
       "        Balancing of positive and negative weights.\n",
       "    base_score:\n",
       "        The initial prediction score of all instances, global bias.\n",
       "    random_state : int\n",
       "        Random number seed.\n",
       "\n",
       "        .. note::\n",
       "\n",
       "           Using gblinear booster with shotgun updater is nondeterministic as\n",
       "           it uses Hogwild algorithm.\n",
       "\n",
       "    missing : float, default np.nan\n",
       "        Value in the data which needs to be present as a missing value.\n",
       "    num_parallel_tree: int\n",
       "        Used for boosting random forest.\n",
       "    monotone_constraints : str\n",
       "        Constraint of variable monotonicity.  See tutorial for more\n",
       "        information.\n",
       "    interaction_constraints : str\n",
       "        Constraints for interaction representing permitted interactions.  The\n",
       "        constraints must be specified in the form of a nest list, e.g. [[0, 1],\n",
       "        [2, 3, 4]], where each inner list is a group of indices of features\n",
       "        that are allowed to interact with each other.  See tutorial for more\n",
       "        information\n",
       "    importance_type: string, default \"gain\"\n",
       "        The feature importance type for the feature_importances\\_ property:\n",
       "        either \"gain\", \"weight\", \"cover\", \"total_gain\" or \"total_cover\".\n",
       "    gpu_id :\n",
       "        Device ordinal.\n",
       "    validate_parameters :\n",
       "        Give warnings for unknown parameter.\n",
       "\n",
       "    \\*\\*kwargs : dict, optional\n",
       "        Keyword arguments for XGBoost Booster object.  Full documentation of\n",
       "        parameters can be found here:\n",
       "        https://github.com/dmlc/xgboost/blob/master/doc/parameter.rst.\n",
       "        Attempting to set a parameter via the constructor args and \\*\\*kwargs\n",
       "        dict simultaneously will result in a TypeError.\n",
       "\n",
       "        .. note:: \\*\\*kwargs unsupported by scikit-learn\n",
       "\n",
       "            \\*\\*kwargs is unsupported by scikit-learn.  We do not guarantee\n",
       "            that parameters passed via this argument will interact properly\n",
       "            with scikit-learn.\n",
       "\n",
       "        .. note::  Custom objective function\n",
       "\n",
       "            A custom objective function can be provided for the ``objective``\n",
       "            parameter. In this case, it should have the signature\n",
       "            ``objective(y_true, y_pred) -> grad, hess``:\n",
       "\n",
       "            y_true: array_like of shape [n_samples]\n",
       "                The target values\n",
       "            y_pred: array_like of shape [n_samples]\n",
       "                The predicted values\n",
       "\n",
       "            grad: array_like of shape [n_samples]\n",
       "                The value of the gradient for each sample point.\n",
       "            hess: array_like of shape [n_samples]\n",
       "                The value of the second derivative for each sample point\n"
      ]
     },
     "metadata": {},
     "output_type": "display_data"
    }
   ],
   "source": [
    "?xgb_model"
   ]
  },
  {
   "cell_type": "code",
   "execution_count": 261,
   "metadata": {},
   "outputs": [],
   "source": [
    "xgb_params = {\n",
    "        'n_estimators': [100, 500, 1000, 2000],\n",
    "        'subsample': [0.6, 0.8, 1.0],\n",
    "        'max_depth': [3, 4, 5,6],\n",
    "        'learning_rate': [0.1,0.01,0.02,0.05],\n",
    "        \"min_samples_split\": [2,5,10]}"
   ]
  },
  {
   "cell_type": "code",
   "execution_count": 262,
   "metadata": {},
   "outputs": [],
   "source": [
    "xgb = XGBClassifier()\n",
    "\n",
    "xgb_cv_model = GridSearchCV(xgb, xgb_params, cv = 10, n_jobs = -1, verbose = 2)"
   ]
  },
  {
   "cell_type": "code",
   "execution_count": 263,
   "metadata": {},
   "outputs": [
    {
     "name": "stdout",
     "output_type": "stream",
     "text": [
      "Fitting 10 folds for each of 576 candidates, totalling 5760 fits\n",
      "[21:48:21] WARNING: C:/Users/Administrator/workspace/xgboost-win64_release_1.4.0/src/learner.cc:573: \n",
      "Parameters: { \"min_samples_split\" } might not be used.\n",
      "\n",
      "  This may not be accurate due to some parameters are only used in language bindings but\n",
      "  passed down to XGBoost core.  Or some parameters are not used but slip through this\n",
      "  verification. Please open an issue if you find above cases.\n",
      "\n",
      "\n",
      "[21:48:21] WARNING: C:/Users/Administrator/workspace/xgboost-win64_release_1.4.0/src/learner.cc:1095: Starting in XGBoost 1.3.0, the default evaluation metric used with the objective 'binary:logistic' was changed from 'error' to 'logloss'. Explicitly set eval_metric if you'd like to restore the old behavior.\n"
     ]
    },
    {
     "data": {
      "text/plain": [
       "GridSearchCV(cv=10,\n",
       "             estimator=XGBClassifier(base_score=None, booster=None,\n",
       "                                     colsample_bylevel=None,\n",
       "                                     colsample_bynode=None,\n",
       "                                     colsample_bytree=None, gamma=None,\n",
       "                                     gpu_id=None, importance_type='gain',\n",
       "                                     interaction_constraints=None,\n",
       "                                     learning_rate=None, max_delta_step=None,\n",
       "                                     max_depth=None, min_child_weight=None,\n",
       "                                     missing=nan, monotone_constraints=None,\n",
       "                                     n_estimators=100, n_job...,\n",
       "                                     num_parallel_tree=None, random_state=None,\n",
       "                                     reg_alpha=None, reg_lambda=None,\n",
       "                                     scale_pos_weight=None, subsample=None,\n",
       "                                     tree_method=None, validate_parameters=None,\n",
       "                                     verbosity=None),\n",
       "             n_jobs=-1,\n",
       "             param_grid={'learning_rate': [0.1, 0.01, 0.02, 0.05],\n",
       "                         'max_depth': [3, 4, 5, 6],\n",
       "                         'min_samples_split': [2, 5, 10],\n",
       "                         'n_estimators': [100, 500, 1000, 2000],\n",
       "                         'subsample': [0.6, 0.8, 1.0]},\n",
       "             verbose=2)"
      ]
     },
     "execution_count": 263,
     "metadata": {},
     "output_type": "execute_result"
    }
   ],
   "source": [
    "xgb_cv_model.fit(X_train, y_train)"
   ]
  },
  {
   "cell_type": "code",
   "execution_count": 264,
   "metadata": {},
   "outputs": [
    {
     "data": {
      "text/plain": [
       "{'learning_rate': 0.02,\n",
       " 'max_depth': 3,\n",
       " 'min_samples_split': 2,\n",
       " 'n_estimators': 100,\n",
       " 'subsample': 0.6}"
      ]
     },
     "execution_count": 264,
     "metadata": {},
     "output_type": "execute_result"
    }
   ],
   "source": [
    "xgb_cv_model.best_params_"
   ]
  },
  {
   "cell_type": "code",
   "execution_count": 265,
   "metadata": {},
   "outputs": [],
   "source": [
    "xgb = XGBClassifier(learning_rate = 0.02, \n",
    "                    max_depth = 3,\n",
    "                    min_samples_split = 2,\n",
    "                    n_estimators = 100,\n",
    "                    subsample = 0.6)"
   ]
  },
  {
   "cell_type": "code",
   "execution_count": 266,
   "metadata": {},
   "outputs": [
    {
     "name": "stdout",
     "output_type": "stream",
     "text": [
      "[21:48:49] WARNING: C:/Users/Administrator/workspace/xgboost-win64_release_1.4.0/src/learner.cc:573: \n",
      "Parameters: { \"min_samples_split\" } might not be used.\n",
      "\n",
      "  This may not be accurate due to some parameters are only used in language bindings but\n",
      "  passed down to XGBoost core.  Or some parameters are not used but slip through this\n",
      "  verification. Please open an issue if you find above cases.\n",
      "\n",
      "\n",
      "[21:48:49] WARNING: C:/Users/Administrator/workspace/xgboost-win64_release_1.4.0/src/learner.cc:1095: Starting in XGBoost 1.3.0, the default evaluation metric used with the objective 'binary:logistic' was changed from 'error' to 'logloss'. Explicitly set eval_metric if you'd like to restore the old behavior.\n"
     ]
    }
   ],
   "source": [
    "xgb_tuned =  xgb.fit(X_train,y_train)"
   ]
  },
  {
   "cell_type": "code",
   "execution_count": 267,
   "metadata": {},
   "outputs": [
    {
     "data": {
      "text/plain": [
       "0.7575757575757576"
      ]
     },
     "execution_count": 267,
     "metadata": {},
     "output_type": "execute_result"
    }
   ],
   "source": [
    "y_pred = xgb_tuned.predict(X_test)\n",
    "accuracy_score(y_test, y_pred)"
   ]
  },
  {
   "cell_type": "code",
   "execution_count": 268,
   "metadata": {},
   "outputs": [],
   "source": [
    "##The model precision of model  is 75% after model tuning by using  XGBoost  algorithms."
   ]
  },
  {
   "cell_type": "markdown",
   "metadata": {},
   "source": [
    "# LightGBM"
   ]
  },
  {
   "cell_type": "code",
   "execution_count": 269,
   "metadata": {},
   "outputs": [],
   "source": [
    "df = diabetes.copy()\n",
    "df = df.dropna()\n",
    "y = df[\"Outcome\"]\n",
    "X = df.drop(['Outcome'], axis=1)\n",
    "X = pd.DataFrame(X)\n",
    "X_train, X_test, y_train, y_test = train_test_split(X, y, \n",
    "                                                    test_size=0.30, \n",
    "                                                    random_state=42)"
   ]
  },
  {
   "cell_type": "code",
   "execution_count": 270,
   "metadata": {},
   "outputs": [],
   "source": [
    "#!conda install -c conda-forge lightgbm\n",
    "from lightgbm import LGBMClassifier"
   ]
  },
  {
   "cell_type": "code",
   "execution_count": 271,
   "metadata": {},
   "outputs": [],
   "source": [
    "lgbm_model = LGBMClassifier().fit(X_train, y_train)"
   ]
  },
  {
   "cell_type": "code",
   "execution_count": 272,
   "metadata": {},
   "outputs": [
    {
     "data": {
      "text/plain": [
       "0.7229437229437229"
      ]
     },
     "execution_count": 272,
     "metadata": {},
     "output_type": "execute_result"
    }
   ],
   "source": [
    "y_pred = lgbm_model.predict(X_test)\n",
    "accuracy_score(y_test, y_pred)"
   ]
  },
  {
   "cell_type": "code",
   "execution_count": null,
   "metadata": {},
   "outputs": [],
   "source": [
    "## Model Tuning"
   ]
  },
  {
   "cell_type": "code",
   "execution_count": null,
   "metadata": {},
   "outputs": [],
   "source": [
    "lgbm_model"
   ]
  },
  {
   "cell_type": "code",
   "execution_count": 273,
   "metadata": {},
   "outputs": [
    {
     "data": {
      "text/plain": [
       "\u001b[1;31mType:\u001b[0m           LGBMClassifier\n",
       "\u001b[1;31mString form:\u001b[0m    LGBMClassifier()\n",
       "\u001b[1;31mFile:\u001b[0m           c:\\users\\obo\\anaconda3\\lib\\site-packages\\lightgbm\\sklearn.py\n",
       "\u001b[1;31mDocstring:\u001b[0m      LightGBM classifier.\n",
       "\u001b[1;31mInit docstring:\u001b[0m\n",
       "Construct a gradient boosting model.\n",
       "\n",
       "Parameters\n",
       "----------\n",
       "boosting_type : string, optional (default='gbdt')\n",
       "    'gbdt', traditional Gradient Boosting Decision Tree.\n",
       "    'dart', Dropouts meet Multiple Additive Regression Trees.\n",
       "    'goss', Gradient-based One-Side Sampling.\n",
       "    'rf', Random Forest.\n",
       "num_leaves : int, optional (default=31)\n",
       "    Maximum tree leaves for base learners.\n",
       "max_depth : int, optional (default=-1)\n",
       "    Maximum tree depth for base learners, <=0 means no limit.\n",
       "learning_rate : float, optional (default=0.1)\n",
       "    Boosting learning rate.\n",
       "    You can use ``callbacks`` parameter of ``fit`` method to shrink/adapt learning rate\n",
       "    in training using ``reset_parameter`` callback.\n",
       "    Note, that this will ignore the ``learning_rate`` argument in training.\n",
       "n_estimators : int, optional (default=100)\n",
       "    Number of boosted trees to fit.\n",
       "subsample_for_bin : int, optional (default=200000)\n",
       "    Number of samples for constructing bins.\n",
       "objective : string, callable or None, optional (default=None)\n",
       "    Specify the learning task and the corresponding learning objective or\n",
       "    a custom objective function to be used (see note below).\n",
       "    Default: 'regression' for LGBMRegressor, 'binary' or 'multiclass' for LGBMClassifier, 'lambdarank' for LGBMRanker.\n",
       "class_weight : dict, 'balanced' or None, optional (default=None)\n",
       "    Weights associated with classes in the form ``{class_label: weight}``.\n",
       "    Use this parameter only for multi-class classification task;\n",
       "    for binary classification task you may use ``is_unbalance`` or ``scale_pos_weight`` parameters.\n",
       "    Note, that the usage of all these parameters will result in poor estimates of the individual class probabilities.\n",
       "    You may want to consider performing probability calibration\n",
       "    (https://scikit-learn.org/stable/modules/calibration.html) of your model.\n",
       "    The 'balanced' mode uses the values of y to automatically adjust weights\n",
       "    inversely proportional to class frequencies in the input data as ``n_samples / (n_classes * np.bincount(y))``.\n",
       "    If None, all classes are supposed to have weight one.\n",
       "    Note, that these weights will be multiplied with ``sample_weight`` (passed through the ``fit`` method)\n",
       "    if ``sample_weight`` is specified.\n",
       "min_split_gain : float, optional (default=0.)\n",
       "    Minimum loss reduction required to make a further partition on a leaf node of the tree.\n",
       "min_child_weight : float, optional (default=1e-3)\n",
       "    Minimum sum of instance weight (hessian) needed in a child (leaf).\n",
       "min_child_samples : int, optional (default=20)\n",
       "    Minimum number of data needed in a child (leaf).\n",
       "subsample : float, optional (default=1.)\n",
       "    Subsample ratio of the training instance.\n",
       "subsample_freq : int, optional (default=0)\n",
       "    Frequence of subsample, <=0 means no enable.\n",
       "colsample_bytree : float, optional (default=1.)\n",
       "    Subsample ratio of columns when constructing each tree.\n",
       "reg_alpha : float, optional (default=0.)\n",
       "    L1 regularization term on weights.\n",
       "reg_lambda : float, optional (default=0.)\n",
       "    L2 regularization term on weights.\n",
       "random_state : int, RandomState object or None, optional (default=None)\n",
       "    Random number seed.\n",
       "    If int, this number is used to seed the C++ code.\n",
       "    If RandomState object (numpy), a random integer is picked based on its state to seed the C++ code.\n",
       "    If None, default seeds in C++ code are used.\n",
       "n_jobs : int, optional (default=-1)\n",
       "    Number of parallel threads.\n",
       "silent : bool, optional (default=True)\n",
       "    Whether to print messages while running boosting.\n",
       "importance_type : string, optional (default='split')\n",
       "    The type of feature importance to be filled into ``feature_importances_``.\n",
       "    If 'split', result contains numbers of times the feature is used in a model.\n",
       "    If 'gain', result contains total gains of splits which use the feature.\n",
       "**kwargs\n",
       "    Other parameters for the model.\n",
       "    Check http://lightgbm.readthedocs.io/en/latest/Parameters.html for more parameters.\n",
       "\n",
       "    .. warning::\n",
       "\n",
       "        \\*\\*kwargs is not supported in sklearn, it may cause unexpected issues.\n",
       "\n",
       "Note\n",
       "----\n",
       "A custom objective function can be provided for the ``objective`` parameter.\n",
       "In this case, it should have the signature\n",
       "``objective(y_true, y_pred) -> grad, hess`` or\n",
       "``objective(y_true, y_pred, group) -> grad, hess``:\n",
       "\n",
       "    y_true : array-like of shape = [n_samples]\n",
       "        The target values.\n",
       "    y_pred : array-like of shape = [n_samples] or shape = [n_samples * n_classes] (for multi-class task)\n",
       "        The predicted values.\n",
       "    group : array-like\n",
       "        Group/query data.\n",
       "        Only used in the learning-to-rank task.\n",
       "        sum(group) = n_samples.\n",
       "        For example, if you have a 100-document dataset with ``group = [10, 20, 40, 10, 10, 10]``, that means that you have 6 groups,\n",
       "        where the first 10 records are in the first group, records 11-30 are in the second group, records 31-70 are in the third group, etc.\n",
       "    grad : array-like of shape = [n_samples] or shape = [n_samples * n_classes] (for multi-class task)\n",
       "        The value of the first order derivative (gradient) for each sample point.\n",
       "    hess : array-like of shape = [n_samples] or shape = [n_samples * n_classes] (for multi-class task)\n",
       "        The value of the second order derivative (Hessian) for each sample point.\n",
       "\n",
       "For binary task, the y_pred is margin.\n",
       "For multi-class task, the y_pred is group by class_id first, then group by row_id.\n",
       "If you want to get i-th row y_pred in j-th class, the access way is y_pred[j * num_data + i]\n",
       "and you should group grad and hess in this way as well.\n"
      ]
     },
     "metadata": {},
     "output_type": "display_data"
    }
   ],
   "source": [
    "?lgbm_model"
   ]
  },
  {
   "cell_type": "code",
   "execution_count": 274,
   "metadata": {},
   "outputs": [],
   "source": [
    "lgbm_params = {\n",
    "        'n_estimators': [100, 500, 1000, 2000],\n",
    "        'subsample': [0.6, 0.8, 1.0],\n",
    "        'max_depth': [3, 4, 5,6],\n",
    "        'learning_rate': [0.1,0.01,0.02,0.05],\n",
    "        \"min_child_samples\": [5,10,20]}"
   ]
  },
  {
   "cell_type": "code",
   "execution_count": 275,
   "metadata": {},
   "outputs": [],
   "source": [
    "lgbm = LGBMClassifier()\n",
    "\n",
    "lgbm_cv_model = GridSearchCV(lgbm, lgbm_params, \n",
    "                             cv = 10, \n",
    "                             n_jobs = -1, \n",
    "                             verbose = 2)\n",
    "\n"
   ]
  },
  {
   "cell_type": "code",
   "execution_count": 276,
   "metadata": {},
   "outputs": [
    {
     "name": "stdout",
     "output_type": "stream",
     "text": [
      "Fitting 10 folds for each of 576 candidates, totalling 5760 fits\n"
     ]
    },
    {
     "data": {
      "text/plain": [
       "GridSearchCV(cv=10, estimator=LGBMClassifier(), n_jobs=-1,\n",
       "             param_grid={'learning_rate': [0.1, 0.01, 0.02, 0.05],\n",
       "                         'max_depth': [3, 4, 5, 6],\n",
       "                         'min_child_samples': [5, 10, 20],\n",
       "                         'n_estimators': [100, 500, 1000, 2000],\n",
       "                         'subsample': [0.6, 0.8, 1.0]},\n",
       "             verbose=2)"
      ]
     },
     "execution_count": 276,
     "metadata": {},
     "output_type": "execute_result"
    }
   ],
   "source": [
    "lgbm_cv_model.fit(X_train, y_train)"
   ]
  },
  {
   "cell_type": "code",
   "execution_count": 277,
   "metadata": {},
   "outputs": [
    {
     "data": {
      "text/plain": [
       "{'learning_rate': 0.05,\n",
       " 'max_depth': 3,\n",
       " 'min_child_samples': 20,\n",
       " 'n_estimators': 100,\n",
       " 'subsample': 0.6}"
      ]
     },
     "execution_count": 277,
     "metadata": {},
     "output_type": "execute_result"
    }
   ],
   "source": [
    "lgbm_cv_model.best_params_"
   ]
  },
  {
   "cell_type": "code",
   "execution_count": 278,
   "metadata": {},
   "outputs": [],
   "source": [
    "lgbm = LGBMClassifier(learning_rate = 0.05, \n",
    "                       max_depth = 3,\n",
    "                       subsample = 0.6,\n",
    "                       n_estimators = 100,\n",
    "                       min_child_samples = 20)"
   ]
  },
  {
   "cell_type": "code",
   "execution_count": 279,
   "metadata": {},
   "outputs": [],
   "source": [
    "lgbm_tuned = lgbm.fit(X_train,y_train)"
   ]
  },
  {
   "cell_type": "code",
   "execution_count": 280,
   "metadata": {},
   "outputs": [
    {
     "data": {
      "text/plain": [
       "0.7489177489177489"
      ]
     },
     "execution_count": 280,
     "metadata": {},
     "output_type": "execute_result"
    }
   ],
   "source": [
    "y_pred = lgbm_tuned.predict(X_test)\n",
    "accuracy_score(y_test, y_pred)"
   ]
  },
  {
   "cell_type": "code",
   "execution_count": 281,
   "metadata": {},
   "outputs": [],
   "source": [
    "##The model precision of model  is 74% after model tuning by using  LightGBM  algorithms."
   ]
  },
  {
   "cell_type": "markdown",
   "metadata": {},
   "source": [
    "# CatBoost"
   ]
  },
  {
   "cell_type": "markdown",
   "metadata": {},
   "source": [
    "## Prediction  & Model"
   ]
  },
  {
   "cell_type": "code",
   "execution_count": 282,
   "metadata": {},
   "outputs": [],
   "source": [
    "df = diabetes.copy()\n",
    "df = df.dropna()\n",
    "y = df[\"Outcome\"]\n",
    "X = df.drop(['Outcome'], axis=1)\n",
    "X = pd.DataFrame(X)\n",
    "X_train, X_test, y_train, y_test = train_test_split(X, y, \n",
    "                                                    test_size=0.30, \n",
    "                                                    random_state=42)"
   ]
  },
  {
   "cell_type": "code",
   "execution_count": 283,
   "metadata": {},
   "outputs": [],
   "source": [
    "#!pip install catboost\n",
    "from catboost import CatBoostClassifier"
   ]
  },
  {
   "cell_type": "code",
   "execution_count": 284,
   "metadata": {
    "collapsed": true,
    "jupyter": {
     "outputs_hidden": true
    }
   },
   "outputs": [
    {
     "name": "stdout",
     "output_type": "stream",
     "text": [
      "Learning rate set to 0.0079\n",
      "0:\tlearn: 0.6879822\ttotal: 154ms\tremaining: 2m 34s\n",
      "1:\tlearn: 0.6843544\ttotal: 159ms\tremaining: 1m 19s\n",
      "2:\tlearn: 0.6805937\ttotal: 164ms\tremaining: 54.6s\n",
      "3:\tlearn: 0.6766011\ttotal: 169ms\tremaining: 42.1s\n",
      "4:\tlearn: 0.6721103\ttotal: 174ms\tremaining: 34.6s\n",
      "5:\tlearn: 0.6681927\ttotal: 179ms\tremaining: 29.7s\n",
      "6:\tlearn: 0.6642263\ttotal: 184ms\tremaining: 26s\n",
      "7:\tlearn: 0.6603263\ttotal: 186ms\tremaining: 23.1s\n",
      "8:\tlearn: 0.6563030\ttotal: 188ms\tremaining: 20.8s\n",
      "9:\tlearn: 0.6528911\ttotal: 190ms\tremaining: 18.8s\n",
      "10:\tlearn: 0.6488276\ttotal: 192ms\tremaining: 17.3s\n",
      "11:\tlearn: 0.6455457\ttotal: 195ms\tremaining: 16s\n",
      "12:\tlearn: 0.6419444\ttotal: 196ms\tremaining: 14.9s\n",
      "13:\tlearn: 0.6374939\ttotal: 198ms\tremaining: 14s\n",
      "14:\tlearn: 0.6340194\ttotal: 200ms\tremaining: 13.1s\n",
      "15:\tlearn: 0.6304776\ttotal: 202ms\tremaining: 12.4s\n",
      "16:\tlearn: 0.6267531\ttotal: 203ms\tremaining: 11.7s\n",
      "17:\tlearn: 0.6238199\ttotal: 205ms\tremaining: 11.2s\n",
      "18:\tlearn: 0.6204938\ttotal: 206ms\tremaining: 10.6s\n",
      "19:\tlearn: 0.6170669\ttotal: 208ms\tremaining: 10.2s\n",
      "20:\tlearn: 0.6133936\ttotal: 209ms\tremaining: 9.74s\n",
      "21:\tlearn: 0.6105467\ttotal: 210ms\tremaining: 9.34s\n",
      "22:\tlearn: 0.6070055\ttotal: 211ms\tremaining: 8.98s\n",
      "23:\tlearn: 0.6036988\ttotal: 213ms\tremaining: 8.65s\n",
      "24:\tlearn: 0.6005906\ttotal: 214ms\tremaining: 8.35s\n",
      "25:\tlearn: 0.5978029\ttotal: 215ms\tremaining: 8.07s\n",
      "26:\tlearn: 0.5948687\ttotal: 217ms\tremaining: 7.82s\n",
      "27:\tlearn: 0.5920321\ttotal: 218ms\tremaining: 7.57s\n",
      "28:\tlearn: 0.5885543\ttotal: 220ms\tremaining: 7.35s\n",
      "29:\tlearn: 0.5848739\ttotal: 221ms\tremaining: 7.14s\n",
      "30:\tlearn: 0.5814562\ttotal: 222ms\tremaining: 6.95s\n",
      "31:\tlearn: 0.5783158\ttotal: 224ms\tremaining: 6.76s\n",
      "32:\tlearn: 0.5754880\ttotal: 225ms\tremaining: 6.59s\n",
      "33:\tlearn: 0.5737960\ttotal: 226ms\tremaining: 6.43s\n",
      "34:\tlearn: 0.5713558\ttotal: 227ms\tremaining: 6.27s\n",
      "35:\tlearn: 0.5687880\ttotal: 229ms\tremaining: 6.13s\n",
      "36:\tlearn: 0.5660068\ttotal: 230ms\tremaining: 5.99s\n",
      "37:\tlearn: 0.5642053\ttotal: 232ms\tremaining: 5.86s\n",
      "38:\tlearn: 0.5618905\ttotal: 233ms\tremaining: 5.74s\n",
      "39:\tlearn: 0.5596534\ttotal: 234ms\tremaining: 5.62s\n",
      "40:\tlearn: 0.5576328\ttotal: 236ms\tremaining: 5.51s\n",
      "41:\tlearn: 0.5553185\ttotal: 237ms\tremaining: 5.41s\n",
      "42:\tlearn: 0.5531257\ttotal: 238ms\tremaining: 5.31s\n",
      "43:\tlearn: 0.5501080\ttotal: 240ms\tremaining: 5.21s\n",
      "44:\tlearn: 0.5479930\ttotal: 241ms\tremaining: 5.12s\n",
      "45:\tlearn: 0.5456177\ttotal: 243ms\tremaining: 5.03s\n",
      "46:\tlearn: 0.5438786\ttotal: 244ms\tremaining: 4.95s\n",
      "47:\tlearn: 0.5419967\ttotal: 245ms\tremaining: 4.87s\n",
      "48:\tlearn: 0.5394665\ttotal: 247ms\tremaining: 4.78s\n",
      "49:\tlearn: 0.5376058\ttotal: 248ms\tremaining: 4.71s\n",
      "50:\tlearn: 0.5352902\ttotal: 250ms\tremaining: 4.64s\n",
      "51:\tlearn: 0.5332041\ttotal: 251ms\tremaining: 4.58s\n",
      "52:\tlearn: 0.5306692\ttotal: 253ms\tremaining: 4.51s\n",
      "53:\tlearn: 0.5284961\ttotal: 255ms\tremaining: 4.46s\n",
      "54:\tlearn: 0.5266646\ttotal: 257ms\tremaining: 4.41s\n",
      "55:\tlearn: 0.5245416\ttotal: 258ms\tremaining: 4.35s\n",
      "56:\tlearn: 0.5225713\ttotal: 260ms\tremaining: 4.3s\n",
      "57:\tlearn: 0.5206087\ttotal: 262ms\tremaining: 4.25s\n",
      "58:\tlearn: 0.5182788\ttotal: 264ms\tremaining: 4.21s\n",
      "59:\tlearn: 0.5160537\ttotal: 265ms\tremaining: 4.16s\n",
      "60:\tlearn: 0.5146418\ttotal: 267ms\tremaining: 4.11s\n",
      "61:\tlearn: 0.5133434\ttotal: 268ms\tremaining: 4.06s\n",
      "62:\tlearn: 0.5120091\ttotal: 270ms\tremaining: 4.02s\n",
      "63:\tlearn: 0.5105931\ttotal: 272ms\tremaining: 3.98s\n",
      "64:\tlearn: 0.5082239\ttotal: 273ms\tremaining: 3.93s\n",
      "65:\tlearn: 0.5062303\ttotal: 275ms\tremaining: 3.89s\n",
      "66:\tlearn: 0.5046140\ttotal: 276ms\tremaining: 3.85s\n",
      "67:\tlearn: 0.5026774\ttotal: 277ms\tremaining: 3.8s\n",
      "68:\tlearn: 0.5014878\ttotal: 278ms\tremaining: 3.75s\n",
      "69:\tlearn: 0.5001072\ttotal: 279ms\tremaining: 3.71s\n",
      "70:\tlearn: 0.4986150\ttotal: 280ms\tremaining: 3.67s\n",
      "71:\tlearn: 0.4968047\ttotal: 282ms\tremaining: 3.63s\n",
      "72:\tlearn: 0.4953632\ttotal: 283ms\tremaining: 3.59s\n",
      "73:\tlearn: 0.4938498\ttotal: 284ms\tremaining: 3.56s\n",
      "74:\tlearn: 0.4922801\ttotal: 285ms\tremaining: 3.52s\n",
      "75:\tlearn: 0.4908261\ttotal: 286ms\tremaining: 3.48s\n",
      "76:\tlearn: 0.4892363\ttotal: 288ms\tremaining: 3.45s\n",
      "77:\tlearn: 0.4876098\ttotal: 289ms\tremaining: 3.41s\n",
      "78:\tlearn: 0.4862050\ttotal: 290ms\tremaining: 3.38s\n",
      "79:\tlearn: 0.4850063\ttotal: 291ms\tremaining: 3.35s\n",
      "80:\tlearn: 0.4839806\ttotal: 292ms\tremaining: 3.32s\n",
      "81:\tlearn: 0.4823197\ttotal: 294ms\tremaining: 3.29s\n",
      "82:\tlearn: 0.4806850\ttotal: 295ms\tremaining: 3.26s\n",
      "83:\tlearn: 0.4791040\ttotal: 296ms\tremaining: 3.23s\n",
      "84:\tlearn: 0.4776899\ttotal: 297ms\tremaining: 3.2s\n",
      "85:\tlearn: 0.4760505\ttotal: 298ms\tremaining: 3.17s\n",
      "86:\tlearn: 0.4750202\ttotal: 299ms\tremaining: 3.14s\n",
      "87:\tlearn: 0.4736074\ttotal: 300ms\tremaining: 3.11s\n",
      "88:\tlearn: 0.4721145\ttotal: 302ms\tremaining: 3.09s\n",
      "89:\tlearn: 0.4709314\ttotal: 303ms\tremaining: 3.06s\n",
      "90:\tlearn: 0.4693651\ttotal: 304ms\tremaining: 3.04s\n",
      "91:\tlearn: 0.4679810\ttotal: 305ms\tremaining: 3.01s\n",
      "92:\tlearn: 0.4665089\ttotal: 306ms\tremaining: 2.98s\n",
      "93:\tlearn: 0.4650662\ttotal: 307ms\tremaining: 2.96s\n",
      "94:\tlearn: 0.4638027\ttotal: 308ms\tremaining: 2.94s\n",
      "95:\tlearn: 0.4625580\ttotal: 310ms\tremaining: 2.92s\n",
      "96:\tlearn: 0.4611601\ttotal: 311ms\tremaining: 2.89s\n",
      "97:\tlearn: 0.4601908\ttotal: 312ms\tremaining: 2.87s\n",
      "98:\tlearn: 0.4589758\ttotal: 313ms\tremaining: 2.85s\n",
      "99:\tlearn: 0.4579517\ttotal: 314ms\tremaining: 2.83s\n",
      "100:\tlearn: 0.4568376\ttotal: 316ms\tremaining: 2.81s\n",
      "101:\tlearn: 0.4560033\ttotal: 317ms\tremaining: 2.79s\n",
      "102:\tlearn: 0.4550106\ttotal: 318ms\tremaining: 2.77s\n",
      "103:\tlearn: 0.4538100\ttotal: 319ms\tremaining: 2.75s\n",
      "104:\tlearn: 0.4525246\ttotal: 320ms\tremaining: 2.73s\n",
      "105:\tlearn: 0.4516290\ttotal: 321ms\tremaining: 2.71s\n",
      "106:\tlearn: 0.4505692\ttotal: 322ms\tremaining: 2.69s\n",
      "107:\tlearn: 0.4493491\ttotal: 324ms\tremaining: 2.67s\n",
      "108:\tlearn: 0.4484229\ttotal: 325ms\tremaining: 2.65s\n",
      "109:\tlearn: 0.4475237\ttotal: 326ms\tremaining: 2.64s\n",
      "110:\tlearn: 0.4462811\ttotal: 327ms\tremaining: 2.62s\n",
      "111:\tlearn: 0.4455498\ttotal: 328ms\tremaining: 2.6s\n",
      "112:\tlearn: 0.4447490\ttotal: 329ms\tremaining: 2.58s\n",
      "113:\tlearn: 0.4436312\ttotal: 331ms\tremaining: 2.57s\n",
      "114:\tlearn: 0.4426529\ttotal: 332ms\tremaining: 2.55s\n",
      "115:\tlearn: 0.4419532\ttotal: 333ms\tremaining: 2.54s\n",
      "116:\tlearn: 0.4408642\ttotal: 334ms\tremaining: 2.52s\n",
      "117:\tlearn: 0.4400705\ttotal: 335ms\tremaining: 2.51s\n",
      "118:\tlearn: 0.4392703\ttotal: 337ms\tremaining: 2.49s\n",
      "119:\tlearn: 0.4382235\ttotal: 338ms\tremaining: 2.48s\n",
      "120:\tlearn: 0.4373214\ttotal: 339ms\tremaining: 2.46s\n",
      "121:\tlearn: 0.4364590\ttotal: 340ms\tremaining: 2.45s\n",
      "122:\tlearn: 0.4358042\ttotal: 341ms\tremaining: 2.43s\n",
      "123:\tlearn: 0.4346576\ttotal: 342ms\tremaining: 2.42s\n",
      "124:\tlearn: 0.4334821\ttotal: 343ms\tremaining: 2.4s\n",
      "125:\tlearn: 0.4328019\ttotal: 344ms\tremaining: 2.39s\n",
      "126:\tlearn: 0.4319468\ttotal: 346ms\tremaining: 2.38s\n",
      "127:\tlearn: 0.4313707\ttotal: 347ms\tremaining: 2.36s\n",
      "128:\tlearn: 0.4305355\ttotal: 348ms\tremaining: 2.35s\n",
      "129:\tlearn: 0.4298462\ttotal: 349ms\tremaining: 2.34s\n",
      "130:\tlearn: 0.4292290\ttotal: 350ms\tremaining: 2.32s\n",
      "131:\tlearn: 0.4280695\ttotal: 351ms\tremaining: 2.31s\n",
      "132:\tlearn: 0.4270546\ttotal: 353ms\tremaining: 2.3s\n",
      "133:\tlearn: 0.4260827\ttotal: 355ms\tremaining: 2.29s\n",
      "134:\tlearn: 0.4253427\ttotal: 356ms\tremaining: 2.28s\n",
      "135:\tlearn: 0.4245101\ttotal: 357ms\tremaining: 2.27s\n",
      "136:\tlearn: 0.4237595\ttotal: 358ms\tremaining: 2.26s\n",
      "137:\tlearn: 0.4228898\ttotal: 360ms\tremaining: 2.25s\n",
      "138:\tlearn: 0.4221720\ttotal: 361ms\tremaining: 2.23s\n",
      "139:\tlearn: 0.4214328\ttotal: 362ms\tremaining: 2.22s\n",
      "140:\tlearn: 0.4206441\ttotal: 363ms\tremaining: 2.21s\n",
      "141:\tlearn: 0.4194387\ttotal: 365ms\tremaining: 2.2s\n",
      "142:\tlearn: 0.4190300\ttotal: 366ms\tremaining: 2.19s\n",
      "143:\tlearn: 0.4183890\ttotal: 367ms\tremaining: 2.18s\n",
      "144:\tlearn: 0.4178356\ttotal: 369ms\tremaining: 2.17s\n",
      "145:\tlearn: 0.4169107\ttotal: 370ms\tremaining: 2.16s\n",
      "146:\tlearn: 0.4165857\ttotal: 371ms\tremaining: 2.15s\n",
      "147:\tlearn: 0.4157928\ttotal: 373ms\tremaining: 2.15s\n",
      "148:\tlearn: 0.4151702\ttotal: 374ms\tremaining: 2.14s\n",
      "149:\tlearn: 0.4140647\ttotal: 375ms\tremaining: 2.13s\n",
      "150:\tlearn: 0.4134993\ttotal: 377ms\tremaining: 2.12s\n",
      "151:\tlearn: 0.4129717\ttotal: 378ms\tremaining: 2.11s\n",
      "152:\tlearn: 0.4118548\ttotal: 379ms\tremaining: 2.1s\n",
      "153:\tlearn: 0.4111608\ttotal: 380ms\tremaining: 2.09s\n",
      "154:\tlearn: 0.4104780\ttotal: 381ms\tremaining: 2.08s\n",
      "155:\tlearn: 0.4098930\ttotal: 383ms\tremaining: 2.07s\n",
      "156:\tlearn: 0.4089691\ttotal: 384ms\tremaining: 2.06s\n",
      "157:\tlearn: 0.4087054\ttotal: 385ms\tremaining: 2.05s\n",
      "158:\tlearn: 0.4077668\ttotal: 386ms\tremaining: 2.04s\n",
      "159:\tlearn: 0.4072638\ttotal: 387ms\tremaining: 2.03s\n",
      "160:\tlearn: 0.4067148\ttotal: 389ms\tremaining: 2.02s\n",
      "161:\tlearn: 0.4060385\ttotal: 390ms\tremaining: 2.02s\n",
      "162:\tlearn: 0.4055288\ttotal: 391ms\tremaining: 2.01s\n",
      "163:\tlearn: 0.4047306\ttotal: 392ms\tremaining: 2s\n",
      "164:\tlearn: 0.4037789\ttotal: 394ms\tremaining: 1.99s\n",
      "165:\tlearn: 0.4031834\ttotal: 395ms\tremaining: 1.98s\n",
      "166:\tlearn: 0.4026181\ttotal: 396ms\tremaining: 1.98s\n",
      "167:\tlearn: 0.4019249\ttotal: 397ms\tremaining: 1.97s\n",
      "168:\tlearn: 0.4011902\ttotal: 399ms\tremaining: 1.96s\n",
      "169:\tlearn: 0.4004675\ttotal: 400ms\tremaining: 1.95s\n",
      "170:\tlearn: 0.3998937\ttotal: 401ms\tremaining: 1.94s\n",
      "171:\tlearn: 0.3990494\ttotal: 402ms\tremaining: 1.94s\n",
      "172:\tlearn: 0.3984273\ttotal: 404ms\tremaining: 1.93s\n",
      "173:\tlearn: 0.3978255\ttotal: 405ms\tremaining: 1.92s\n",
      "174:\tlearn: 0.3969608\ttotal: 406ms\tremaining: 1.92s\n",
      "175:\tlearn: 0.3965716\ttotal: 407ms\tremaining: 1.91s\n",
      "176:\tlearn: 0.3958000\ttotal: 409ms\tremaining: 1.9s\n",
      "177:\tlearn: 0.3950526\ttotal: 410ms\tremaining: 1.89s\n",
      "178:\tlearn: 0.3943012\ttotal: 411ms\tremaining: 1.89s\n",
      "179:\tlearn: 0.3936510\ttotal: 413ms\tremaining: 1.88s\n",
      "180:\tlearn: 0.3931304\ttotal: 414ms\tremaining: 1.87s\n",
      "181:\tlearn: 0.3922809\ttotal: 415ms\tremaining: 1.87s\n",
      "182:\tlearn: 0.3916910\ttotal: 417ms\tremaining: 1.86s\n",
      "183:\tlearn: 0.3911177\ttotal: 418ms\tremaining: 1.85s\n",
      "184:\tlearn: 0.3902377\ttotal: 420ms\tremaining: 1.85s\n",
      "185:\tlearn: 0.3896318\ttotal: 421ms\tremaining: 1.84s\n",
      "186:\tlearn: 0.3889018\ttotal: 422ms\tremaining: 1.83s\n",
      "187:\tlearn: 0.3884345\ttotal: 423ms\tremaining: 1.83s\n",
      "188:\tlearn: 0.3880162\ttotal: 424ms\tremaining: 1.82s\n",
      "189:\tlearn: 0.3873354\ttotal: 425ms\tremaining: 1.81s\n",
      "190:\tlearn: 0.3865013\ttotal: 426ms\tremaining: 1.8s\n",
      "191:\tlearn: 0.3858420\ttotal: 427ms\tremaining: 1.8s\n",
      "192:\tlearn: 0.3851892\ttotal: 429ms\tremaining: 1.79s\n",
      "193:\tlearn: 0.3846598\ttotal: 430ms\tremaining: 1.78s\n",
      "194:\tlearn: 0.3840737\ttotal: 432ms\tremaining: 1.78s\n",
      "195:\tlearn: 0.3837046\ttotal: 433ms\tremaining: 1.78s\n",
      "196:\tlearn: 0.3832085\ttotal: 434ms\tremaining: 1.77s\n",
      "197:\tlearn: 0.3827921\ttotal: 436ms\tremaining: 1.76s\n",
      "198:\tlearn: 0.3823105\ttotal: 437ms\tremaining: 1.76s\n",
      "199:\tlearn: 0.3818350\ttotal: 438ms\tremaining: 1.75s\n",
      "200:\tlearn: 0.3815497\ttotal: 439ms\tremaining: 1.75s\n",
      "201:\tlearn: 0.3809861\ttotal: 441ms\tremaining: 1.74s\n",
      "202:\tlearn: 0.3805201\ttotal: 442ms\tremaining: 1.73s\n",
      "203:\tlearn: 0.3800554\ttotal: 443ms\tremaining: 1.73s\n",
      "204:\tlearn: 0.3796176\ttotal: 444ms\tremaining: 1.72s\n",
      "205:\tlearn: 0.3791170\ttotal: 445ms\tremaining: 1.72s\n",
      "206:\tlearn: 0.3783718\ttotal: 446ms\tremaining: 1.71s\n",
      "207:\tlearn: 0.3780501\ttotal: 448ms\tremaining: 1.7s\n",
      "208:\tlearn: 0.3773893\ttotal: 449ms\tremaining: 1.7s\n",
      "209:\tlearn: 0.3766736\ttotal: 450ms\tremaining: 1.69s\n",
      "210:\tlearn: 0.3762009\ttotal: 451ms\tremaining: 1.69s\n",
      "211:\tlearn: 0.3754611\ttotal: 452ms\tremaining: 1.68s\n",
      "212:\tlearn: 0.3750611\ttotal: 453ms\tremaining: 1.67s\n",
      "213:\tlearn: 0.3744271\ttotal: 454ms\tremaining: 1.67s\n",
      "214:\tlearn: 0.3738456\ttotal: 455ms\tremaining: 1.66s\n",
      "215:\tlearn: 0.3730705\ttotal: 457ms\tremaining: 1.66s\n",
      "216:\tlearn: 0.3725167\ttotal: 458ms\tremaining: 1.65s\n",
      "217:\tlearn: 0.3718862\ttotal: 459ms\tremaining: 1.65s\n",
      "218:\tlearn: 0.3714487\ttotal: 460ms\tremaining: 1.64s\n",
      "219:\tlearn: 0.3709871\ttotal: 461ms\tremaining: 1.63s\n",
      "220:\tlearn: 0.3707378\ttotal: 462ms\tremaining: 1.63s\n",
      "221:\tlearn: 0.3704158\ttotal: 463ms\tremaining: 1.62s\n",
      "222:\tlearn: 0.3699811\ttotal: 464ms\tremaining: 1.62s\n",
      "223:\tlearn: 0.3695598\ttotal: 466ms\tremaining: 1.61s\n",
      "224:\tlearn: 0.3689447\ttotal: 467ms\tremaining: 1.61s\n",
      "225:\tlearn: 0.3685225\ttotal: 468ms\tremaining: 1.6s\n",
      "226:\tlearn: 0.3680421\ttotal: 469ms\tremaining: 1.6s\n",
      "227:\tlearn: 0.3676042\ttotal: 470ms\tremaining: 1.59s\n",
      "228:\tlearn: 0.3671906\ttotal: 472ms\tremaining: 1.59s\n",
      "229:\tlearn: 0.3668212\ttotal: 473ms\tremaining: 1.58s\n",
      "230:\tlearn: 0.3663692\ttotal: 474ms\tremaining: 1.58s\n",
      "231:\tlearn: 0.3659467\ttotal: 475ms\tremaining: 1.57s\n",
      "232:\tlearn: 0.3655393\ttotal: 476ms\tremaining: 1.57s\n",
      "233:\tlearn: 0.3651726\ttotal: 477ms\tremaining: 1.56s\n",
      "234:\tlearn: 0.3647837\ttotal: 478ms\tremaining: 1.56s\n",
      "235:\tlearn: 0.3641776\ttotal: 480ms\tremaining: 1.55s\n",
      "236:\tlearn: 0.3638442\ttotal: 481ms\tremaining: 1.55s\n",
      "237:\tlearn: 0.3635195\ttotal: 482ms\tremaining: 1.54s\n",
      "238:\tlearn: 0.3631796\ttotal: 483ms\tremaining: 1.54s\n",
      "239:\tlearn: 0.3626676\ttotal: 484ms\tremaining: 1.53s\n",
      "240:\tlearn: 0.3622121\ttotal: 485ms\tremaining: 1.53s\n",
      "241:\tlearn: 0.3619048\ttotal: 486ms\tremaining: 1.52s\n",
      "242:\tlearn: 0.3615063\ttotal: 487ms\tremaining: 1.52s\n",
      "243:\tlearn: 0.3612841\ttotal: 488ms\tremaining: 1.51s\n",
      "244:\tlearn: 0.3609073\ttotal: 490ms\tremaining: 1.51s\n",
      "245:\tlearn: 0.3604078\ttotal: 491ms\tremaining: 1.5s\n",
      "246:\tlearn: 0.3599520\ttotal: 492ms\tremaining: 1.5s\n",
      "247:\tlearn: 0.3595811\ttotal: 493ms\tremaining: 1.49s\n",
      "248:\tlearn: 0.3591317\ttotal: 494ms\tremaining: 1.49s\n",
      "249:\tlearn: 0.3588479\ttotal: 495ms\tremaining: 1.49s\n",
      "250:\tlearn: 0.3583543\ttotal: 496ms\tremaining: 1.48s\n",
      "251:\tlearn: 0.3581791\ttotal: 497ms\tremaining: 1.48s\n",
      "252:\tlearn: 0.3578163\ttotal: 498ms\tremaining: 1.47s\n",
      "253:\tlearn: 0.3575379\ttotal: 500ms\tremaining: 1.47s\n",
      "254:\tlearn: 0.3572027\ttotal: 501ms\tremaining: 1.46s\n",
      "255:\tlearn: 0.3567982\ttotal: 502ms\tremaining: 1.46s\n",
      "256:\tlearn: 0.3562229\ttotal: 503ms\tremaining: 1.45s\n",
      "257:\tlearn: 0.3558689\ttotal: 504ms\tremaining: 1.45s\n",
      "258:\tlearn: 0.3551774\ttotal: 505ms\tremaining: 1.45s\n",
      "259:\tlearn: 0.3548640\ttotal: 506ms\tremaining: 1.44s\n",
      "260:\tlearn: 0.3544581\ttotal: 507ms\tremaining: 1.44s\n",
      "261:\tlearn: 0.3540613\ttotal: 509ms\tremaining: 1.43s\n",
      "262:\tlearn: 0.3538128\ttotal: 510ms\tremaining: 1.43s\n",
      "263:\tlearn: 0.3532543\ttotal: 511ms\tremaining: 1.42s\n",
      "264:\tlearn: 0.3528296\ttotal: 512ms\tremaining: 1.42s\n",
      "265:\tlearn: 0.3524755\ttotal: 513ms\tremaining: 1.42s\n",
      "266:\tlearn: 0.3521389\ttotal: 514ms\tremaining: 1.41s\n",
      "267:\tlearn: 0.3518051\ttotal: 515ms\tremaining: 1.41s\n",
      "268:\tlearn: 0.3513371\ttotal: 516ms\tremaining: 1.4s\n",
      "269:\tlearn: 0.3509465\ttotal: 517ms\tremaining: 1.4s\n",
      "270:\tlearn: 0.3506477\ttotal: 519ms\tremaining: 1.39s\n",
      "271:\tlearn: 0.3502686\ttotal: 520ms\tremaining: 1.39s\n",
      "272:\tlearn: 0.3499996\ttotal: 521ms\tremaining: 1.39s\n",
      "273:\tlearn: 0.3494654\ttotal: 522ms\tremaining: 1.38s\n",
      "274:\tlearn: 0.3490672\ttotal: 523ms\tremaining: 1.38s\n",
      "275:\tlearn: 0.3487140\ttotal: 524ms\tremaining: 1.37s\n",
      "276:\tlearn: 0.3483148\ttotal: 525ms\tremaining: 1.37s\n",
      "277:\tlearn: 0.3479376\ttotal: 526ms\tremaining: 1.37s\n",
      "278:\tlearn: 0.3476559\ttotal: 527ms\tremaining: 1.36s\n",
      "279:\tlearn: 0.3475056\ttotal: 528ms\tremaining: 1.36s\n",
      "280:\tlearn: 0.3470299\ttotal: 530ms\tremaining: 1.35s\n",
      "281:\tlearn: 0.3465974\ttotal: 531ms\tremaining: 1.35s\n",
      "282:\tlearn: 0.3457104\ttotal: 532ms\tremaining: 1.35s\n",
      "283:\tlearn: 0.3453699\ttotal: 533ms\tremaining: 1.34s\n",
      "284:\tlearn: 0.3449194\ttotal: 534ms\tremaining: 1.34s\n",
      "285:\tlearn: 0.3445781\ttotal: 536ms\tremaining: 1.34s\n",
      "286:\tlearn: 0.3442549\ttotal: 537ms\tremaining: 1.33s\n",
      "287:\tlearn: 0.3436732\ttotal: 538ms\tremaining: 1.33s\n",
      "288:\tlearn: 0.3431971\ttotal: 539ms\tremaining: 1.33s\n",
      "289:\tlearn: 0.3430385\ttotal: 540ms\tremaining: 1.32s\n",
      "290:\tlearn: 0.3426125\ttotal: 542ms\tremaining: 1.32s\n",
      "291:\tlearn: 0.3423901\ttotal: 543ms\tremaining: 1.31s\n",
      "292:\tlearn: 0.3418502\ttotal: 544ms\tremaining: 1.31s\n",
      "293:\tlearn: 0.3413629\ttotal: 545ms\tremaining: 1.31s\n",
      "294:\tlearn: 0.3410155\ttotal: 546ms\tremaining: 1.3s\n",
      "295:\tlearn: 0.3406270\ttotal: 548ms\tremaining: 1.3s\n",
      "296:\tlearn: 0.3403616\ttotal: 549ms\tremaining: 1.3s\n",
      "297:\tlearn: 0.3400305\ttotal: 550ms\tremaining: 1.29s\n",
      "298:\tlearn: 0.3397938\ttotal: 551ms\tremaining: 1.29s\n",
      "299:\tlearn: 0.3395162\ttotal: 552ms\tremaining: 1.29s\n",
      "300:\tlearn: 0.3391135\ttotal: 554ms\tremaining: 1.28s\n",
      "301:\tlearn: 0.3387590\ttotal: 555ms\tremaining: 1.28s\n",
      "302:\tlearn: 0.3383585\ttotal: 556ms\tremaining: 1.28s\n",
      "303:\tlearn: 0.3379814\ttotal: 557ms\tremaining: 1.27s\n",
      "304:\tlearn: 0.3375277\ttotal: 559ms\tremaining: 1.27s\n",
      "305:\tlearn: 0.3372477\ttotal: 560ms\tremaining: 1.27s\n",
      "306:\tlearn: 0.3369210\ttotal: 562ms\tremaining: 1.27s\n",
      "307:\tlearn: 0.3367762\ttotal: 563ms\tremaining: 1.26s\n",
      "308:\tlearn: 0.3363929\ttotal: 564ms\tremaining: 1.26s\n",
      "309:\tlearn: 0.3361404\ttotal: 565ms\tremaining: 1.26s\n",
      "310:\tlearn: 0.3358016\ttotal: 566ms\tremaining: 1.25s\n",
      "311:\tlearn: 0.3354371\ttotal: 567ms\tremaining: 1.25s\n",
      "312:\tlearn: 0.3351281\ttotal: 569ms\tremaining: 1.25s\n",
      "313:\tlearn: 0.3349342\ttotal: 570ms\tremaining: 1.24s\n",
      "314:\tlearn: 0.3345681\ttotal: 571ms\tremaining: 1.24s\n",
      "315:\tlearn: 0.3341835\ttotal: 572ms\tremaining: 1.24s\n",
      "316:\tlearn: 0.3339848\ttotal: 574ms\tremaining: 1.24s\n",
      "317:\tlearn: 0.3334631\ttotal: 575ms\tremaining: 1.23s\n",
      "318:\tlearn: 0.3333090\ttotal: 576ms\tremaining: 1.23s\n",
      "319:\tlearn: 0.3331853\ttotal: 577ms\tremaining: 1.23s\n",
      "320:\tlearn: 0.3329144\ttotal: 579ms\tremaining: 1.22s\n",
      "321:\tlearn: 0.3325655\ttotal: 580ms\tremaining: 1.22s\n",
      "322:\tlearn: 0.3323911\ttotal: 581ms\tremaining: 1.22s\n",
      "323:\tlearn: 0.3321008\ttotal: 582ms\tremaining: 1.22s\n",
      "324:\tlearn: 0.3318429\ttotal: 584ms\tremaining: 1.21s\n",
      "325:\tlearn: 0.3313364\ttotal: 585ms\tremaining: 1.21s\n",
      "326:\tlearn: 0.3311141\ttotal: 586ms\tremaining: 1.21s\n",
      "327:\tlearn: 0.3306946\ttotal: 587ms\tremaining: 1.2s\n",
      "328:\tlearn: 0.3303195\ttotal: 589ms\tremaining: 1.2s\n",
      "329:\tlearn: 0.3299492\ttotal: 590ms\tremaining: 1.2s\n",
      "330:\tlearn: 0.3296295\ttotal: 591ms\tremaining: 1.2s\n",
      "331:\tlearn: 0.3292299\ttotal: 593ms\tremaining: 1.19s\n",
      "332:\tlearn: 0.3288012\ttotal: 594ms\tremaining: 1.19s\n",
      "333:\tlearn: 0.3284230\ttotal: 595ms\tremaining: 1.19s\n",
      "334:\tlearn: 0.3281356\ttotal: 596ms\tremaining: 1.18s\n",
      "335:\tlearn: 0.3278105\ttotal: 598ms\tremaining: 1.18s\n",
      "336:\tlearn: 0.3275766\ttotal: 599ms\tremaining: 1.18s\n",
      "337:\tlearn: 0.3272361\ttotal: 600ms\tremaining: 1.18s\n",
      "338:\tlearn: 0.3271448\ttotal: 602ms\tremaining: 1.17s\n",
      "339:\tlearn: 0.3270027\ttotal: 603ms\tremaining: 1.17s\n",
      "340:\tlearn: 0.3264515\ttotal: 604ms\tremaining: 1.17s\n",
      "341:\tlearn: 0.3261568\ttotal: 606ms\tremaining: 1.17s\n",
      "342:\tlearn: 0.3259076\ttotal: 607ms\tremaining: 1.16s\n",
      "343:\tlearn: 0.3257816\ttotal: 608ms\tremaining: 1.16s\n",
      "344:\tlearn: 0.3253372\ttotal: 609ms\tremaining: 1.16s\n",
      "345:\tlearn: 0.3249546\ttotal: 610ms\tremaining: 1.15s\n",
      "346:\tlearn: 0.3247155\ttotal: 611ms\tremaining: 1.15s\n",
      "347:\tlearn: 0.3242784\ttotal: 612ms\tremaining: 1.15s\n",
      "348:\tlearn: 0.3240593\ttotal: 614ms\tremaining: 1.14s\n",
      "349:\tlearn: 0.3236125\ttotal: 615ms\tremaining: 1.14s\n",
      "350:\tlearn: 0.3233139\ttotal: 616ms\tremaining: 1.14s\n",
      "351:\tlearn: 0.3230584\ttotal: 617ms\tremaining: 1.14s\n",
      "352:\tlearn: 0.3227589\ttotal: 619ms\tremaining: 1.14s\n",
      "353:\tlearn: 0.3226484\ttotal: 620ms\tremaining: 1.13s\n",
      "354:\tlearn: 0.3224708\ttotal: 622ms\tremaining: 1.13s\n",
      "355:\tlearn: 0.3222481\ttotal: 623ms\tremaining: 1.13s\n",
      "356:\tlearn: 0.3220751\ttotal: 624ms\tremaining: 1.12s\n",
      "357:\tlearn: 0.3217743\ttotal: 625ms\tremaining: 1.12s\n",
      "358:\tlearn: 0.3215696\ttotal: 626ms\tremaining: 1.12s\n",
      "359:\tlearn: 0.3213855\ttotal: 627ms\tremaining: 1.11s\n",
      "360:\tlearn: 0.3210040\ttotal: 628ms\tremaining: 1.11s\n",
      "361:\tlearn: 0.3206377\ttotal: 629ms\tremaining: 1.11s\n",
      "362:\tlearn: 0.3203844\ttotal: 631ms\tremaining: 1.11s\n",
      "363:\tlearn: 0.3199615\ttotal: 632ms\tremaining: 1.1s\n",
      "364:\tlearn: 0.3196000\ttotal: 633ms\tremaining: 1.1s\n",
      "365:\tlearn: 0.3192366\ttotal: 635ms\tremaining: 1.1s\n",
      "366:\tlearn: 0.3189433\ttotal: 636ms\tremaining: 1.1s\n",
      "367:\tlearn: 0.3187596\ttotal: 637ms\tremaining: 1.09s\n",
      "368:\tlearn: 0.3183334\ttotal: 638ms\tremaining: 1.09s\n",
      "369:\tlearn: 0.3181075\ttotal: 639ms\tremaining: 1.09s\n",
      "370:\tlearn: 0.3179868\ttotal: 640ms\tremaining: 1.08s\n",
      "371:\tlearn: 0.3177287\ttotal: 642ms\tremaining: 1.08s\n",
      "372:\tlearn: 0.3174213\ttotal: 643ms\tremaining: 1.08s\n",
      "373:\tlearn: 0.3173105\ttotal: 644ms\tremaining: 1.08s\n",
      "374:\tlearn: 0.3169930\ttotal: 646ms\tremaining: 1.08s\n",
      "375:\tlearn: 0.3167770\ttotal: 647ms\tremaining: 1.07s\n",
      "376:\tlearn: 0.3164586\ttotal: 648ms\tremaining: 1.07s\n",
      "377:\tlearn: 0.3162964\ttotal: 649ms\tremaining: 1.07s\n",
      "378:\tlearn: 0.3157005\ttotal: 650ms\tremaining: 1.06s\n",
      "379:\tlearn: 0.3154507\ttotal: 652ms\tremaining: 1.06s\n",
      "380:\tlearn: 0.3150930\ttotal: 653ms\tremaining: 1.06s\n",
      "381:\tlearn: 0.3147706\ttotal: 654ms\tremaining: 1.06s\n",
      "382:\tlearn: 0.3143755\ttotal: 655ms\tremaining: 1.05s\n",
      "383:\tlearn: 0.3139819\ttotal: 656ms\tremaining: 1.05s\n",
      "384:\tlearn: 0.3136702\ttotal: 657ms\tremaining: 1.05s\n",
      "385:\tlearn: 0.3134343\ttotal: 658ms\tremaining: 1.05s\n",
      "386:\tlearn: 0.3133741\ttotal: 659ms\tremaining: 1.04s\n",
      "387:\tlearn: 0.3130709\ttotal: 660ms\tremaining: 1.04s\n",
      "388:\tlearn: 0.3128360\ttotal: 661ms\tremaining: 1.04s\n",
      "389:\tlearn: 0.3124279\ttotal: 663ms\tremaining: 1.04s\n",
      "390:\tlearn: 0.3121571\ttotal: 664ms\tremaining: 1.03s\n",
      "391:\tlearn: 0.3118727\ttotal: 665ms\tremaining: 1.03s\n",
      "392:\tlearn: 0.3117433\ttotal: 666ms\tremaining: 1.03s\n",
      "393:\tlearn: 0.3113093\ttotal: 667ms\tremaining: 1.03s\n",
      "394:\tlearn: 0.3111498\ttotal: 668ms\tremaining: 1.02s\n",
      "395:\tlearn: 0.3108884\ttotal: 669ms\tremaining: 1.02s\n",
      "396:\tlearn: 0.3106935\ttotal: 671ms\tremaining: 1.02s\n",
      "397:\tlearn: 0.3104544\ttotal: 672ms\tremaining: 1.01s\n",
      "398:\tlearn: 0.3100203\ttotal: 673ms\tremaining: 1.01s\n",
      "399:\tlearn: 0.3097922\ttotal: 674ms\tremaining: 1.01s\n",
      "400:\tlearn: 0.3093006\ttotal: 675ms\tremaining: 1.01s\n",
      "401:\tlearn: 0.3090082\ttotal: 677ms\tremaining: 1.01s\n",
      "402:\tlearn: 0.3086350\ttotal: 678ms\tremaining: 1s\n",
      "403:\tlearn: 0.3085525\ttotal: 679ms\tremaining: 1s\n",
      "404:\tlearn: 0.3082926\ttotal: 680ms\tremaining: 999ms\n",
      "405:\tlearn: 0.3079534\ttotal: 681ms\tremaining: 996ms\n",
      "406:\tlearn: 0.3077615\ttotal: 682ms\tremaining: 994ms\n",
      "407:\tlearn: 0.3076204\ttotal: 683ms\tremaining: 992ms\n",
      "408:\tlearn: 0.3073705\ttotal: 685ms\tremaining: 989ms\n",
      "409:\tlearn: 0.3072051\ttotal: 686ms\tremaining: 987ms\n",
      "410:\tlearn: 0.3069296\ttotal: 687ms\tremaining: 984ms\n",
      "411:\tlearn: 0.3067305\ttotal: 688ms\tremaining: 982ms\n",
      "412:\tlearn: 0.3064667\ttotal: 689ms\tremaining: 979ms\n",
      "413:\tlearn: 0.3062177\ttotal: 690ms\tremaining: 977ms\n",
      "414:\tlearn: 0.3059366\ttotal: 691ms\tremaining: 974ms\n",
      "415:\tlearn: 0.3057826\ttotal: 692ms\tremaining: 972ms\n",
      "416:\tlearn: 0.3053670\ttotal: 694ms\tremaining: 970ms\n",
      "417:\tlearn: 0.3052102\ttotal: 695ms\tremaining: 967ms\n",
      "418:\tlearn: 0.3048241\ttotal: 696ms\tremaining: 965ms\n",
      "419:\tlearn: 0.3043941\ttotal: 697ms\tremaining: 962ms\n",
      "420:\tlearn: 0.3042906\ttotal: 698ms\tremaining: 960ms\n",
      "421:\tlearn: 0.3042106\ttotal: 699ms\tremaining: 958ms\n",
      "422:\tlearn: 0.3039127\ttotal: 700ms\tremaining: 955ms\n",
      "423:\tlearn: 0.3036822\ttotal: 701ms\tremaining: 953ms\n",
      "424:\tlearn: 0.3032348\ttotal: 703ms\tremaining: 951ms\n",
      "425:\tlearn: 0.3030739\ttotal: 704ms\tremaining: 948ms\n",
      "426:\tlearn: 0.3027756\ttotal: 705ms\tremaining: 946ms\n",
      "427:\tlearn: 0.3025508\ttotal: 706ms\tremaining: 944ms\n",
      "428:\tlearn: 0.3022920\ttotal: 708ms\tremaining: 942ms\n",
      "429:\tlearn: 0.3020336\ttotal: 709ms\tremaining: 940ms\n",
      "430:\tlearn: 0.3018311\ttotal: 710ms\tremaining: 937ms\n",
      "431:\tlearn: 0.3016490\ttotal: 711ms\tremaining: 935ms\n",
      "432:\tlearn: 0.3014655\ttotal: 713ms\tremaining: 933ms\n",
      "433:\tlearn: 0.3011402\ttotal: 714ms\tremaining: 931ms\n",
      "434:\tlearn: 0.3008430\ttotal: 715ms\tremaining: 929ms\n",
      "435:\tlearn: 0.3005948\ttotal: 716ms\tremaining: 927ms\n",
      "436:\tlearn: 0.3003246\ttotal: 718ms\tremaining: 925ms\n",
      "437:\tlearn: 0.2998332\ttotal: 719ms\tremaining: 922ms\n",
      "438:\tlearn: 0.2995628\ttotal: 720ms\tremaining: 920ms\n",
      "439:\tlearn: 0.2993476\ttotal: 721ms\tremaining: 918ms\n",
      "440:\tlearn: 0.2992118\ttotal: 723ms\tremaining: 916ms\n",
      "441:\tlearn: 0.2989786\ttotal: 724ms\tremaining: 914ms\n",
      "442:\tlearn: 0.2987332\ttotal: 725ms\tremaining: 912ms\n",
      "443:\tlearn: 0.2983521\ttotal: 727ms\tremaining: 910ms\n",
      "444:\tlearn: 0.2981144\ttotal: 728ms\tremaining: 908ms\n",
      "445:\tlearn: 0.2979409\ttotal: 729ms\tremaining: 905ms\n",
      "446:\tlearn: 0.2976007\ttotal: 730ms\tremaining: 903ms\n",
      "447:\tlearn: 0.2974376\ttotal: 731ms\tremaining: 901ms\n",
      "448:\tlearn: 0.2971482\ttotal: 733ms\tremaining: 899ms\n",
      "449:\tlearn: 0.2970532\ttotal: 734ms\tremaining: 897ms\n",
      "450:\tlearn: 0.2968756\ttotal: 735ms\tremaining: 895ms\n",
      "451:\tlearn: 0.2966521\ttotal: 736ms\tremaining: 893ms\n",
      "452:\tlearn: 0.2963392\ttotal: 738ms\tremaining: 891ms\n",
      "453:\tlearn: 0.2962526\ttotal: 739ms\tremaining: 889ms\n",
      "454:\tlearn: 0.2959383\ttotal: 740ms\tremaining: 887ms\n",
      "455:\tlearn: 0.2957414\ttotal: 741ms\tremaining: 884ms\n",
      "456:\tlearn: 0.2954628\ttotal: 743ms\tremaining: 882ms\n",
      "457:\tlearn: 0.2951344\ttotal: 744ms\tremaining: 880ms\n",
      "458:\tlearn: 0.2949065\ttotal: 745ms\tremaining: 878ms\n",
      "459:\tlearn: 0.2948312\ttotal: 746ms\tremaining: 876ms\n",
      "460:\tlearn: 0.2946606\ttotal: 747ms\tremaining: 874ms\n",
      "461:\tlearn: 0.2944450\ttotal: 749ms\tremaining: 872ms\n",
      "462:\tlearn: 0.2942192\ttotal: 750ms\tremaining: 870ms\n",
      "463:\tlearn: 0.2940629\ttotal: 751ms\tremaining: 867ms\n",
      "464:\tlearn: 0.2936862\ttotal: 752ms\tremaining: 865ms\n",
      "465:\tlearn: 0.2934564\ttotal: 753ms\tremaining: 863ms\n",
      "466:\tlearn: 0.2931260\ttotal: 754ms\tremaining: 861ms\n",
      "467:\tlearn: 0.2927964\ttotal: 756ms\tremaining: 859ms\n",
      "468:\tlearn: 0.2926018\ttotal: 757ms\tremaining: 857ms\n",
      "469:\tlearn: 0.2923854\ttotal: 758ms\tremaining: 855ms\n",
      "470:\tlearn: 0.2921834\ttotal: 760ms\tremaining: 853ms\n",
      "471:\tlearn: 0.2919782\ttotal: 761ms\tremaining: 851ms\n",
      "472:\tlearn: 0.2917113\ttotal: 762ms\tremaining: 849ms\n",
      "473:\tlearn: 0.2912696\ttotal: 763ms\tremaining: 847ms\n",
      "474:\tlearn: 0.2910249\ttotal: 765ms\tremaining: 845ms\n",
      "475:\tlearn: 0.2907673\ttotal: 766ms\tremaining: 843ms\n",
      "476:\tlearn: 0.2904237\ttotal: 767ms\tremaining: 841ms\n",
      "477:\tlearn: 0.2902551\ttotal: 768ms\tremaining: 839ms\n",
      "478:\tlearn: 0.2899177\ttotal: 770ms\tremaining: 837ms\n",
      "479:\tlearn: 0.2897175\ttotal: 771ms\tremaining: 835ms\n",
      "480:\tlearn: 0.2896110\ttotal: 772ms\tremaining: 833ms\n",
      "481:\tlearn: 0.2892980\ttotal: 773ms\tremaining: 831ms\n",
      "482:\tlearn: 0.2889870\ttotal: 775ms\tremaining: 830ms\n",
      "483:\tlearn: 0.2887236\ttotal: 776ms\tremaining: 828ms\n",
      "484:\tlearn: 0.2885040\ttotal: 778ms\tremaining: 826ms\n",
      "485:\tlearn: 0.2881886\ttotal: 779ms\tremaining: 824ms\n",
      "486:\tlearn: 0.2880321\ttotal: 780ms\tremaining: 822ms\n",
      "487:\tlearn: 0.2877498\ttotal: 782ms\tremaining: 821ms\n",
      "488:\tlearn: 0.2874975\ttotal: 783ms\tremaining: 818ms\n",
      "489:\tlearn: 0.2870005\ttotal: 784ms\tremaining: 816ms\n",
      "490:\tlearn: 0.2867773\ttotal: 785ms\tremaining: 814ms\n",
      "491:\tlearn: 0.2866602\ttotal: 787ms\tremaining: 812ms\n",
      "492:\tlearn: 0.2864573\ttotal: 788ms\tremaining: 810ms\n",
      "493:\tlearn: 0.2862369\ttotal: 789ms\tremaining: 808ms\n",
      "494:\tlearn: 0.2860048\ttotal: 790ms\tremaining: 806ms\n",
      "495:\tlearn: 0.2858847\ttotal: 792ms\tremaining: 804ms\n",
      "496:\tlearn: 0.2856706\ttotal: 793ms\tremaining: 802ms\n",
      "497:\tlearn: 0.2853657\ttotal: 794ms\tremaining: 800ms\n",
      "498:\tlearn: 0.2851930\ttotal: 795ms\tremaining: 798ms\n",
      "499:\tlearn: 0.2848883\ttotal: 796ms\tremaining: 796ms\n",
      "500:\tlearn: 0.2847668\ttotal: 797ms\tremaining: 794ms\n",
      "501:\tlearn: 0.2846362\ttotal: 798ms\tremaining: 792ms\n",
      "502:\tlearn: 0.2843093\ttotal: 799ms\tremaining: 790ms\n",
      "503:\tlearn: 0.2841273\ttotal: 801ms\tremaining: 788ms\n",
      "504:\tlearn: 0.2839508\ttotal: 802ms\tremaining: 786ms\n",
      "505:\tlearn: 0.2838791\ttotal: 803ms\tremaining: 784ms\n",
      "506:\tlearn: 0.2835382\ttotal: 804ms\tremaining: 782ms\n",
      "507:\tlearn: 0.2832336\ttotal: 805ms\tremaining: 780ms\n",
      "508:\tlearn: 0.2830058\ttotal: 806ms\tremaining: 778ms\n",
      "509:\tlearn: 0.2828549\ttotal: 808ms\tremaining: 776ms\n",
      "510:\tlearn: 0.2826536\ttotal: 809ms\tremaining: 774ms\n",
      "511:\tlearn: 0.2821348\ttotal: 810ms\tremaining: 772ms\n",
      "512:\tlearn: 0.2817643\ttotal: 811ms\tremaining: 770ms\n",
      "513:\tlearn: 0.2817056\ttotal: 812ms\tremaining: 767ms\n",
      "514:\tlearn: 0.2815301\ttotal: 813ms\tremaining: 765ms\n",
      "515:\tlearn: 0.2812127\ttotal: 814ms\tremaining: 763ms\n",
      "516:\tlearn: 0.2811157\ttotal: 815ms\tremaining: 761ms\n",
      "517:\tlearn: 0.2810220\ttotal: 816ms\tremaining: 759ms\n",
      "518:\tlearn: 0.2808123\ttotal: 817ms\tremaining: 757ms\n",
      "519:\tlearn: 0.2804794\ttotal: 818ms\tremaining: 755ms\n",
      "520:\tlearn: 0.2802338\ttotal: 820ms\tremaining: 754ms\n",
      "521:\tlearn: 0.2800138\ttotal: 821ms\tremaining: 752ms\n",
      "522:\tlearn: 0.2798458\ttotal: 822ms\tremaining: 750ms\n",
      "523:\tlearn: 0.2795009\ttotal: 823ms\tremaining: 748ms\n",
      "524:\tlearn: 0.2792134\ttotal: 825ms\tremaining: 746ms\n",
      "525:\tlearn: 0.2789277\ttotal: 826ms\tremaining: 744ms\n",
      "526:\tlearn: 0.2787092\ttotal: 827ms\tremaining: 742ms\n",
      "527:\tlearn: 0.2785171\ttotal: 828ms\tremaining: 740ms\n",
      "528:\tlearn: 0.2782431\ttotal: 829ms\tremaining: 738ms\n",
      "529:\tlearn: 0.2780792\ttotal: 830ms\tremaining: 736ms\n",
      "530:\tlearn: 0.2778468\ttotal: 831ms\tremaining: 734ms\n",
      "531:\tlearn: 0.2776214\ttotal: 833ms\tremaining: 732ms\n",
      "532:\tlearn: 0.2775225\ttotal: 834ms\tremaining: 730ms\n",
      "533:\tlearn: 0.2772761\ttotal: 835ms\tremaining: 729ms\n",
      "534:\tlearn: 0.2770526\ttotal: 836ms\tremaining: 727ms\n",
      "535:\tlearn: 0.2768688\ttotal: 837ms\tremaining: 725ms\n",
      "536:\tlearn: 0.2767198\ttotal: 838ms\tremaining: 723ms\n",
      "537:\tlearn: 0.2763635\ttotal: 839ms\tremaining: 721ms\n",
      "538:\tlearn: 0.2761839\ttotal: 841ms\tremaining: 719ms\n",
      "539:\tlearn: 0.2760329\ttotal: 842ms\tremaining: 717ms\n",
      "540:\tlearn: 0.2758814\ttotal: 843ms\tremaining: 715ms\n",
      "541:\tlearn: 0.2756554\ttotal: 844ms\tremaining: 713ms\n",
      "542:\tlearn: 0.2753469\ttotal: 845ms\tremaining: 711ms\n",
      "543:\tlearn: 0.2751437\ttotal: 846ms\tremaining: 709ms\n",
      "544:\tlearn: 0.2749836\ttotal: 847ms\tremaining: 707ms\n",
      "545:\tlearn: 0.2748715\ttotal: 848ms\tremaining: 706ms\n",
      "546:\tlearn: 0.2748156\ttotal: 850ms\tremaining: 704ms\n",
      "547:\tlearn: 0.2746396\ttotal: 851ms\tremaining: 702ms\n",
      "548:\tlearn: 0.2742751\ttotal: 852ms\tremaining: 700ms\n",
      "549:\tlearn: 0.2740222\ttotal: 853ms\tremaining: 698ms\n",
      "550:\tlearn: 0.2737643\ttotal: 854ms\tremaining: 696ms\n",
      "551:\tlearn: 0.2735570\ttotal: 856ms\tremaining: 694ms\n",
      "552:\tlearn: 0.2732473\ttotal: 857ms\tremaining: 693ms\n",
      "553:\tlearn: 0.2730397\ttotal: 858ms\tremaining: 691ms\n",
      "554:\tlearn: 0.2726986\ttotal: 859ms\tremaining: 689ms\n",
      "555:\tlearn: 0.2726207\ttotal: 860ms\tremaining: 687ms\n",
      "556:\tlearn: 0.2724192\ttotal: 861ms\tremaining: 685ms\n",
      "557:\tlearn: 0.2722507\ttotal: 862ms\tremaining: 683ms\n",
      "558:\tlearn: 0.2718974\ttotal: 864ms\tremaining: 681ms\n",
      "559:\tlearn: 0.2717007\ttotal: 865ms\tremaining: 679ms\n",
      "560:\tlearn: 0.2714049\ttotal: 866ms\tremaining: 678ms\n",
      "561:\tlearn: 0.2712418\ttotal: 867ms\tremaining: 676ms\n",
      "562:\tlearn: 0.2709507\ttotal: 868ms\tremaining: 674ms\n",
      "563:\tlearn: 0.2707628\ttotal: 869ms\tremaining: 672ms\n",
      "564:\tlearn: 0.2705255\ttotal: 870ms\tremaining: 670ms\n",
      "565:\tlearn: 0.2703786\ttotal: 871ms\tremaining: 668ms\n",
      "566:\tlearn: 0.2702270\ttotal: 873ms\tremaining: 666ms\n",
      "567:\tlearn: 0.2699564\ttotal: 874ms\tremaining: 665ms\n",
      "568:\tlearn: 0.2697149\ttotal: 875ms\tremaining: 663ms\n",
      "569:\tlearn: 0.2695101\ttotal: 876ms\tremaining: 661ms\n",
      "570:\tlearn: 0.2693226\ttotal: 877ms\tremaining: 659ms\n",
      "571:\tlearn: 0.2692401\ttotal: 878ms\tremaining: 657ms\n",
      "572:\tlearn: 0.2690312\ttotal: 879ms\tremaining: 655ms\n",
      "573:\tlearn: 0.2688283\ttotal: 881ms\tremaining: 654ms\n",
      "574:\tlearn: 0.2685991\ttotal: 882ms\tremaining: 652ms\n",
      "575:\tlearn: 0.2684519\ttotal: 883ms\tremaining: 650ms\n",
      "576:\tlearn: 0.2681852\ttotal: 885ms\tremaining: 649ms\n",
      "577:\tlearn: 0.2679966\ttotal: 886ms\tremaining: 647ms\n",
      "578:\tlearn: 0.2678214\ttotal: 888ms\tremaining: 645ms\n",
      "579:\tlearn: 0.2675508\ttotal: 889ms\tremaining: 644ms\n",
      "580:\tlearn: 0.2672992\ttotal: 890ms\tremaining: 642ms\n",
      "581:\tlearn: 0.2671163\ttotal: 892ms\tremaining: 640ms\n",
      "582:\tlearn: 0.2669239\ttotal: 893ms\tremaining: 639ms\n",
      "583:\tlearn: 0.2667451\ttotal: 894ms\tremaining: 637ms\n",
      "584:\tlearn: 0.2665639\ttotal: 896ms\tremaining: 636ms\n",
      "585:\tlearn: 0.2662928\ttotal: 897ms\tremaining: 634ms\n",
      "586:\tlearn: 0.2659768\ttotal: 898ms\tremaining: 632ms\n",
      "587:\tlearn: 0.2657706\ttotal: 900ms\tremaining: 630ms\n",
      "588:\tlearn: 0.2656701\ttotal: 901ms\tremaining: 629ms\n",
      "589:\tlearn: 0.2653913\ttotal: 902ms\tremaining: 627ms\n",
      "590:\tlearn: 0.2652461\ttotal: 904ms\tremaining: 625ms\n",
      "591:\tlearn: 0.2650850\ttotal: 905ms\tremaining: 624ms\n",
      "592:\tlearn: 0.2649887\ttotal: 906ms\tremaining: 622ms\n",
      "593:\tlearn: 0.2649084\ttotal: 907ms\tremaining: 620ms\n",
      "594:\tlearn: 0.2647971\ttotal: 909ms\tremaining: 619ms\n",
      "595:\tlearn: 0.2646760\ttotal: 910ms\tremaining: 617ms\n",
      "596:\tlearn: 0.2643129\ttotal: 911ms\tremaining: 615ms\n",
      "597:\tlearn: 0.2641118\ttotal: 913ms\tremaining: 613ms\n",
      "598:\tlearn: 0.2638480\ttotal: 914ms\tremaining: 612ms\n",
      "599:\tlearn: 0.2636756\ttotal: 915ms\tremaining: 610ms\n",
      "600:\tlearn: 0.2634917\ttotal: 917ms\tremaining: 609ms\n",
      "601:\tlearn: 0.2632788\ttotal: 918ms\tremaining: 607ms\n",
      "602:\tlearn: 0.2630358\ttotal: 919ms\tremaining: 605ms\n",
      "603:\tlearn: 0.2627907\ttotal: 920ms\tremaining: 603ms\n",
      "604:\tlearn: 0.2626487\ttotal: 922ms\tremaining: 602ms\n",
      "605:\tlearn: 0.2623086\ttotal: 923ms\tremaining: 600ms\n",
      "606:\tlearn: 0.2622148\ttotal: 924ms\tremaining: 598ms\n",
      "607:\tlearn: 0.2619977\ttotal: 925ms\tremaining: 597ms\n",
      "608:\tlearn: 0.2618683\ttotal: 927ms\tremaining: 595ms\n",
      "609:\tlearn: 0.2617262\ttotal: 928ms\tremaining: 594ms\n",
      "610:\tlearn: 0.2614272\ttotal: 930ms\tremaining: 592ms\n",
      "611:\tlearn: 0.2612679\ttotal: 931ms\tremaining: 590ms\n",
      "612:\tlearn: 0.2610038\ttotal: 933ms\tremaining: 589ms\n",
      "613:\tlearn: 0.2607667\ttotal: 934ms\tremaining: 587ms\n",
      "614:\tlearn: 0.2605145\ttotal: 936ms\tremaining: 586ms\n",
      "615:\tlearn: 0.2602892\ttotal: 937ms\tremaining: 584ms\n",
      "616:\tlearn: 0.2599984\ttotal: 938ms\tremaining: 583ms\n",
      "617:\tlearn: 0.2598193\ttotal: 940ms\tremaining: 581ms\n",
      "618:\tlearn: 0.2596203\ttotal: 942ms\tremaining: 580ms\n",
      "619:\tlearn: 0.2594357\ttotal: 943ms\tremaining: 578ms\n",
      "620:\tlearn: 0.2590858\ttotal: 945ms\tremaining: 577ms\n",
      "621:\tlearn: 0.2589773\ttotal: 947ms\tremaining: 576ms\n",
      "622:\tlearn: 0.2585929\ttotal: 949ms\tremaining: 574ms\n",
      "623:\tlearn: 0.2581706\ttotal: 950ms\tremaining: 573ms\n",
      "624:\tlearn: 0.2578699\ttotal: 952ms\tremaining: 571ms\n",
      "625:\tlearn: 0.2576291\ttotal: 954ms\tremaining: 570ms\n",
      "626:\tlearn: 0.2574157\ttotal: 955ms\tremaining: 568ms\n",
      "627:\tlearn: 0.2569596\ttotal: 957ms\tremaining: 567ms\n",
      "628:\tlearn: 0.2566992\ttotal: 959ms\tremaining: 565ms\n",
      "629:\tlearn: 0.2564773\ttotal: 960ms\tremaining: 564ms\n",
      "630:\tlearn: 0.2563904\ttotal: 962ms\tremaining: 562ms\n",
      "631:\tlearn: 0.2562541\ttotal: 963ms\tremaining: 561ms\n",
      "632:\tlearn: 0.2560905\ttotal: 965ms\tremaining: 559ms\n",
      "633:\tlearn: 0.2559196\ttotal: 966ms\tremaining: 558ms\n",
      "634:\tlearn: 0.2556727\ttotal: 968ms\tremaining: 556ms\n",
      "635:\tlearn: 0.2554610\ttotal: 970ms\tremaining: 555ms\n",
      "636:\tlearn: 0.2553226\ttotal: 971ms\tremaining: 554ms\n",
      "637:\tlearn: 0.2551740\ttotal: 973ms\tremaining: 552ms\n",
      "638:\tlearn: 0.2549789\ttotal: 975ms\tremaining: 551ms\n",
      "639:\tlearn: 0.2547121\ttotal: 978ms\tremaining: 550ms\n",
      "640:\tlearn: 0.2546132\ttotal: 979ms\tremaining: 548ms\n",
      "641:\tlearn: 0.2543087\ttotal: 981ms\tremaining: 547ms\n",
      "642:\tlearn: 0.2541042\ttotal: 982ms\tremaining: 545ms\n",
      "643:\tlearn: 0.2538693\ttotal: 983ms\tremaining: 544ms\n",
      "644:\tlearn: 0.2535917\ttotal: 985ms\tremaining: 542ms\n",
      "645:\tlearn: 0.2533902\ttotal: 986ms\tremaining: 540ms\n",
      "646:\tlearn: 0.2532326\ttotal: 987ms\tremaining: 539ms\n",
      "647:\tlearn: 0.2530459\ttotal: 989ms\tremaining: 537ms\n",
      "648:\tlearn: 0.2528119\ttotal: 990ms\tremaining: 535ms\n",
      "649:\tlearn: 0.2525547\ttotal: 992ms\tremaining: 534ms\n",
      "650:\tlearn: 0.2524567\ttotal: 993ms\tremaining: 533ms\n",
      "651:\tlearn: 0.2521524\ttotal: 995ms\tremaining: 531ms\n",
      "652:\tlearn: 0.2518746\ttotal: 996ms\tremaining: 529ms\n",
      "653:\tlearn: 0.2515442\ttotal: 998ms\tremaining: 528ms\n",
      "654:\tlearn: 0.2513742\ttotal: 999ms\tremaining: 526ms\n",
      "655:\tlearn: 0.2511759\ttotal: 1s\tremaining: 525ms\n",
      "656:\tlearn: 0.2508741\ttotal: 1s\tremaining: 523ms\n",
      "657:\tlearn: 0.2507077\ttotal: 1s\tremaining: 521ms\n",
      "658:\tlearn: 0.2505781\ttotal: 1s\tremaining: 520ms\n",
      "659:\tlearn: 0.2505100\ttotal: 1s\tremaining: 518ms\n",
      "660:\tlearn: 0.2501853\ttotal: 1.01s\tremaining: 517ms\n",
      "661:\tlearn: 0.2500339\ttotal: 1.01s\tremaining: 515ms\n",
      "662:\tlearn: 0.2498808\ttotal: 1.01s\tremaining: 514ms\n",
      "663:\tlearn: 0.2496646\ttotal: 1.01s\tremaining: 512ms\n",
      "664:\tlearn: 0.2493293\ttotal: 1.01s\tremaining: 511ms\n",
      "665:\tlearn: 0.2491573\ttotal: 1.02s\tremaining: 510ms\n",
      "666:\tlearn: 0.2489233\ttotal: 1.02s\tremaining: 508ms\n",
      "667:\tlearn: 0.2488568\ttotal: 1.02s\tremaining: 507ms\n",
      "668:\tlearn: 0.2486144\ttotal: 1.02s\tremaining: 506ms\n",
      "669:\tlearn: 0.2483773\ttotal: 1.02s\tremaining: 504ms\n",
      "670:\tlearn: 0.2482201\ttotal: 1.02s\tremaining: 503ms\n",
      "671:\tlearn: 0.2481445\ttotal: 1.03s\tremaining: 502ms\n",
      "672:\tlearn: 0.2480453\ttotal: 1.03s\tremaining: 500ms\n",
      "673:\tlearn: 0.2478585\ttotal: 1.03s\tremaining: 499ms\n",
      "674:\tlearn: 0.2477204\ttotal: 1.03s\tremaining: 497ms\n",
      "675:\tlearn: 0.2476415\ttotal: 1.03s\tremaining: 496ms\n",
      "676:\tlearn: 0.2473815\ttotal: 1.03s\tremaining: 494ms\n",
      "677:\tlearn: 0.2471798\ttotal: 1.04s\tremaining: 493ms\n",
      "678:\tlearn: 0.2470178\ttotal: 1.04s\tremaining: 491ms\n",
      "679:\tlearn: 0.2468595\ttotal: 1.04s\tremaining: 490ms\n",
      "680:\tlearn: 0.2465018\ttotal: 1.04s\tremaining: 488ms\n",
      "681:\tlearn: 0.2463322\ttotal: 1.04s\tremaining: 487ms\n",
      "682:\tlearn: 0.2461881\ttotal: 1.04s\tremaining: 485ms\n",
      "683:\tlearn: 0.2460320\ttotal: 1.05s\tremaining: 484ms\n",
      "684:\tlearn: 0.2459155\ttotal: 1.05s\tremaining: 482ms\n",
      "685:\tlearn: 0.2457787\ttotal: 1.05s\tremaining: 481ms\n",
      "686:\tlearn: 0.2455912\ttotal: 1.05s\tremaining: 480ms\n",
      "687:\tlearn: 0.2453303\ttotal: 1.06s\tremaining: 479ms\n",
      "688:\tlearn: 0.2451950\ttotal: 1.06s\tremaining: 478ms\n",
      "689:\tlearn: 0.2450738\ttotal: 1.06s\tremaining: 476ms\n",
      "690:\tlearn: 0.2448890\ttotal: 1.06s\tremaining: 474ms\n",
      "691:\tlearn: 0.2445965\ttotal: 1.06s\tremaining: 473ms\n",
      "692:\tlearn: 0.2444868\ttotal: 1.06s\tremaining: 471ms\n",
      "693:\tlearn: 0.2443674\ttotal: 1.06s\tremaining: 470ms\n",
      "694:\tlearn: 0.2442138\ttotal: 1.07s\tremaining: 468ms\n",
      "695:\tlearn: 0.2439370\ttotal: 1.07s\tremaining: 467ms\n",
      "696:\tlearn: 0.2438278\ttotal: 1.07s\tremaining: 466ms\n",
      "697:\tlearn: 0.2435801\ttotal: 1.07s\tremaining: 464ms\n",
      "698:\tlearn: 0.2434457\ttotal: 1.07s\tremaining: 463ms\n",
      "699:\tlearn: 0.2432475\ttotal: 1.08s\tremaining: 461ms\n",
      "700:\tlearn: 0.2428014\ttotal: 1.08s\tremaining: 460ms\n",
      "701:\tlearn: 0.2424086\ttotal: 1.08s\tremaining: 458ms\n",
      "702:\tlearn: 0.2423574\ttotal: 1.08s\tremaining: 457ms\n",
      "703:\tlearn: 0.2422899\ttotal: 1.08s\tremaining: 456ms\n",
      "704:\tlearn: 0.2420831\ttotal: 1.08s\tremaining: 454ms\n",
      "705:\tlearn: 0.2418675\ttotal: 1.09s\tremaining: 453ms\n",
      "706:\tlearn: 0.2417139\ttotal: 1.09s\tremaining: 451ms\n",
      "707:\tlearn: 0.2416066\ttotal: 1.09s\tremaining: 450ms\n",
      "708:\tlearn: 0.2413955\ttotal: 1.09s\tremaining: 448ms\n",
      "709:\tlearn: 0.2412798\ttotal: 1.09s\tremaining: 447ms\n",
      "710:\tlearn: 0.2409843\ttotal: 1.09s\tremaining: 445ms\n",
      "711:\tlearn: 0.2405534\ttotal: 1.1s\tremaining: 444ms\n",
      "712:\tlearn: 0.2403035\ttotal: 1.1s\tremaining: 442ms\n",
      "713:\tlearn: 0.2401702\ttotal: 1.1s\tremaining: 441ms\n",
      "714:\tlearn: 0.2399140\ttotal: 1.1s\tremaining: 439ms\n",
      "715:\tlearn: 0.2397337\ttotal: 1.1s\tremaining: 438ms\n",
      "716:\tlearn: 0.2396964\ttotal: 1.1s\tremaining: 436ms\n",
      "717:\tlearn: 0.2395390\ttotal: 1.11s\tremaining: 435ms\n",
      "718:\tlearn: 0.2392122\ttotal: 1.11s\tremaining: 433ms\n",
      "719:\tlearn: 0.2390619\ttotal: 1.11s\tremaining: 432ms\n",
      "720:\tlearn: 0.2389439\ttotal: 1.11s\tremaining: 430ms\n",
      "721:\tlearn: 0.2385429\ttotal: 1.11s\tremaining: 429ms\n",
      "722:\tlearn: 0.2383707\ttotal: 1.11s\tremaining: 427ms\n",
      "723:\tlearn: 0.2382535\ttotal: 1.12s\tremaining: 426ms\n",
      "724:\tlearn: 0.2381393\ttotal: 1.12s\tremaining: 424ms\n",
      "725:\tlearn: 0.2379856\ttotal: 1.12s\tremaining: 423ms\n",
      "726:\tlearn: 0.2377765\ttotal: 1.12s\tremaining: 421ms\n",
      "727:\tlearn: 0.2376745\ttotal: 1.12s\tremaining: 420ms\n",
      "728:\tlearn: 0.2375429\ttotal: 1.13s\tremaining: 419ms\n",
      "729:\tlearn: 0.2373491\ttotal: 1.13s\tremaining: 417ms\n",
      "730:\tlearn: 0.2370027\ttotal: 1.13s\tremaining: 416ms\n",
      "731:\tlearn: 0.2368848\ttotal: 1.13s\tremaining: 414ms\n",
      "732:\tlearn: 0.2367762\ttotal: 1.13s\tremaining: 413ms\n",
      "733:\tlearn: 0.2366998\ttotal: 1.13s\tremaining: 411ms\n",
      "734:\tlearn: 0.2364429\ttotal: 1.14s\tremaining: 410ms\n",
      "735:\tlearn: 0.2363494\ttotal: 1.14s\tremaining: 408ms\n",
      "736:\tlearn: 0.2361932\ttotal: 1.14s\tremaining: 407ms\n",
      "737:\tlearn: 0.2358759\ttotal: 1.14s\tremaining: 405ms\n",
      "738:\tlearn: 0.2356413\ttotal: 1.14s\tremaining: 404ms\n",
      "739:\tlearn: 0.2354374\ttotal: 1.15s\tremaining: 402ms\n",
      "740:\tlearn: 0.2353556\ttotal: 1.15s\tremaining: 401ms\n",
      "741:\tlearn: 0.2352407\ttotal: 1.15s\tremaining: 399ms\n",
      "742:\tlearn: 0.2350888\ttotal: 1.15s\tremaining: 398ms\n",
      "743:\tlearn: 0.2348339\ttotal: 1.15s\tremaining: 397ms\n",
      "744:\tlearn: 0.2344997\ttotal: 1.15s\tremaining: 395ms\n",
      "745:\tlearn: 0.2343514\ttotal: 1.16s\tremaining: 394ms\n",
      "746:\tlearn: 0.2341343\ttotal: 1.16s\tremaining: 392ms\n",
      "747:\tlearn: 0.2337582\ttotal: 1.16s\tremaining: 391ms\n",
      "748:\tlearn: 0.2335933\ttotal: 1.16s\tremaining: 389ms\n",
      "749:\tlearn: 0.2334627\ttotal: 1.16s\tremaining: 388ms\n",
      "750:\tlearn: 0.2332623\ttotal: 1.17s\tremaining: 386ms\n",
      "751:\tlearn: 0.2331015\ttotal: 1.17s\tremaining: 385ms\n",
      "752:\tlearn: 0.2330066\ttotal: 1.17s\tremaining: 384ms\n",
      "753:\tlearn: 0.2328590\ttotal: 1.17s\tremaining: 382ms\n",
      "754:\tlearn: 0.2327142\ttotal: 1.17s\tremaining: 381ms\n",
      "755:\tlearn: 0.2323644\ttotal: 1.18s\tremaining: 379ms\n",
      "756:\tlearn: 0.2320818\ttotal: 1.18s\tremaining: 378ms\n",
      "757:\tlearn: 0.2319190\ttotal: 1.18s\tremaining: 376ms\n",
      "758:\tlearn: 0.2315921\ttotal: 1.18s\tremaining: 374ms\n",
      "759:\tlearn: 0.2314518\ttotal: 1.18s\tremaining: 373ms\n",
      "760:\tlearn: 0.2312555\ttotal: 1.18s\tremaining: 371ms\n",
      "761:\tlearn: 0.2310545\ttotal: 1.18s\tremaining: 370ms\n",
      "762:\tlearn: 0.2309143\ttotal: 1.19s\tremaining: 368ms\n",
      "763:\tlearn: 0.2307787\ttotal: 1.19s\tremaining: 366ms\n",
      "764:\tlearn: 0.2303175\ttotal: 1.19s\tremaining: 365ms\n",
      "765:\tlearn: 0.2300101\ttotal: 1.19s\tremaining: 363ms\n",
      "766:\tlearn: 0.2298963\ttotal: 1.19s\tremaining: 362ms\n",
      "767:\tlearn: 0.2296899\ttotal: 1.19s\tremaining: 360ms\n",
      "768:\tlearn: 0.2295813\ttotal: 1.19s\tremaining: 358ms\n",
      "769:\tlearn: 0.2292246\ttotal: 1.19s\tremaining: 357ms\n",
      "770:\tlearn: 0.2290453\ttotal: 1.2s\tremaining: 355ms\n",
      "771:\tlearn: 0.2289676\ttotal: 1.2s\tremaining: 353ms\n",
      "772:\tlearn: 0.2286484\ttotal: 1.2s\tremaining: 352ms\n",
      "773:\tlearn: 0.2284585\ttotal: 1.2s\tremaining: 350ms\n",
      "774:\tlearn: 0.2282500\ttotal: 1.2s\tremaining: 348ms\n",
      "775:\tlearn: 0.2281407\ttotal: 1.2s\tremaining: 347ms\n",
      "776:\tlearn: 0.2279219\ttotal: 1.2s\tremaining: 345ms\n",
      "777:\tlearn: 0.2276128\ttotal: 1.2s\tremaining: 343ms\n",
      "778:\tlearn: 0.2274184\ttotal: 1.2s\tremaining: 342ms\n",
      "779:\tlearn: 0.2271612\ttotal: 1.21s\tremaining: 340ms\n",
      "780:\tlearn: 0.2269394\ttotal: 1.21s\tremaining: 338ms\n",
      "781:\tlearn: 0.2268496\ttotal: 1.21s\tremaining: 337ms\n",
      "782:\tlearn: 0.2267682\ttotal: 1.21s\tremaining: 335ms\n",
      "783:\tlearn: 0.2266919\ttotal: 1.21s\tremaining: 334ms\n",
      "784:\tlearn: 0.2264667\ttotal: 1.21s\tremaining: 332ms\n",
      "785:\tlearn: 0.2261897\ttotal: 1.21s\tremaining: 330ms\n",
      "786:\tlearn: 0.2261238\ttotal: 1.21s\tremaining: 329ms\n",
      "787:\tlearn: 0.2260221\ttotal: 1.22s\tremaining: 327ms\n",
      "788:\tlearn: 0.2259542\ttotal: 1.22s\tremaining: 325ms\n",
      "789:\tlearn: 0.2257492\ttotal: 1.22s\tremaining: 324ms\n",
      "790:\tlearn: 0.2255727\ttotal: 1.22s\tremaining: 322ms\n",
      "791:\tlearn: 0.2254361\ttotal: 1.22s\tremaining: 320ms\n",
      "792:\tlearn: 0.2251975\ttotal: 1.22s\tremaining: 319ms\n",
      "793:\tlearn: 0.2251099\ttotal: 1.22s\tremaining: 317ms\n",
      "794:\tlearn: 0.2250267\ttotal: 1.22s\tremaining: 316ms\n",
      "795:\tlearn: 0.2249045\ttotal: 1.23s\tremaining: 314ms\n",
      "796:\tlearn: 0.2246708\ttotal: 1.23s\tremaining: 312ms\n",
      "797:\tlearn: 0.2244320\ttotal: 1.23s\tremaining: 311ms\n",
      "798:\tlearn: 0.2242313\ttotal: 1.23s\tremaining: 309ms\n",
      "799:\tlearn: 0.2238984\ttotal: 1.23s\tremaining: 308ms\n",
      "800:\tlearn: 0.2234516\ttotal: 1.23s\tremaining: 306ms\n",
      "801:\tlearn: 0.2233933\ttotal: 1.23s\tremaining: 304ms\n",
      "802:\tlearn: 0.2232868\ttotal: 1.23s\tremaining: 303ms\n",
      "803:\tlearn: 0.2230518\ttotal: 1.23s\tremaining: 301ms\n",
      "804:\tlearn: 0.2228824\ttotal: 1.24s\tremaining: 299ms\n",
      "805:\tlearn: 0.2226697\ttotal: 1.24s\tremaining: 298ms\n",
      "806:\tlearn: 0.2225086\ttotal: 1.24s\tremaining: 296ms\n",
      "807:\tlearn: 0.2223386\ttotal: 1.24s\tremaining: 295ms\n",
      "808:\tlearn: 0.2221959\ttotal: 1.24s\tremaining: 293ms\n",
      "809:\tlearn: 0.2219787\ttotal: 1.24s\tremaining: 291ms\n",
      "810:\tlearn: 0.2216724\ttotal: 1.24s\tremaining: 290ms\n",
      "811:\tlearn: 0.2214549\ttotal: 1.24s\tremaining: 288ms\n",
      "812:\tlearn: 0.2211909\ttotal: 1.25s\tremaining: 287ms\n",
      "813:\tlearn: 0.2208207\ttotal: 1.25s\tremaining: 285ms\n",
      "814:\tlearn: 0.2206241\ttotal: 1.25s\tremaining: 284ms\n",
      "815:\tlearn: 0.2204944\ttotal: 1.25s\tremaining: 282ms\n",
      "816:\tlearn: 0.2203338\ttotal: 1.25s\tremaining: 280ms\n",
      "817:\tlearn: 0.2202234\ttotal: 1.25s\tremaining: 279ms\n",
      "818:\tlearn: 0.2199347\ttotal: 1.25s\tremaining: 277ms\n",
      "819:\tlearn: 0.2197637\ttotal: 1.25s\tremaining: 276ms\n",
      "820:\tlearn: 0.2196321\ttotal: 1.26s\tremaining: 274ms\n",
      "821:\tlearn: 0.2195166\ttotal: 1.26s\tremaining: 272ms\n",
      "822:\tlearn: 0.2193558\ttotal: 1.26s\tremaining: 271ms\n",
      "823:\tlearn: 0.2192363\ttotal: 1.26s\tremaining: 269ms\n",
      "824:\tlearn: 0.2190681\ttotal: 1.26s\tremaining: 268ms\n",
      "825:\tlearn: 0.2188877\ttotal: 1.26s\tremaining: 266ms\n",
      "826:\tlearn: 0.2188229\ttotal: 1.26s\tremaining: 264ms\n",
      "827:\tlearn: 0.2187377\ttotal: 1.26s\tremaining: 263ms\n",
      "828:\tlearn: 0.2185021\ttotal: 1.27s\tremaining: 261ms\n",
      "829:\tlearn: 0.2184467\ttotal: 1.27s\tremaining: 260ms\n",
      "830:\tlearn: 0.2182458\ttotal: 1.27s\tremaining: 258ms\n",
      "831:\tlearn: 0.2179170\ttotal: 1.27s\tremaining: 256ms\n",
      "832:\tlearn: 0.2177744\ttotal: 1.27s\tremaining: 255ms\n",
      "833:\tlearn: 0.2176498\ttotal: 1.27s\tremaining: 253ms\n",
      "834:\tlearn: 0.2174674\ttotal: 1.27s\tremaining: 252ms\n",
      "835:\tlearn: 0.2171573\ttotal: 1.27s\tremaining: 250ms\n",
      "836:\tlearn: 0.2170428\ttotal: 1.27s\tremaining: 248ms\n",
      "837:\tlearn: 0.2168558\ttotal: 1.28s\tremaining: 247ms\n",
      "838:\tlearn: 0.2167658\ttotal: 1.28s\tremaining: 245ms\n",
      "839:\tlearn: 0.2165640\ttotal: 1.28s\tremaining: 244ms\n",
      "840:\tlearn: 0.2164665\ttotal: 1.28s\tremaining: 242ms\n",
      "841:\tlearn: 0.2163036\ttotal: 1.28s\tremaining: 241ms\n",
      "842:\tlearn: 0.2161783\ttotal: 1.28s\tremaining: 239ms\n",
      "843:\tlearn: 0.2160460\ttotal: 1.28s\tremaining: 237ms\n",
      "844:\tlearn: 0.2159027\ttotal: 1.28s\tremaining: 236ms\n",
      "845:\tlearn: 0.2157109\ttotal: 1.29s\tremaining: 234ms\n",
      "846:\tlearn: 0.2156211\ttotal: 1.29s\tremaining: 233ms\n",
      "847:\tlearn: 0.2155515\ttotal: 1.29s\tremaining: 231ms\n",
      "848:\tlearn: 0.2154780\ttotal: 1.29s\tremaining: 230ms\n",
      "849:\tlearn: 0.2152790\ttotal: 1.29s\tremaining: 228ms\n",
      "850:\tlearn: 0.2151652\ttotal: 1.29s\tremaining: 226ms\n",
      "851:\tlearn: 0.2151018\ttotal: 1.29s\tremaining: 225ms\n",
      "852:\tlearn: 0.2149208\ttotal: 1.29s\tremaining: 223ms\n",
      "853:\tlearn: 0.2147438\ttotal: 1.3s\tremaining: 222ms\n",
      "854:\tlearn: 0.2145937\ttotal: 1.3s\tremaining: 220ms\n",
      "855:\tlearn: 0.2145381\ttotal: 1.3s\tremaining: 219ms\n",
      "856:\tlearn: 0.2144657\ttotal: 1.3s\tremaining: 217ms\n",
      "857:\tlearn: 0.2141945\ttotal: 1.3s\tremaining: 215ms\n",
      "858:\tlearn: 0.2141378\ttotal: 1.3s\tremaining: 214ms\n",
      "859:\tlearn: 0.2140764\ttotal: 1.3s\tremaining: 212ms\n",
      "860:\tlearn: 0.2139788\ttotal: 1.3s\tremaining: 211ms\n",
      "861:\tlearn: 0.2138364\ttotal: 1.31s\tremaining: 209ms\n",
      "862:\tlearn: 0.2136299\ttotal: 1.31s\tremaining: 208ms\n",
      "863:\tlearn: 0.2134113\ttotal: 1.31s\tremaining: 206ms\n",
      "864:\tlearn: 0.2132956\ttotal: 1.31s\tremaining: 205ms\n",
      "865:\tlearn: 0.2130691\ttotal: 1.31s\tremaining: 203ms\n",
      "866:\tlearn: 0.2128784\ttotal: 1.31s\tremaining: 201ms\n",
      "867:\tlearn: 0.2126727\ttotal: 1.31s\tremaining: 200ms\n",
      "868:\tlearn: 0.2125340\ttotal: 1.32s\tremaining: 198ms\n",
      "869:\tlearn: 0.2122840\ttotal: 1.32s\tremaining: 197ms\n",
      "870:\tlearn: 0.2120469\ttotal: 1.32s\tremaining: 195ms\n",
      "871:\tlearn: 0.2118639\ttotal: 1.32s\tremaining: 194ms\n",
      "872:\tlearn: 0.2117496\ttotal: 1.32s\tremaining: 192ms\n",
      "873:\tlearn: 0.2114516\ttotal: 1.32s\tremaining: 191ms\n",
      "874:\tlearn: 0.2111775\ttotal: 1.32s\tremaining: 189ms\n",
      "875:\tlearn: 0.2110101\ttotal: 1.32s\tremaining: 187ms\n",
      "876:\tlearn: 0.2107460\ttotal: 1.32s\tremaining: 186ms\n",
      "877:\tlearn: 0.2106560\ttotal: 1.33s\tremaining: 184ms\n",
      "878:\tlearn: 0.2104605\ttotal: 1.33s\tremaining: 183ms\n",
      "879:\tlearn: 0.2103590\ttotal: 1.33s\tremaining: 181ms\n",
      "880:\tlearn: 0.2103160\ttotal: 1.33s\tremaining: 180ms\n",
      "881:\tlearn: 0.2102141\ttotal: 1.33s\tremaining: 178ms\n",
      "882:\tlearn: 0.2098803\ttotal: 1.33s\tremaining: 177ms\n",
      "883:\tlearn: 0.2097233\ttotal: 1.33s\tremaining: 175ms\n",
      "884:\tlearn: 0.2095986\ttotal: 1.33s\tremaining: 174ms\n",
      "885:\tlearn: 0.2094989\ttotal: 1.34s\tremaining: 172ms\n",
      "886:\tlearn: 0.2092139\ttotal: 1.34s\tremaining: 170ms\n",
      "887:\tlearn: 0.2090122\ttotal: 1.34s\tremaining: 169ms\n",
      "888:\tlearn: 0.2088416\ttotal: 1.34s\tremaining: 167ms\n",
      "889:\tlearn: 0.2087120\ttotal: 1.34s\tremaining: 166ms\n",
      "890:\tlearn: 0.2085946\ttotal: 1.34s\tremaining: 164ms\n",
      "891:\tlearn: 0.2084567\ttotal: 1.34s\tremaining: 163ms\n",
      "892:\tlearn: 0.2083637\ttotal: 1.34s\tremaining: 161ms\n",
      "893:\tlearn: 0.2082819\ttotal: 1.35s\tremaining: 160ms\n",
      "894:\tlearn: 0.2081431\ttotal: 1.35s\tremaining: 158ms\n",
      "895:\tlearn: 0.2079990\ttotal: 1.35s\tremaining: 157ms\n",
      "896:\tlearn: 0.2078031\ttotal: 1.35s\tremaining: 155ms\n",
      "897:\tlearn: 0.2076147\ttotal: 1.35s\tremaining: 153ms\n",
      "898:\tlearn: 0.2074966\ttotal: 1.35s\tremaining: 152ms\n",
      "899:\tlearn: 0.2074233\ttotal: 1.35s\tremaining: 150ms\n",
      "900:\tlearn: 0.2073176\ttotal: 1.35s\tremaining: 149ms\n",
      "901:\tlearn: 0.2071963\ttotal: 1.35s\tremaining: 147ms\n",
      "902:\tlearn: 0.2070281\ttotal: 1.36s\tremaining: 146ms\n",
      "903:\tlearn: 0.2068952\ttotal: 1.36s\tremaining: 144ms\n",
      "904:\tlearn: 0.2067909\ttotal: 1.36s\tremaining: 143ms\n",
      "905:\tlearn: 0.2065923\ttotal: 1.36s\tremaining: 141ms\n",
      "906:\tlearn: 0.2064879\ttotal: 1.36s\tremaining: 140ms\n",
      "907:\tlearn: 0.2062348\ttotal: 1.36s\tremaining: 138ms\n",
      "908:\tlearn: 0.2061212\ttotal: 1.36s\tremaining: 137ms\n",
      "909:\tlearn: 0.2059688\ttotal: 1.36s\tremaining: 135ms\n",
      "910:\tlearn: 0.2057464\ttotal: 1.37s\tremaining: 133ms\n",
      "911:\tlearn: 0.2056163\ttotal: 1.37s\tremaining: 132ms\n",
      "912:\tlearn: 0.2055138\ttotal: 1.37s\tremaining: 130ms\n",
      "913:\tlearn: 0.2054613\ttotal: 1.37s\tremaining: 129ms\n",
      "914:\tlearn: 0.2053515\ttotal: 1.37s\tremaining: 127ms\n",
      "915:\tlearn: 0.2052184\ttotal: 1.37s\tremaining: 126ms\n",
      "916:\tlearn: 0.2050330\ttotal: 1.37s\tremaining: 124ms\n",
      "917:\tlearn: 0.2049049\ttotal: 1.37s\tremaining: 123ms\n",
      "918:\tlearn: 0.2046657\ttotal: 1.38s\tremaining: 121ms\n",
      "919:\tlearn: 0.2043994\ttotal: 1.38s\tremaining: 120ms\n",
      "920:\tlearn: 0.2043421\ttotal: 1.38s\tremaining: 118ms\n",
      "921:\tlearn: 0.2040999\ttotal: 1.38s\tremaining: 117ms\n",
      "922:\tlearn: 0.2039345\ttotal: 1.38s\tremaining: 115ms\n",
      "923:\tlearn: 0.2037581\ttotal: 1.38s\tremaining: 114ms\n",
      "924:\tlearn: 0.2036368\ttotal: 1.38s\tremaining: 112ms\n",
      "925:\tlearn: 0.2035197\ttotal: 1.38s\tremaining: 111ms\n",
      "926:\tlearn: 0.2033980\ttotal: 1.38s\tremaining: 109ms\n",
      "927:\tlearn: 0.2032414\ttotal: 1.39s\tremaining: 107ms\n",
      "928:\tlearn: 0.2030566\ttotal: 1.39s\tremaining: 106ms\n",
      "929:\tlearn: 0.2027728\ttotal: 1.39s\tremaining: 104ms\n",
      "930:\tlearn: 0.2025859\ttotal: 1.39s\tremaining: 103ms\n",
      "931:\tlearn: 0.2025003\ttotal: 1.39s\tremaining: 101ms\n",
      "932:\tlearn: 0.2023148\ttotal: 1.39s\tremaining: 99.9ms\n",
      "933:\tlearn: 0.2022241\ttotal: 1.39s\tremaining: 98.4ms\n",
      "934:\tlearn: 0.2021301\ttotal: 1.39s\tremaining: 96.9ms\n",
      "935:\tlearn: 0.2020509\ttotal: 1.39s\tremaining: 95.3ms\n",
      "936:\tlearn: 0.2019055\ttotal: 1.4s\tremaining: 93.8ms\n",
      "937:\tlearn: 0.2018676\ttotal: 1.4s\tremaining: 92.3ms\n",
      "938:\tlearn: 0.2016924\ttotal: 1.4s\tremaining: 90.8ms\n",
      "939:\tlearn: 0.2016378\ttotal: 1.4s\tremaining: 89.3ms\n",
      "940:\tlearn: 0.2014014\ttotal: 1.4s\tremaining: 87.8ms\n",
      "941:\tlearn: 0.2012791\ttotal: 1.4s\tremaining: 86.3ms\n",
      "942:\tlearn: 0.2012014\ttotal: 1.4s\tremaining: 84.8ms\n",
      "943:\tlearn: 0.2010983\ttotal: 1.4s\tremaining: 83.3ms\n",
      "944:\tlearn: 0.2009464\ttotal: 1.41s\tremaining: 81.8ms\n",
      "945:\tlearn: 0.2008588\ttotal: 1.41s\tremaining: 80.3ms\n",
      "946:\tlearn: 0.2007579\ttotal: 1.41s\tremaining: 78.8ms\n",
      "947:\tlearn: 0.2006770\ttotal: 1.41s\tremaining: 77.3ms\n",
      "948:\tlearn: 0.2005245\ttotal: 1.41s\tremaining: 75.8ms\n",
      "949:\tlearn: 0.2004856\ttotal: 1.41s\tremaining: 74.3ms\n",
      "950:\tlearn: 0.2004359\ttotal: 1.41s\tremaining: 72.8ms\n",
      "951:\tlearn: 0.2001823\ttotal: 1.41s\tremaining: 71.3ms\n",
      "952:\tlearn: 0.1999742\ttotal: 1.42s\tremaining: 69.8ms\n",
      "953:\tlearn: 0.1998538\ttotal: 1.42s\tremaining: 68.3ms\n",
      "954:\tlearn: 0.1997505\ttotal: 1.42s\tremaining: 66.8ms\n",
      "955:\tlearn: 0.1996788\ttotal: 1.42s\tremaining: 65.3ms\n",
      "956:\tlearn: 0.1994983\ttotal: 1.42s\tremaining: 63.8ms\n",
      "957:\tlearn: 0.1993423\ttotal: 1.42s\tremaining: 62.3ms\n",
      "958:\tlearn: 0.1992059\ttotal: 1.42s\tremaining: 60.8ms\n",
      "959:\tlearn: 0.1989424\ttotal: 1.42s\tremaining: 59.4ms\n",
      "960:\tlearn: 0.1987826\ttotal: 1.43s\tremaining: 57.9ms\n",
      "961:\tlearn: 0.1986675\ttotal: 1.43s\tremaining: 56.4ms\n",
      "962:\tlearn: 0.1986389\ttotal: 1.43s\tremaining: 54.9ms\n",
      "963:\tlearn: 0.1985507\ttotal: 1.43s\tremaining: 53.4ms\n",
      "964:\tlearn: 0.1984114\ttotal: 1.43s\tremaining: 51.9ms\n",
      "965:\tlearn: 0.1983626\ttotal: 1.43s\tremaining: 50.4ms\n",
      "966:\tlearn: 0.1981922\ttotal: 1.43s\tremaining: 48.9ms\n",
      "967:\tlearn: 0.1979989\ttotal: 1.43s\tremaining: 47.4ms\n",
      "968:\tlearn: 0.1979202\ttotal: 1.44s\tremaining: 45.9ms\n",
      "969:\tlearn: 0.1977933\ttotal: 1.44s\tremaining: 44.5ms\n",
      "970:\tlearn: 0.1976935\ttotal: 1.44s\tremaining: 43ms\n",
      "971:\tlearn: 0.1975237\ttotal: 1.44s\tremaining: 41.5ms\n",
      "972:\tlearn: 0.1974117\ttotal: 1.44s\tremaining: 40ms\n",
      "973:\tlearn: 0.1972646\ttotal: 1.44s\tremaining: 38.5ms\n",
      "974:\tlearn: 0.1971243\ttotal: 1.44s\tremaining: 37ms\n",
      "975:\tlearn: 0.1969940\ttotal: 1.44s\tremaining: 35.5ms\n",
      "976:\tlearn: 0.1969432\ttotal: 1.45s\tremaining: 34ms\n",
      "977:\tlearn: 0.1967682\ttotal: 1.45s\tremaining: 32.6ms\n",
      "978:\tlearn: 0.1966439\ttotal: 1.45s\tremaining: 31.1ms\n",
      "979:\tlearn: 0.1965434\ttotal: 1.45s\tremaining: 29.6ms\n",
      "980:\tlearn: 0.1964754\ttotal: 1.45s\tremaining: 28.1ms\n",
      "981:\tlearn: 0.1963268\ttotal: 1.45s\tremaining: 26.6ms\n",
      "982:\tlearn: 0.1961554\ttotal: 1.45s\tremaining: 25.1ms\n",
      "983:\tlearn: 0.1958981\ttotal: 1.45s\tremaining: 23.7ms\n",
      "984:\tlearn: 0.1958360\ttotal: 1.46s\tremaining: 22.2ms\n",
      "985:\tlearn: 0.1955453\ttotal: 1.46s\tremaining: 20.7ms\n",
      "986:\tlearn: 0.1954170\ttotal: 1.46s\tremaining: 19.2ms\n",
      "987:\tlearn: 0.1952517\ttotal: 1.46s\tremaining: 17.7ms\n",
      "988:\tlearn: 0.1950590\ttotal: 1.46s\tremaining: 16.2ms\n",
      "989:\tlearn: 0.1948965\ttotal: 1.46s\tremaining: 14.8ms\n",
      "990:\tlearn: 0.1947814\ttotal: 1.46s\tremaining: 13.3ms\n",
      "991:\tlearn: 0.1945362\ttotal: 1.46s\tremaining: 11.8ms\n",
      "992:\tlearn: 0.1944756\ttotal: 1.47s\tremaining: 10.3ms\n",
      "993:\tlearn: 0.1943506\ttotal: 1.47s\tremaining: 8.85ms\n",
      "994:\tlearn: 0.1942585\ttotal: 1.47s\tremaining: 7.38ms\n",
      "995:\tlearn: 0.1941885\ttotal: 1.47s\tremaining: 5.9ms\n",
      "996:\tlearn: 0.1939930\ttotal: 1.47s\tremaining: 4.42ms\n",
      "997:\tlearn: 0.1938128\ttotal: 1.47s\tremaining: 2.95ms\n",
      "998:\tlearn: 0.1936294\ttotal: 1.47s\tremaining: 1.47ms\n",
      "999:\tlearn: 0.1935149\ttotal: 1.47s\tremaining: 0us\n"
     ]
    }
   ],
   "source": [
    "cat_model = CatBoostClassifier().fit(X_train, y_train)"
   ]
  },
  {
   "cell_type": "code",
   "execution_count": 285,
   "metadata": {},
   "outputs": [
    {
     "data": {
      "text/plain": [
       "0.7402597402597403"
      ]
     },
     "execution_count": 285,
     "metadata": {},
     "output_type": "execute_result"
    }
   ],
   "source": [
    "y_pred = cat_model.predict(X_test)\n",
    "accuracy_score(y_test, y_pred)"
   ]
  },
  {
   "cell_type": "markdown",
   "metadata": {},
   "source": [
    "## Model Tuning"
   ]
  },
  {
   "cell_type": "code",
   "execution_count": 286,
   "metadata": {},
   "outputs": [],
   "source": [
    "catb_params = {\n",
    "    'iterations': [200,500],\n",
    "    'learning_rate': [0.01,0.05, 0.1],\n",
    "    'depth': [3,5,8] }"
   ]
  },
  {
   "cell_type": "code",
   "execution_count": 289,
   "metadata": {
    "collapsed": true,
    "jupyter": {
     "outputs_hidden": true
    }
   },
   "outputs": [
    {
     "name": "stdout",
     "output_type": "stream",
     "text": [
      "Fitting 5 folds for each of 18 candidates, totalling 90 fits\n",
      "0:\tlearn: 0.6863412\ttotal: 14.8ms\tremaining: 2.95s\n",
      "1:\tlearn: 0.6811322\ttotal: 19.6ms\tremaining: 1.94s\n",
      "2:\tlearn: 0.6753199\ttotal: 24ms\tremaining: 1.57s\n",
      "3:\tlearn: 0.6697717\ttotal: 28.3ms\tremaining: 1.39s\n",
      "4:\tlearn: 0.6642090\ttotal: 32.7ms\tremaining: 1.27s\n",
      "5:\tlearn: 0.6577038\ttotal: 37.2ms\tremaining: 1.2s\n",
      "6:\tlearn: 0.6522290\ttotal: 41.7ms\tremaining: 1.15s\n",
      "7:\tlearn: 0.6466015\ttotal: 46.1ms\tremaining: 1.11s\n",
      "8:\tlearn: 0.6408068\ttotal: 50.6ms\tremaining: 1.07s\n",
      "9:\tlearn: 0.6358218\ttotal: 54.9ms\tremaining: 1.04s\n",
      "10:\tlearn: 0.6300444\ttotal: 59.2ms\tremaining: 1.02s\n",
      "11:\tlearn: 0.6240992\ttotal: 63.6ms\tremaining: 996ms\n",
      "12:\tlearn: 0.6196618\ttotal: 67.9ms\tremaining: 977ms\n",
      "13:\tlearn: 0.6149237\ttotal: 72.2ms\tremaining: 959ms\n",
      "14:\tlearn: 0.6093146\ttotal: 76.4ms\tremaining: 942ms\n",
      "15:\tlearn: 0.6047282\ttotal: 80.8ms\tremaining: 929ms\n",
      "16:\tlearn: 0.6013242\ttotal: 85.1ms\tremaining: 917ms\n",
      "17:\tlearn: 0.5958624\ttotal: 89.6ms\tremaining: 906ms\n",
      "18:\tlearn: 0.5903733\ttotal: 94ms\tremaining: 896ms\n",
      "19:\tlearn: 0.5866505\ttotal: 98ms\tremaining: 882ms\n",
      "20:\tlearn: 0.5831865\ttotal: 102ms\tremaining: 871ms\n",
      "21:\tlearn: 0.5787839\ttotal: 106ms\tremaining: 860ms\n",
      "22:\tlearn: 0.5749453\ttotal: 110ms\tremaining: 850ms\n",
      "23:\tlearn: 0.5703621\ttotal: 115ms\tremaining: 840ms\n",
      "24:\tlearn: 0.5662773\ttotal: 119ms\tremaining: 830ms\n",
      "25:\tlearn: 0.5629069\ttotal: 122ms\tremaining: 819ms\n",
      "26:\tlearn: 0.5589454\ttotal: 126ms\tremaining: 810ms\n",
      "27:\tlearn: 0.5544253\ttotal: 130ms\tremaining: 801ms\n",
      "28:\tlearn: 0.5504193\ttotal: 134ms\tremaining: 792ms\n",
      "29:\tlearn: 0.5470888\ttotal: 138ms\tremaining: 783ms\n",
      "30:\tlearn: 0.5441572\ttotal: 142ms\tremaining: 776ms\n",
      "31:\tlearn: 0.5396568\ttotal: 146ms\tremaining: 768ms\n",
      "32:\tlearn: 0.5356520\ttotal: 150ms\tremaining: 760ms\n",
      "33:\tlearn: 0.5315662\ttotal: 154ms\tremaining: 752ms\n",
      "34:\tlearn: 0.5280107\ttotal: 158ms\tremaining: 744ms\n",
      "35:\tlearn: 0.5248634\ttotal: 162ms\tremaining: 736ms\n",
      "36:\tlearn: 0.5224134\ttotal: 166ms\tremaining: 732ms\n",
      "37:\tlearn: 0.5198514\ttotal: 170ms\tremaining: 726ms\n",
      "38:\tlearn: 0.5167668\ttotal: 174ms\tremaining: 718ms\n",
      "39:\tlearn: 0.5139063\ttotal: 178ms\tremaining: 711ms\n",
      "40:\tlearn: 0.5101721\ttotal: 182ms\tremaining: 705ms\n",
      "41:\tlearn: 0.5066326\ttotal: 186ms\tremaining: 699ms\n",
      "42:\tlearn: 0.5033936\ttotal: 190ms\tremaining: 692ms\n",
      "43:\tlearn: 0.5006117\ttotal: 194ms\tremaining: 687ms\n",
      "44:\tlearn: 0.4980917\ttotal: 198ms\tremaining: 683ms\n",
      "45:\tlearn: 0.4959463\ttotal: 203ms\tremaining: 678ms\n",
      "46:\tlearn: 0.4934198\ttotal: 207ms\tremaining: 674ms\n",
      "47:\tlearn: 0.4906410\ttotal: 212ms\tremaining: 670ms\n",
      "48:\tlearn: 0.4878576\ttotal: 216ms\tremaining: 665ms\n",
      "49:\tlearn: 0.4850977\ttotal: 220ms\tremaining: 660ms\n",
      "50:\tlearn: 0.4826157\ttotal: 224ms\tremaining: 655ms\n",
      "51:\tlearn: 0.4798530\ttotal: 228ms\tremaining: 650ms\n",
      "52:\tlearn: 0.4776349\ttotal: 233ms\tremaining: 645ms\n",
      "53:\tlearn: 0.4754652\ttotal: 237ms\tremaining: 640ms\n",
      "54:\tlearn: 0.4733755\ttotal: 241ms\tremaining: 635ms\n",
      "55:\tlearn: 0.4706337\ttotal: 245ms\tremaining: 631ms\n",
      "56:\tlearn: 0.4677619\ttotal: 249ms\tremaining: 625ms\n",
      "57:\tlearn: 0.4657008\ttotal: 254ms\tremaining: 622ms\n",
      "58:\tlearn: 0.4637682\ttotal: 258ms\tremaining: 617ms\n",
      "59:\tlearn: 0.4615518\ttotal: 262ms\tremaining: 612ms\n",
      "60:\tlearn: 0.4600032\ttotal: 266ms\tremaining: 607ms\n",
      "61:\tlearn: 0.4584260\ttotal: 268ms\tremaining: 596ms\n",
      "62:\tlearn: 0.4567343\ttotal: 272ms\tremaining: 592ms\n",
      "63:\tlearn: 0.4541223\ttotal: 277ms\tremaining: 589ms\n",
      "64:\tlearn: 0.4530108\ttotal: 279ms\tremaining: 579ms\n",
      "65:\tlearn: 0.4512377\ttotal: 284ms\tremaining: 576ms\n",
      "66:\tlearn: 0.4487025\ttotal: 288ms\tremaining: 571ms\n",
      "67:\tlearn: 0.4468152\ttotal: 293ms\tremaining: 569ms\n",
      "68:\tlearn: 0.4449902\ttotal: 297ms\tremaining: 564ms\n",
      "69:\tlearn: 0.4426412\ttotal: 301ms\tremaining: 560ms\n",
      "70:\tlearn: 0.4401906\ttotal: 305ms\tremaining: 555ms\n",
      "71:\tlearn: 0.4380992\ttotal: 309ms\tremaining: 550ms\n",
      "72:\tlearn: 0.4367450\ttotal: 313ms\tremaining: 545ms\n",
      "73:\tlearn: 0.4353520\ttotal: 317ms\tremaining: 540ms\n",
      "74:\tlearn: 0.4340243\ttotal: 322ms\tremaining: 536ms\n",
      "75:\tlearn: 0.4315947\ttotal: 326ms\tremaining: 533ms\n",
      "76:\tlearn: 0.4298990\ttotal: 331ms\tremaining: 528ms\n",
      "77:\tlearn: 0.4285587\ttotal: 335ms\tremaining: 524ms\n",
      "78:\tlearn: 0.4266109\ttotal: 340ms\tremaining: 521ms\n",
      "79:\tlearn: 0.4244339\ttotal: 345ms\tremaining: 517ms\n",
      "80:\tlearn: 0.4228679\ttotal: 350ms\tremaining: 514ms\n",
      "81:\tlearn: 0.4214531\ttotal: 355ms\tremaining: 510ms\n",
      "82:\tlearn: 0.4200925\ttotal: 359ms\tremaining: 507ms\n",
      "83:\tlearn: 0.4184640\ttotal: 365ms\tremaining: 504ms\n",
      "84:\tlearn: 0.4168303\ttotal: 369ms\tremaining: 500ms\n",
      "85:\tlearn: 0.4156724\ttotal: 374ms\tremaining: 496ms\n",
      "86:\tlearn: 0.4140974\ttotal: 380ms\tremaining: 493ms\n",
      "87:\tlearn: 0.4124542\ttotal: 385ms\tremaining: 490ms\n",
      "88:\tlearn: 0.4107650\ttotal: 390ms\tremaining: 486ms\n",
      "89:\tlearn: 0.4091247\ttotal: 395ms\tremaining: 483ms\n",
      "90:\tlearn: 0.4075743\ttotal: 400ms\tremaining: 479ms\n",
      "91:\tlearn: 0.4062728\ttotal: 406ms\tremaining: 476ms\n",
      "92:\tlearn: 0.4044987\ttotal: 411ms\tremaining: 473ms\n",
      "93:\tlearn: 0.4030509\ttotal: 415ms\tremaining: 468ms\n",
      "94:\tlearn: 0.4012366\ttotal: 422ms\tremaining: 466ms\n",
      "95:\tlearn: 0.3995010\ttotal: 427ms\tremaining: 462ms\n",
      "96:\tlearn: 0.3983567\ttotal: 431ms\tremaining: 458ms\n",
      "97:\tlearn: 0.3970163\ttotal: 436ms\tremaining: 454ms\n",
      "98:\tlearn: 0.3955954\ttotal: 441ms\tremaining: 450ms\n",
      "99:\tlearn: 0.3946458\ttotal: 445ms\tremaining: 445ms\n",
      "100:\tlearn: 0.3932682\ttotal: 450ms\tremaining: 441ms\n",
      "101:\tlearn: 0.3921086\ttotal: 455ms\tremaining: 437ms\n",
      "102:\tlearn: 0.3912041\ttotal: 460ms\tremaining: 433ms\n",
      "103:\tlearn: 0.3896085\ttotal: 465ms\tremaining: 429ms\n",
      "104:\tlearn: 0.3881310\ttotal: 470ms\tremaining: 425ms\n",
      "105:\tlearn: 0.3867841\ttotal: 475ms\tremaining: 421ms\n",
      "106:\tlearn: 0.3855611\ttotal: 481ms\tremaining: 418ms\n",
      "107:\tlearn: 0.3841345\ttotal: 487ms\tremaining: 415ms\n",
      "108:\tlearn: 0.3829608\ttotal: 493ms\tremaining: 411ms\n",
      "109:\tlearn: 0.3819127\ttotal: 497ms\tremaining: 407ms\n",
      "110:\tlearn: 0.3810000\ttotal: 502ms\tremaining: 402ms\n",
      "111:\tlearn: 0.3790356\ttotal: 506ms\tremaining: 398ms\n",
      "112:\tlearn: 0.3774673\ttotal: 510ms\tremaining: 393ms\n",
      "113:\tlearn: 0.3762712\ttotal: 515ms\tremaining: 388ms\n",
      "114:\tlearn: 0.3750760\ttotal: 519ms\tremaining: 383ms\n",
      "115:\tlearn: 0.3735547\ttotal: 523ms\tremaining: 379ms\n",
      "116:\tlearn: 0.3728015\ttotal: 528ms\tremaining: 374ms\n",
      "117:\tlearn: 0.3714192\ttotal: 532ms\tremaining: 370ms\n",
      "118:\tlearn: 0.3705935\ttotal: 536ms\tremaining: 365ms\n",
      "119:\tlearn: 0.3694736\ttotal: 540ms\tremaining: 360ms\n",
      "120:\tlearn: 0.3687791\ttotal: 544ms\tremaining: 355ms\n",
      "121:\tlearn: 0.3679782\ttotal: 548ms\tremaining: 350ms\n",
      "122:\tlearn: 0.3666547\ttotal: 552ms\tremaining: 346ms\n",
      "123:\tlearn: 0.3655144\ttotal: 557ms\tremaining: 341ms\n",
      "124:\tlearn: 0.3643546\ttotal: 562ms\tremaining: 337ms\n",
      "125:\tlearn: 0.3636557\ttotal: 566ms\tremaining: 332ms\n",
      "126:\tlearn: 0.3625550\ttotal: 570ms\tremaining: 328ms\n",
      "127:\tlearn: 0.3610147\ttotal: 574ms\tremaining: 323ms\n",
      "128:\tlearn: 0.3596348\ttotal: 578ms\tremaining: 318ms\n",
      "129:\tlearn: 0.3584074\ttotal: 582ms\tremaining: 314ms\n",
      "130:\tlearn: 0.3569602\ttotal: 586ms\tremaining: 309ms\n",
      "131:\tlearn: 0.3558913\ttotal: 590ms\tremaining: 304ms\n",
      "132:\tlearn: 0.3548689\ttotal: 594ms\tremaining: 299ms\n",
      "133:\tlearn: 0.3533837\ttotal: 598ms\tremaining: 295ms\n",
      "134:\tlearn: 0.3524619\ttotal: 602ms\tremaining: 290ms\n",
      "135:\tlearn: 0.3518338\ttotal: 606ms\tremaining: 285ms\n",
      "136:\tlearn: 0.3505366\ttotal: 610ms\tremaining: 281ms\n",
      "137:\tlearn: 0.3497723\ttotal: 614ms\tremaining: 276ms\n",
      "138:\tlearn: 0.3489030\ttotal: 619ms\tremaining: 272ms\n",
      "139:\tlearn: 0.3482652\ttotal: 623ms\tremaining: 267ms\n",
      "140:\tlearn: 0.3471165\ttotal: 627ms\tremaining: 262ms\n",
      "141:\tlearn: 0.3458630\ttotal: 631ms\tremaining: 258ms\n",
      "142:\tlearn: 0.3445867\ttotal: 635ms\tremaining: 253ms\n",
      "143:\tlearn: 0.3436773\ttotal: 639ms\tremaining: 249ms\n",
      "144:\tlearn: 0.3426979\ttotal: 643ms\tremaining: 244ms\n",
      "145:\tlearn: 0.3417627\ttotal: 648ms\tremaining: 240ms\n",
      "146:\tlearn: 0.3407937\ttotal: 651ms\tremaining: 235ms\n",
      "147:\tlearn: 0.3398191\ttotal: 655ms\tremaining: 230ms\n",
      "148:\tlearn: 0.3390524\ttotal: 659ms\tremaining: 226ms\n",
      "149:\tlearn: 0.3381671\ttotal: 663ms\tremaining: 221ms\n",
      "150:\tlearn: 0.3375138\ttotal: 667ms\tremaining: 216ms\n",
      "151:\tlearn: 0.3365898\ttotal: 671ms\tremaining: 212ms\n",
      "152:\tlearn: 0.3358887\ttotal: 675ms\tremaining: 207ms\n",
      "153:\tlearn: 0.3346492\ttotal: 678ms\tremaining: 203ms\n",
      "154:\tlearn: 0.3336018\ttotal: 682ms\tremaining: 198ms\n",
      "155:\tlearn: 0.3330832\ttotal: 686ms\tremaining: 194ms\n",
      "156:\tlearn: 0.3324238\ttotal: 690ms\tremaining: 189ms\n",
      "157:\tlearn: 0.3312569\ttotal: 693ms\tremaining: 184ms\n",
      "158:\tlearn: 0.3299834\ttotal: 697ms\tremaining: 180ms\n",
      "159:\tlearn: 0.3286908\ttotal: 701ms\tremaining: 175ms\n",
      "160:\tlearn: 0.3276277\ttotal: 705ms\tremaining: 171ms\n",
      "161:\tlearn: 0.3267134\ttotal: 708ms\tremaining: 166ms\n",
      "162:\tlearn: 0.3259380\ttotal: 712ms\tremaining: 162ms\n",
      "163:\tlearn: 0.3249529\ttotal: 715ms\tremaining: 157ms\n",
      "164:\tlearn: 0.3241876\ttotal: 719ms\tremaining: 152ms\n",
      "165:\tlearn: 0.3237797\ttotal: 722ms\tremaining: 148ms\n",
      "166:\tlearn: 0.3228611\ttotal: 726ms\tremaining: 143ms\n",
      "167:\tlearn: 0.3218481\ttotal: 729ms\tremaining: 139ms\n",
      "168:\tlearn: 0.3209571\ttotal: 734ms\tremaining: 135ms\n",
      "169:\tlearn: 0.3200492\ttotal: 738ms\tremaining: 130ms\n",
      "170:\tlearn: 0.3189373\ttotal: 741ms\tremaining: 126ms\n",
      "171:\tlearn: 0.3179033\ttotal: 745ms\tremaining: 121ms\n",
      "172:\tlearn: 0.3172849\ttotal: 750ms\tremaining: 117ms\n",
      "173:\tlearn: 0.3166655\ttotal: 754ms\tremaining: 113ms\n",
      "174:\tlearn: 0.3157718\ttotal: 757ms\tremaining: 108ms\n",
      "175:\tlearn: 0.3150160\ttotal: 761ms\tremaining: 104ms\n",
      "176:\tlearn: 0.3142830\ttotal: 765ms\tremaining: 99.4ms\n",
      "177:\tlearn: 0.3138662\ttotal: 769ms\tremaining: 95ms\n",
      "178:\tlearn: 0.3133629\ttotal: 773ms\tremaining: 90.7ms\n",
      "179:\tlearn: 0.3125061\ttotal: 777ms\tremaining: 86.3ms\n",
      "180:\tlearn: 0.3115252\ttotal: 780ms\tremaining: 81.9ms\n",
      "181:\tlearn: 0.3110208\ttotal: 784ms\tremaining: 77.6ms\n",
      "182:\tlearn: 0.3105547\ttotal: 788ms\tremaining: 73.2ms\n",
      "183:\tlearn: 0.3094534\ttotal: 792ms\tremaining: 68.9ms\n",
      "184:\tlearn: 0.3087456\ttotal: 796ms\tremaining: 64.6ms\n",
      "185:\tlearn: 0.3079835\ttotal: 800ms\tremaining: 60.2ms\n",
      "186:\tlearn: 0.3072245\ttotal: 804ms\tremaining: 55.9ms\n",
      "187:\tlearn: 0.3061540\ttotal: 808ms\tremaining: 51.6ms\n",
      "188:\tlearn: 0.3054721\ttotal: 813ms\tremaining: 47.3ms\n",
      "189:\tlearn: 0.3048467\ttotal: 817ms\tremaining: 43ms\n",
      "190:\tlearn: 0.3042662\ttotal: 821ms\tremaining: 38.7ms\n",
      "191:\tlearn: 0.3037025\ttotal: 825ms\tremaining: 34.4ms\n",
      "192:\tlearn: 0.3028928\ttotal: 828ms\tremaining: 30ms\n",
      "193:\tlearn: 0.3020155\ttotal: 833ms\tremaining: 25.7ms\n",
      "194:\tlearn: 0.3010007\ttotal: 836ms\tremaining: 21.4ms\n",
      "195:\tlearn: 0.3002253\ttotal: 840ms\tremaining: 17.1ms\n",
      "196:\tlearn: 0.2999682\ttotal: 842ms\tremaining: 12.8ms\n",
      "197:\tlearn: 0.2994228\ttotal: 846ms\tremaining: 8.54ms\n",
      "198:\tlearn: 0.2986712\ttotal: 849ms\tremaining: 4.27ms\n",
      "199:\tlearn: 0.2980459\ttotal: 853ms\tremaining: 0us\n"
     ]
    },
    {
     "data": {
      "text/plain": [
       "GridSearchCV(cv=5,\n",
       "             estimator=<catboost.core.CatBoostClassifier object at 0x000002F4DD7E0490>,\n",
       "             n_jobs=-1,\n",
       "             param_grid={'depth': [3, 5, 8], 'iterations': [200, 500],\n",
       "                         'learning_rate': [0.01, 0.05, 0.1]},\n",
       "             verbose=2)"
      ]
     },
     "execution_count": 289,
     "metadata": {},
     "output_type": "execute_result"
    }
   ],
   "source": [
    "catb = CatBoostClassifier()\n",
    "catb_cv_model = GridSearchCV(catb, catb_params, cv=5, n_jobs = -1, verbose = 2)\n",
    "catb_cv_model.fit(X_train, y_train)"
   ]
  },
  {
   "cell_type": "code",
   "execution_count": 290,
   "metadata": {},
   "outputs": [
    {
     "data": {
      "text/plain": [
       "{'depth': 8, 'iterations': 200, 'learning_rate': 0.01}"
      ]
     },
     "execution_count": 290,
     "metadata": {},
     "output_type": "execute_result"
    }
   ],
   "source": [
    "catb_cv_model.best_params_"
   ]
  },
  {
   "cell_type": "code",
   "execution_count": 291,
   "metadata": {},
   "outputs": [
    {
     "name": "stdout",
     "output_type": "stream",
     "text": [
      "0:\tlearn: 0.6863412\ttotal: 3.54ms\tremaining: 705ms\n",
      "1:\tlearn: 0.6811322\ttotal: 6.88ms\tremaining: 681ms\n",
      "2:\tlearn: 0.6753199\ttotal: 9.83ms\tremaining: 646ms\n",
      "3:\tlearn: 0.6697717\ttotal: 12.8ms\tremaining: 629ms\n",
      "4:\tlearn: 0.6642090\ttotal: 15.9ms\tremaining: 621ms\n",
      "5:\tlearn: 0.6577038\ttotal: 19.1ms\tremaining: 619ms\n",
      "6:\tlearn: 0.6522290\ttotal: 22.2ms\tremaining: 611ms\n",
      "7:\tlearn: 0.6466015\ttotal: 25ms\tremaining: 600ms\n",
      "8:\tlearn: 0.6408068\ttotal: 27.8ms\tremaining: 591ms\n",
      "9:\tlearn: 0.6358218\ttotal: 30.6ms\tremaining: 582ms\n",
      "10:\tlearn: 0.6300444\ttotal: 33.4ms\tremaining: 575ms\n",
      "11:\tlearn: 0.6240992\ttotal: 36.3ms\tremaining: 569ms\n",
      "12:\tlearn: 0.6196618\ttotal: 39.2ms\tremaining: 564ms\n",
      "13:\tlearn: 0.6149237\ttotal: 42.1ms\tremaining: 559ms\n",
      "14:\tlearn: 0.6093146\ttotal: 45ms\tremaining: 554ms\n",
      "15:\tlearn: 0.6047282\ttotal: 48ms\tremaining: 552ms\n",
      "16:\tlearn: 0.6013242\ttotal: 50.8ms\tremaining: 547ms\n",
      "17:\tlearn: 0.5958624\ttotal: 53.6ms\tremaining: 542ms\n",
      "18:\tlearn: 0.5903733\ttotal: 56.5ms\tremaining: 539ms\n",
      "19:\tlearn: 0.5866505\ttotal: 59.8ms\tremaining: 538ms\n",
      "20:\tlearn: 0.5831865\ttotal: 63ms\tremaining: 537ms\n",
      "21:\tlearn: 0.5787839\ttotal: 66.3ms\tremaining: 537ms\n",
      "22:\tlearn: 0.5749453\ttotal: 69.5ms\tremaining: 535ms\n",
      "23:\tlearn: 0.5703621\ttotal: 73.2ms\tremaining: 537ms\n",
      "24:\tlearn: 0.5662773\ttotal: 77.7ms\tremaining: 544ms\n",
      "25:\tlearn: 0.5629069\ttotal: 81.7ms\tremaining: 547ms\n",
      "26:\tlearn: 0.5589454\ttotal: 85.3ms\tremaining: 546ms\n",
      "27:\tlearn: 0.5544253\ttotal: 88.5ms\tremaining: 544ms\n",
      "28:\tlearn: 0.5504193\ttotal: 91.8ms\tremaining: 541ms\n",
      "29:\tlearn: 0.5470888\ttotal: 94.7ms\tremaining: 537ms\n",
      "30:\tlearn: 0.5441572\ttotal: 97.8ms\tremaining: 533ms\n",
      "31:\tlearn: 0.5396568\ttotal: 101ms\tremaining: 529ms\n",
      "32:\tlearn: 0.5356520\ttotal: 104ms\tremaining: 525ms\n",
      "33:\tlearn: 0.5315662\ttotal: 107ms\tremaining: 520ms\n",
      "34:\tlearn: 0.5280107\ttotal: 109ms\tremaining: 516ms\n",
      "35:\tlearn: 0.5248634\ttotal: 112ms\tremaining: 512ms\n",
      "36:\tlearn: 0.5224134\ttotal: 115ms\tremaining: 507ms\n",
      "37:\tlearn: 0.5198514\ttotal: 118ms\tremaining: 502ms\n",
      "38:\tlearn: 0.5167668\ttotal: 121ms\tremaining: 498ms\n",
      "39:\tlearn: 0.5139063\ttotal: 124ms\tremaining: 494ms\n",
      "40:\tlearn: 0.5101721\ttotal: 127ms\tremaining: 493ms\n",
      "41:\tlearn: 0.5066326\ttotal: 131ms\tremaining: 493ms\n",
      "42:\tlearn: 0.5033936\ttotal: 135ms\tremaining: 492ms\n",
      "43:\tlearn: 0.5006117\ttotal: 138ms\tremaining: 489ms\n",
      "44:\tlearn: 0.4980917\ttotal: 143ms\tremaining: 491ms\n",
      "45:\tlearn: 0.4959463\ttotal: 146ms\tremaining: 489ms\n",
      "46:\tlearn: 0.4934198\ttotal: 149ms\tremaining: 484ms\n",
      "47:\tlearn: 0.4906410\ttotal: 151ms\tremaining: 480ms\n",
      "48:\tlearn: 0.4878576\ttotal: 154ms\tremaining: 475ms\n",
      "49:\tlearn: 0.4850977\ttotal: 157ms\tremaining: 470ms\n",
      "50:\tlearn: 0.4826157\ttotal: 159ms\tremaining: 466ms\n",
      "51:\tlearn: 0.4798530\ttotal: 162ms\tremaining: 462ms\n",
      "52:\tlearn: 0.4776349\ttotal: 165ms\tremaining: 458ms\n",
      "53:\tlearn: 0.4754652\ttotal: 168ms\tremaining: 454ms\n",
      "54:\tlearn: 0.4733755\ttotal: 170ms\tremaining: 449ms\n",
      "55:\tlearn: 0.4706337\ttotal: 173ms\tremaining: 444ms\n",
      "56:\tlearn: 0.4677619\ttotal: 176ms\tremaining: 441ms\n",
      "57:\tlearn: 0.4657008\ttotal: 179ms\tremaining: 438ms\n",
      "58:\tlearn: 0.4637682\ttotal: 182ms\tremaining: 435ms\n",
      "59:\tlearn: 0.4615518\ttotal: 186ms\tremaining: 434ms\n",
      "60:\tlearn: 0.4600032\ttotal: 190ms\tremaining: 432ms\n",
      "61:\tlearn: 0.4584260\ttotal: 191ms\tremaining: 426ms\n",
      "62:\tlearn: 0.4567343\ttotal: 194ms\tremaining: 422ms\n",
      "63:\tlearn: 0.4541223\ttotal: 197ms\tremaining: 418ms\n",
      "64:\tlearn: 0.4530108\ttotal: 198ms\tremaining: 410ms\n",
      "65:\tlearn: 0.4512377\ttotal: 200ms\tremaining: 407ms\n",
      "66:\tlearn: 0.4487025\ttotal: 203ms\tremaining: 403ms\n",
      "67:\tlearn: 0.4468152\ttotal: 206ms\tremaining: 399ms\n",
      "68:\tlearn: 0.4449902\ttotal: 208ms\tremaining: 396ms\n",
      "69:\tlearn: 0.4426412\ttotal: 211ms\tremaining: 392ms\n",
      "70:\tlearn: 0.4401906\ttotal: 214ms\tremaining: 388ms\n",
      "71:\tlearn: 0.4380992\ttotal: 216ms\tremaining: 385ms\n",
      "72:\tlearn: 0.4367450\ttotal: 219ms\tremaining: 381ms\n",
      "73:\tlearn: 0.4353520\ttotal: 222ms\tremaining: 377ms\n",
      "74:\tlearn: 0.4340243\ttotal: 224ms\tremaining: 374ms\n",
      "75:\tlearn: 0.4315947\ttotal: 227ms\tremaining: 370ms\n",
      "76:\tlearn: 0.4298990\ttotal: 229ms\tremaining: 366ms\n",
      "77:\tlearn: 0.4285587\ttotal: 232ms\tremaining: 363ms\n",
      "78:\tlearn: 0.4266109\ttotal: 235ms\tremaining: 360ms\n",
      "79:\tlearn: 0.4244339\ttotal: 238ms\tremaining: 356ms\n",
      "80:\tlearn: 0.4228679\ttotal: 240ms\tremaining: 353ms\n",
      "81:\tlearn: 0.4214531\ttotal: 243ms\tremaining: 350ms\n",
      "82:\tlearn: 0.4200925\ttotal: 246ms\tremaining: 347ms\n",
      "83:\tlearn: 0.4184640\ttotal: 249ms\tremaining: 344ms\n",
      "84:\tlearn: 0.4168303\ttotal: 252ms\tremaining: 341ms\n",
      "85:\tlearn: 0.4156724\ttotal: 255ms\tremaining: 338ms\n",
      "86:\tlearn: 0.4140974\ttotal: 259ms\tremaining: 336ms\n",
      "87:\tlearn: 0.4124542\ttotal: 261ms\tremaining: 332ms\n",
      "88:\tlearn: 0.4107650\ttotal: 263ms\tremaining: 329ms\n",
      "89:\tlearn: 0.4091247\ttotal: 266ms\tremaining: 325ms\n",
      "90:\tlearn: 0.4075743\ttotal: 268ms\tremaining: 321ms\n",
      "91:\tlearn: 0.4062728\ttotal: 271ms\tremaining: 319ms\n",
      "92:\tlearn: 0.4044987\ttotal: 274ms\tremaining: 315ms\n",
      "93:\tlearn: 0.4030509\ttotal: 277ms\tremaining: 312ms\n",
      "94:\tlearn: 0.4012366\ttotal: 279ms\tremaining: 309ms\n",
      "95:\tlearn: 0.3995010\ttotal: 282ms\tremaining: 306ms\n",
      "96:\tlearn: 0.3983567\ttotal: 285ms\tremaining: 302ms\n",
      "97:\tlearn: 0.3970163\ttotal: 287ms\tremaining: 299ms\n",
      "98:\tlearn: 0.3955954\ttotal: 290ms\tremaining: 295ms\n",
      "99:\tlearn: 0.3946458\ttotal: 292ms\tremaining: 292ms\n",
      "100:\tlearn: 0.3932682\ttotal: 294ms\tremaining: 289ms\n",
      "101:\tlearn: 0.3921086\ttotal: 297ms\tremaining: 285ms\n",
      "102:\tlearn: 0.3912041\ttotal: 299ms\tremaining: 281ms\n",
      "103:\tlearn: 0.3896085\ttotal: 301ms\tremaining: 278ms\n",
      "104:\tlearn: 0.3881310\ttotal: 303ms\tremaining: 275ms\n",
      "105:\tlearn: 0.3867841\ttotal: 306ms\tremaining: 271ms\n",
      "106:\tlearn: 0.3855611\ttotal: 308ms\tremaining: 268ms\n",
      "107:\tlearn: 0.3841345\ttotal: 310ms\tremaining: 264ms\n",
      "108:\tlearn: 0.3829608\ttotal: 313ms\tremaining: 261ms\n",
      "109:\tlearn: 0.3819127\ttotal: 315ms\tremaining: 258ms\n",
      "110:\tlearn: 0.3810000\ttotal: 318ms\tremaining: 255ms\n",
      "111:\tlearn: 0.3790356\ttotal: 320ms\tremaining: 252ms\n",
      "112:\tlearn: 0.3774673\ttotal: 322ms\tremaining: 248ms\n",
      "113:\tlearn: 0.3762712\ttotal: 325ms\tremaining: 245ms\n",
      "114:\tlearn: 0.3750760\ttotal: 327ms\tremaining: 242ms\n",
      "115:\tlearn: 0.3735547\ttotal: 329ms\tremaining: 238ms\n",
      "116:\tlearn: 0.3728015\ttotal: 332ms\tremaining: 235ms\n",
      "117:\tlearn: 0.3714192\ttotal: 335ms\tremaining: 233ms\n",
      "118:\tlearn: 0.3705935\ttotal: 337ms\tremaining: 229ms\n",
      "119:\tlearn: 0.3694736\ttotal: 339ms\tremaining: 226ms\n",
      "120:\tlearn: 0.3687791\ttotal: 342ms\tremaining: 223ms\n",
      "121:\tlearn: 0.3679782\ttotal: 344ms\tremaining: 220ms\n",
      "122:\tlearn: 0.3666547\ttotal: 346ms\tremaining: 217ms\n",
      "123:\tlearn: 0.3655144\ttotal: 348ms\tremaining: 214ms\n",
      "124:\tlearn: 0.3643546\ttotal: 351ms\tremaining: 210ms\n",
      "125:\tlearn: 0.3636557\ttotal: 353ms\tremaining: 207ms\n",
      "126:\tlearn: 0.3625550\ttotal: 355ms\tremaining: 204ms\n",
      "127:\tlearn: 0.3610147\ttotal: 357ms\tremaining: 201ms\n",
      "128:\tlearn: 0.3596348\ttotal: 360ms\tremaining: 198ms\n",
      "129:\tlearn: 0.3584074\ttotal: 363ms\tremaining: 195ms\n",
      "130:\tlearn: 0.3569602\ttotal: 365ms\tremaining: 192ms\n",
      "131:\tlearn: 0.3558913\ttotal: 368ms\tremaining: 190ms\n",
      "132:\tlearn: 0.3548689\ttotal: 371ms\tremaining: 187ms\n",
      "133:\tlearn: 0.3533837\ttotal: 374ms\tremaining: 184ms\n",
      "134:\tlearn: 0.3524619\ttotal: 378ms\tremaining: 182ms\n",
      "135:\tlearn: 0.3518338\ttotal: 381ms\tremaining: 179ms\n",
      "136:\tlearn: 0.3505366\ttotal: 384ms\tremaining: 177ms\n",
      "137:\tlearn: 0.3497723\ttotal: 387ms\tremaining: 174ms\n",
      "138:\tlearn: 0.3489030\ttotal: 389ms\tremaining: 171ms\n",
      "139:\tlearn: 0.3482652\ttotal: 392ms\tremaining: 168ms\n",
      "140:\tlearn: 0.3471165\ttotal: 395ms\tremaining: 165ms\n",
      "141:\tlearn: 0.3458630\ttotal: 397ms\tremaining: 162ms\n",
      "142:\tlearn: 0.3445867\ttotal: 400ms\tremaining: 159ms\n",
      "143:\tlearn: 0.3436773\ttotal: 402ms\tremaining: 157ms\n",
      "144:\tlearn: 0.3426979\ttotal: 405ms\tremaining: 154ms\n",
      "145:\tlearn: 0.3417627\ttotal: 407ms\tremaining: 151ms\n",
      "146:\tlearn: 0.3407937\ttotal: 410ms\tremaining: 148ms\n",
      "147:\tlearn: 0.3398191\ttotal: 413ms\tremaining: 145ms\n",
      "148:\tlearn: 0.3390524\ttotal: 416ms\tremaining: 142ms\n",
      "149:\tlearn: 0.3381671\ttotal: 419ms\tremaining: 140ms\n",
      "150:\tlearn: 0.3375138\ttotal: 421ms\tremaining: 137ms\n",
      "151:\tlearn: 0.3365898\ttotal: 424ms\tremaining: 134ms\n",
      "152:\tlearn: 0.3358887\ttotal: 427ms\tremaining: 131ms\n",
      "153:\tlearn: 0.3346492\ttotal: 430ms\tremaining: 128ms\n",
      "154:\tlearn: 0.3336018\ttotal: 434ms\tremaining: 126ms\n",
      "155:\tlearn: 0.3330832\ttotal: 437ms\tremaining: 123ms\n",
      "156:\tlearn: 0.3324238\ttotal: 439ms\tremaining: 120ms\n",
      "157:\tlearn: 0.3312569\ttotal: 441ms\tremaining: 117ms\n",
      "158:\tlearn: 0.3299834\ttotal: 443ms\tremaining: 114ms\n",
      "159:\tlearn: 0.3286908\ttotal: 446ms\tremaining: 112ms\n",
      "160:\tlearn: 0.3276277\ttotal: 449ms\tremaining: 109ms\n",
      "161:\tlearn: 0.3267134\ttotal: 451ms\tremaining: 106ms\n",
      "162:\tlearn: 0.3259380\ttotal: 453ms\tremaining: 103ms\n",
      "163:\tlearn: 0.3249529\ttotal: 455ms\tremaining: 100ms\n",
      "164:\tlearn: 0.3241876\ttotal: 458ms\tremaining: 97.1ms\n",
      "165:\tlearn: 0.3237797\ttotal: 460ms\tremaining: 94.2ms\n",
      "166:\tlearn: 0.3228611\ttotal: 462ms\tremaining: 91.4ms\n",
      "167:\tlearn: 0.3218481\ttotal: 465ms\tremaining: 88.5ms\n",
      "168:\tlearn: 0.3209571\ttotal: 467ms\tremaining: 85.7ms\n",
      "169:\tlearn: 0.3200492\ttotal: 469ms\tremaining: 82.8ms\n",
      "170:\tlearn: 0.3189373\ttotal: 472ms\tremaining: 80ms\n",
      "171:\tlearn: 0.3179033\ttotal: 474ms\tremaining: 77.2ms\n",
      "172:\tlearn: 0.3172849\ttotal: 476ms\tremaining: 74.3ms\n",
      "173:\tlearn: 0.3166655\ttotal: 478ms\tremaining: 71.5ms\n",
      "174:\tlearn: 0.3157718\ttotal: 481ms\tremaining: 68.7ms\n",
      "175:\tlearn: 0.3150160\ttotal: 483ms\tremaining: 65.8ms\n",
      "176:\tlearn: 0.3142830\ttotal: 485ms\tremaining: 63ms\n",
      "177:\tlearn: 0.3138662\ttotal: 487ms\tremaining: 60.2ms\n",
      "178:\tlearn: 0.3133629\ttotal: 490ms\tremaining: 57.4ms\n",
      "179:\tlearn: 0.3125061\ttotal: 492ms\tremaining: 54.7ms\n",
      "180:\tlearn: 0.3115252\ttotal: 494ms\tremaining: 51.9ms\n",
      "181:\tlearn: 0.3110208\ttotal: 497ms\tremaining: 49.1ms\n",
      "182:\tlearn: 0.3105547\ttotal: 499ms\tremaining: 46.3ms\n",
      "183:\tlearn: 0.3094534\ttotal: 501ms\tremaining: 43.6ms\n",
      "184:\tlearn: 0.3087456\ttotal: 503ms\tremaining: 40.8ms\n",
      "185:\tlearn: 0.3079835\ttotal: 506ms\tremaining: 38.1ms\n",
      "186:\tlearn: 0.3072245\ttotal: 508ms\tremaining: 35.3ms\n",
      "187:\tlearn: 0.3061540\ttotal: 510ms\tremaining: 32.6ms\n",
      "188:\tlearn: 0.3054721\ttotal: 513ms\tremaining: 29.8ms\n",
      "189:\tlearn: 0.3048467\ttotal: 515ms\tremaining: 27.1ms\n",
      "190:\tlearn: 0.3042662\ttotal: 517ms\tremaining: 24.4ms\n",
      "191:\tlearn: 0.3037025\ttotal: 519ms\tremaining: 21.6ms\n",
      "192:\tlearn: 0.3028928\ttotal: 521ms\tremaining: 18.9ms\n",
      "193:\tlearn: 0.3020155\ttotal: 524ms\tremaining: 16.2ms\n",
      "194:\tlearn: 0.3010007\ttotal: 526ms\tremaining: 13.5ms\n",
      "195:\tlearn: 0.3002253\ttotal: 528ms\tremaining: 10.8ms\n",
      "196:\tlearn: 0.2999682\ttotal: 530ms\tremaining: 8.07ms\n",
      "197:\tlearn: 0.2994228\ttotal: 532ms\tremaining: 5.37ms\n",
      "198:\tlearn: 0.2986712\ttotal: 534ms\tremaining: 2.68ms\n",
      "199:\tlearn: 0.2980459\ttotal: 537ms\tremaining: 0us\n"
     ]
    }
   ],
   "source": [
    "catb = CatBoostClassifier(iterations = 200, \n",
    "                          learning_rate = 0.01, \n",
    "                          depth = 8)\n",
    "\n",
    "catb_tuned = catb.fit(X_train, y_train)\n",
    "y_pred = catb_tuned.predict(X_test)"
   ]
  },
  {
   "cell_type": "code",
   "execution_count": 292,
   "metadata": {},
   "outputs": [
    {
     "data": {
      "text/plain": [
       "0.7532467532467533"
      ]
     },
     "execution_count": 292,
     "metadata": {},
     "output_type": "execute_result"
    }
   ],
   "source": [
    "y_pred = catb_tuned.predict(X_test)\n",
    "accuracy_score(y_test, y_pred)"
   ]
  },
  {
   "cell_type": "code",
   "execution_count": 293,
   "metadata": {},
   "outputs": [],
   "source": [
    "##The model precision of model  is 75% after model tuning by using  CatBoost  algorithms."
   ]
  },
  {
   "cell_type": "markdown",
   "metadata": {},
   "source": [
    "# Compare All Models "
   ]
  },
  {
   "cell_type": "code",
   "execution_count": 535,
   "metadata": {},
   "outputs": [
    {
     "name": "stdout",
     "output_type": "stream",
     "text": [
      "----------------------------\n",
      "KNeighborsClassifier:\n",
      "Accuracy: 73.1602%\n",
      "----------------------------\n",
      "LogisticRegression:\n",
      "Accuracy: 75.3247%\n",
      "----------------------------\n",
      "SVC:\n",
      "Accuracy: 73.5931%\n",
      "----------------------------\n",
      "GaussianNB:\n",
      "Accuracy: 74.4589%\n",
      "----------------------------\n",
      "MLPClassifier:\n",
      "Accuracy: 69.2641%\n",
      "----------------------------\n",
      "DecisionTreeClassifier:\n",
      "Accuracy: 75.3247%\n",
      "----------------------------\n",
      "RandomForestClassifier:\n",
      "Accuracy: 73.5931%\n",
      "----------------------------\n",
      "GradientBoostingClassifier:\n",
      "Accuracy: 74.4589%\n",
      "----------------------------\n",
      "CatBoostClassifier:\n",
      "Accuracy: 75.3247%\n",
      "----------------------------\n",
      "LGBMClassifier:\n",
      "Accuracy: 74.8918%\n",
      "----------------------------\n",
      "XGBClassifier:\n",
      "Accuracy: 75.7576%\n"
     ]
    }
   ],
   "source": [
    "models = [\n",
    "    knn_tuned,\n",
    "    loj_model,\n",
    "    svc_tuned,\n",
    "    nb_model,\n",
    "    mlpc_tuned,\n",
    "    cart_tuned,\n",
    "    rf_tuned,\n",
    "    gbm_tuned,\n",
    "    catb_tuned,\n",
    "    lgbm_tuned,\n",
    "    xgb_tuned\n",
    "    \n",
    "]\n",
    "\n",
    "\n",
    "for model in models:\n",
    "    names=model.__class__.__name__\n",
    "    if names== \"MLPClassifier\":\n",
    "        y_pred=model.predict(X_test_scaled)\n",
    "    else:\n",
    "         y_pred=model.predict(X_test)\n",
    "    accuracy = accuracy_score(y_test, y_pred)\n",
    "    print(\"-\"*28)\n",
    "    print(names + \":\" )\n",
    "    print(\"Accuracy: {:.4%}\".format(accuracy))"
   ]
  },
  {
   "cell_type": "code",
   "execution_count": 536,
   "metadata": {},
   "outputs": [
    {
     "data": {
      "image/png": "[encoded data removed]",
      "text/plain": [
       "<Figure size 432x288 with 1 Axes>"
      ]
     },
     "metadata": {
      "needs_background": "light"
     },
     "output_type": "display_data"
    }
   ],
   "source": [
    "result = []\n",
    "\n",
    "results = pd.DataFrame(columns= [\"Models\",\"Accuracy\"])\n",
    "\n",
    "for model in models:\n",
    "    names=model.__class__.__name__\n",
    "    if names== \"MLPClassifier\":\n",
    "        y_pred=model.predict(X_test_scaled)\n",
    "    else:\n",
    "         y_pred=model.predict(X_test)\n",
    "    accuracy = accuracy_score(y_test, y_pred)\n",
    "    result = pd.DataFrame([[names, accuracy*100]], columns= [\"Models\",\"Accuracy\"])\n",
    "    results = results.append(result)\n",
    "    \n",
    "    \n",
    "ax = sns.barplot(y=\"Models\", x=\"Accuracy\",  data=results, ci=None)\n",
    "\n",
    "for p in ax.patches:\n",
    "    ax.annotate(\"%.1f\" % p.get_width(), xy=(p.get_width(), p.get_y()+p.get_height()/2),\n",
    "            xytext=(-25, 0), textcoords='offset points', ha=\"left\", va=\"center\")\n",
    "\n",
    "\n",
    "   "
   ]
  },
  {
   "cell_type": "markdown",
   "metadata": {},
   "source": [
    "## CONCLUSION"
   ]
  },
  {
   "cell_type": "markdown",
   "metadata": {},
   "source": [
    "The results show that eXtreme Gradient Boosting (XGBoost) algorithm is winner for this dataset.\n",
    "However, for simplicity i used basic hiperparameters which can  cause in a big impact on the algorithms behave.\n",
    "Even though XGB even so slow and there is a small difference in compete with competitors, it managed to win.\n"
   ]
  },
  {
   "cell_type": "code",
   "execution_count": null,
   "metadata": {},
   "outputs": [],
   "source": []
  }
 ],
 "metadata": {
  "kernelspec": {
   "display_name": "Python 3",
   "language": "python",
   "name": "python3"
  },
  "language_info": {
   "codemirror_mode": {
    "name": "ipython",
    "version": 3
   },
   "file_extension": ".py",
   "mimetype": "text/x-python",
   "name": "python",
   "nbconvert_exporter": "python",
   "pygments_lexer": "ipython3",
   "version": "3.8.5"
  }
 },
 "nbformat": 4,
 "nbformat_minor": 4
}
